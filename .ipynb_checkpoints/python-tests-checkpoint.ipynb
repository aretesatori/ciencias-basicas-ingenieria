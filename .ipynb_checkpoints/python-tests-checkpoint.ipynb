{
 "cells": [
  {
   "cell_type": "code",
   "execution_count": 4,
   "id": "323effcc-fb41-4f26-b887-d44d25076937",
   "metadata": {},
   "outputs": [
    {
     "data": {
      "text/html": [
       "<div style=\"display: table;\"><div style=\"display: table-row;\"><div style=\"display: table-cell;\"><b title=\"bokeh.models.renderers.GlyphRenderer\">GlyphRenderer</b>(</div><div style=\"display: table-cell;\">id&nbsp;=&nbsp;'1039', <span id=\"1042\" style=\"cursor: pointer;\">&hellip;)</span></div></div><div class=\"1041\" style=\"display: none;\"><div style=\"display: table-cell;\"></div><div style=\"display: table-cell;\">coordinates&nbsp;=&nbsp;None,</div></div><div class=\"1041\" style=\"display: none;\"><div style=\"display: table-cell;\"></div><div style=\"display: table-cell;\">data_source&nbsp;=&nbsp;ColumnDataSource(id='1035', ...),</div></div><div class=\"1041\" style=\"display: none;\"><div style=\"display: table-cell;\"></div><div style=\"display: table-cell;\">glyph&nbsp;=&nbsp;Line(id='1036', ...),</div></div><div class=\"1041\" style=\"display: none;\"><div style=\"display: table-cell;\"></div><div style=\"display: table-cell;\">group&nbsp;=&nbsp;None,</div></div><div class=\"1041\" style=\"display: none;\"><div style=\"display: table-cell;\"></div><div style=\"display: table-cell;\">hover_glyph&nbsp;=&nbsp;None,</div></div><div class=\"1041\" style=\"display: none;\"><div style=\"display: table-cell;\"></div><div style=\"display: table-cell;\">js_event_callbacks&nbsp;=&nbsp;{},</div></div><div class=\"1041\" style=\"display: none;\"><div style=\"display: table-cell;\"></div><div style=\"display: table-cell;\">js_property_callbacks&nbsp;=&nbsp;{},</div></div><div class=\"1041\" style=\"display: none;\"><div style=\"display: table-cell;\"></div><div style=\"display: table-cell;\">level&nbsp;=&nbsp;'glyph',</div></div><div class=\"1041\" style=\"display: none;\"><div style=\"display: table-cell;\"></div><div style=\"display: table-cell;\">muted&nbsp;=&nbsp;False,</div></div><div class=\"1041\" style=\"display: none;\"><div style=\"display: table-cell;\"></div><div style=\"display: table-cell;\">muted_glyph&nbsp;=&nbsp;Line(id='1038', ...),</div></div><div class=\"1041\" style=\"display: none;\"><div style=\"display: table-cell;\"></div><div style=\"display: table-cell;\">name&nbsp;=&nbsp;None,</div></div><div class=\"1041\" style=\"display: none;\"><div style=\"display: table-cell;\"></div><div style=\"display: table-cell;\">nonselection_glyph&nbsp;=&nbsp;Line(id='1037', ...),</div></div><div class=\"1041\" style=\"display: none;\"><div style=\"display: table-cell;\"></div><div style=\"display: table-cell;\">selection_glyph&nbsp;=&nbsp;'auto',</div></div><div class=\"1041\" style=\"display: none;\"><div style=\"display: table-cell;\"></div><div style=\"display: table-cell;\">subscribed_events&nbsp;=&nbsp;[],</div></div><div class=\"1041\" style=\"display: none;\"><div style=\"display: table-cell;\"></div><div style=\"display: table-cell;\">syncable&nbsp;=&nbsp;True,</div></div><div class=\"1041\" style=\"display: none;\"><div style=\"display: table-cell;\"></div><div style=\"display: table-cell;\">tags&nbsp;=&nbsp;[],</div></div><div class=\"1041\" style=\"display: none;\"><div style=\"display: table-cell;\"></div><div style=\"display: table-cell;\">view&nbsp;=&nbsp;CDSView(id='1040', ...),</div></div><div class=\"1041\" style=\"display: none;\"><div style=\"display: table-cell;\"></div><div style=\"display: table-cell;\">visible&nbsp;=&nbsp;True,</div></div><div class=\"1041\" style=\"display: none;\"><div style=\"display: table-cell;\"></div><div style=\"display: table-cell;\">x_range_name&nbsp;=&nbsp;'default',</div></div><div class=\"1041\" style=\"display: none;\"><div style=\"display: table-cell;\"></div><div style=\"display: table-cell;\">y_range_name&nbsp;=&nbsp;'default')</div></div></div>\n",
       "<script>\n",
       "(function() {\n",
       "  let expanded = false;\n",
       "  const ellipsis = document.getElementById(\"1042\");\n",
       "  ellipsis.addEventListener(\"click\", function() {\n",
       "    const rows = document.getElementsByClassName(\"1041\");\n",
       "    for (let i = 0; i < rows.length; i++) {\n",
       "      const el = rows[i];\n",
       "      el.style.display = expanded ? \"none\" : \"table-row\";\n",
       "    }\n",
       "    ellipsis.innerHTML = expanded ? \"&hellip;)\" : \"&lsaquo;&lsaquo;&lsaquo;\";\n",
       "    expanded = !expanded;\n",
       "  });\n",
       "})();\n",
       "</script>\n"
      ],
      "text/plain": [
       "GlyphRenderer(id='1039', ...)"
      ]
     },
     "execution_count": 4,
     "metadata": {},
     "output_type": "execute_result"
    }
   ],
   "source": [
    "#Import the required packages\n",
    "from bokeh.io import output_notebook, output_file, show\n",
    "from bokeh.plotting import figure\n",
    "#Create two data arrays\n",
    "x = [1, 2, 3, 4, 5, 6, 7, 8, 9, 10]\n",
    "y = [11, 12, 13, 14, 15, 16, 17, 18, 19, 20]\n",
    "\n",
    "# Create plot\n",
    "plot = figure(width=400, height=400, title=\"Simple line plot\", x_axis_label=\"x-axis\", y_axis_label = 'y-axis')\n",
    "plot.line(x,y, line_width=2, color='green')\n",
    "\n",
    "\n",
    "#Show plot\n",
    "#show(plot)\n"
   ]
  },
  {
   "cell_type": "code",
   "execution_count": 5,
   "id": "f1933252-9ac3-4480-a961-55af965d21a4",
   "metadata": {},
   "outputs": [
    {
     "data": {
      "text/html": [
       "<div style=\"display: table;\"><div style=\"display: table-row;\"><div style=\"display: table-cell;\"><b title=\"bokeh.models.renderers.GlyphRenderer\">GlyphRenderer</b>(</div><div style=\"display: table-cell;\">id&nbsp;=&nbsp;'1078', <span id=\"1081\" style=\"cursor: pointer;\">&hellip;)</span></div></div><div class=\"1080\" style=\"display: none;\"><div style=\"display: table-cell;\"></div><div style=\"display: table-cell;\">coordinates&nbsp;=&nbsp;None,</div></div><div class=\"1080\" style=\"display: none;\"><div style=\"display: table-cell;\"></div><div style=\"display: table-cell;\">data_source&nbsp;=&nbsp;ColumnDataSource(id='1074', ...),</div></div><div class=\"1080\" style=\"display: none;\"><div style=\"display: table-cell;\"></div><div style=\"display: table-cell;\">glyph&nbsp;=&nbsp;Line(id='1075', ...),</div></div><div class=\"1080\" style=\"display: none;\"><div style=\"display: table-cell;\"></div><div style=\"display: table-cell;\">group&nbsp;=&nbsp;None,</div></div><div class=\"1080\" style=\"display: none;\"><div style=\"display: table-cell;\"></div><div style=\"display: table-cell;\">hover_glyph&nbsp;=&nbsp;None,</div></div><div class=\"1080\" style=\"display: none;\"><div style=\"display: table-cell;\"></div><div style=\"display: table-cell;\">js_event_callbacks&nbsp;=&nbsp;{},</div></div><div class=\"1080\" style=\"display: none;\"><div style=\"display: table-cell;\"></div><div style=\"display: table-cell;\">js_property_callbacks&nbsp;=&nbsp;{},</div></div><div class=\"1080\" style=\"display: none;\"><div style=\"display: table-cell;\"></div><div style=\"display: table-cell;\">level&nbsp;=&nbsp;'glyph',</div></div><div class=\"1080\" style=\"display: none;\"><div style=\"display: table-cell;\"></div><div style=\"display: table-cell;\">muted&nbsp;=&nbsp;False,</div></div><div class=\"1080\" style=\"display: none;\"><div style=\"display: table-cell;\"></div><div style=\"display: table-cell;\">muted_glyph&nbsp;=&nbsp;Line(id='1077', ...),</div></div><div class=\"1080\" style=\"display: none;\"><div style=\"display: table-cell;\"></div><div style=\"display: table-cell;\">name&nbsp;=&nbsp;None,</div></div><div class=\"1080\" style=\"display: none;\"><div style=\"display: table-cell;\"></div><div style=\"display: table-cell;\">nonselection_glyph&nbsp;=&nbsp;Line(id='1076', ...),</div></div><div class=\"1080\" style=\"display: none;\"><div style=\"display: table-cell;\"></div><div style=\"display: table-cell;\">selection_glyph&nbsp;=&nbsp;'auto',</div></div><div class=\"1080\" style=\"display: none;\"><div style=\"display: table-cell;\"></div><div style=\"display: table-cell;\">subscribed_events&nbsp;=&nbsp;[],</div></div><div class=\"1080\" style=\"display: none;\"><div style=\"display: table-cell;\"></div><div style=\"display: table-cell;\">syncable&nbsp;=&nbsp;True,</div></div><div class=\"1080\" style=\"display: none;\"><div style=\"display: table-cell;\"></div><div style=\"display: table-cell;\">tags&nbsp;=&nbsp;[],</div></div><div class=\"1080\" style=\"display: none;\"><div style=\"display: table-cell;\"></div><div style=\"display: table-cell;\">view&nbsp;=&nbsp;CDSView(id='1079', ...),</div></div><div class=\"1080\" style=\"display: none;\"><div style=\"display: table-cell;\"></div><div style=\"display: table-cell;\">visible&nbsp;=&nbsp;True,</div></div><div class=\"1080\" style=\"display: none;\"><div style=\"display: table-cell;\"></div><div style=\"display: table-cell;\">x_range_name&nbsp;=&nbsp;'default',</div></div><div class=\"1080\" style=\"display: none;\"><div style=\"display: table-cell;\"></div><div style=\"display: table-cell;\">y_range_name&nbsp;=&nbsp;'default')</div></div></div>\n",
       "<script>\n",
       "(function() {\n",
       "  let expanded = false;\n",
       "  const ellipsis = document.getElementById(\"1081\");\n",
       "  ellipsis.addEventListener(\"click\", function() {\n",
       "    const rows = document.getElementsByClassName(\"1080\");\n",
       "    for (let i = 0; i < rows.length; i++) {\n",
       "      const el = rows[i];\n",
       "      el.style.display = expanded ? \"none\" : \"table-row\";\n",
       "    }\n",
       "    ellipsis.innerHTML = expanded ? \"&hellip;)\" : \"&lsaquo;&lsaquo;&lsaquo;\";\n",
       "    expanded = !expanded;\n",
       "  });\n",
       "})();\n",
       "</script>\n"
      ],
      "text/plain": [
       "GlyphRenderer(id='1078', ...)"
      ]
     },
     "execution_count": 5,
     "metadata": {},
     "output_type": "execute_result"
    }
   ],
   "source": [
    "\n",
    "\n",
    "from bokeh.plotting import figure, show\n",
    "\n",
    "# 🔁 uncomment and adjust some of the additional parameters to see what they do\n",
    "plot = figure(\n",
    "    height=300,\n",
    "    width=300,\n",
    "    # title='Basic Line Plot',\n",
    "    #  x_axis_label='x',\n",
    "    #  y_axis_label='y'\n",
    ")\n",
    "\n",
    "# 🔁 replace some of the values with different numbers to see how the plot changes\n",
    "x = [1, 2, 3, 4, 5]\n",
    "y = [6, 7, 2, 1, 5]\n",
    "\n",
    "# 🔁 uncomment and adjust some of the additional parameters to see what they do\n",
    "plot.line(\n",
    "    x,\n",
    "    y,\n",
    "    # legend_label=\"Temperature\",\n",
    "    # line_width=2,\n",
    "    # line_color=\"red\",\n",
    ")\n",
    "\n",
    "#show(plot)\n",
    "\n"
   ]
  },
  {
   "cell_type": "code",
   "execution_count": 6,
   "id": "8c14ded4-e9b3-4669-9e0d-b4db554b552d",
   "metadata": {},
   "outputs": [],
   "source": [
    "import numpy as np\n",
    "\n",
    "from bokeh.io import curdoc\n",
    "from bokeh.layouts import column, row\n",
    "from bokeh.models import ColumnDataSource, Slider, TextInput\n",
    "from bokeh.plotting import figure\n",
    "\n",
    "# Set up data\n",
    "N = 200\n",
    "x = np.linspace(0, 4*np.pi, N)\n",
    "y = np.sin(x)\n",
    "source = ColumnDataSource(data=dict(x=x, y=y))\n",
    "\n",
    "\n",
    "# Set up plot\n",
    "plot = figure(height=400, width=400, title=\"my sine wave\",\n",
    "              tools=\"crosshair,pan,reset,save,wheel_zoom\",\n",
    "              x_range=[0, 4*np.pi], y_range=[-2.5, 2.5])\n",
    "\n",
    "plot.line('x', 'y', source=source, line_width=3, line_alpha=0.6)\n",
    "\n",
    "\n",
    "# Set up widgets\n",
    "text = TextInput(title=\"title\", value='my sine wave')\n",
    "offset = Slider(title=\"offset\", value=0.0, start=-5.0, end=5.0, step=0.1)\n",
    "amplitude = Slider(title=\"amplitude\", value=1.0, start=-5.0, end=5.0, step=0.1)\n",
    "phase = Slider(title=\"phase\", value=0.0, start=0.0, end=2*np.pi)\n",
    "freq = Slider(title=\"frequency\", value=1.0, start=0.1, end=5.1, step=0.1)\n",
    "\n",
    "\n",
    "# Set up callbacks\n",
    "def update_title(attrname, old, new):\n",
    "    plot.title.text = text.value\n",
    "\n",
    "text.on_change('value', update_title)\n",
    "\n",
    "def update_data(attrname, old, new):\n",
    "\n",
    "    # Get the current slider values\n",
    "    a = amplitude.value\n",
    "    b = offset.value\n",
    "    w = phase.value\n",
    "    k = freq.value\n",
    "\n",
    "    # Generate the new curve\n",
    "    x = np.linspace(0, 4*np.pi, N)\n",
    "    y = a*np.sin(k*x + w) + b\n",
    "\n",
    "    source.data = dict(x=x, y=y)\n",
    "\n",
    "for w in [offset, amplitude, phase, freq]:\n",
    "    w.on_change('value', update_data)\n",
    "\n",
    "\n",
    "# Set up layouts and add to document\n",
    "inputs = column(text, offset, amplitude, phase, freq)\n",
    "\n",
    "curdoc().add_root(row(inputs, plot, width=800))\n",
    "curdoc().title = \"Sliders\""
   ]
  },
  {
   "cell_type": "code",
   "execution_count": 7,
   "id": "605d781a-a6d6-4bf0-85a7-9d3141e3acae",
   "metadata": {},
   "outputs": [
    {
     "name": "stdout",
     "output_type": "stream",
     "text": [
      "Requirement already satisfied: ipyplot in /opt/miniconda3/envs/jupyter-book-demo/lib/python3.7/site-packages (1.1.2)\n",
      "Requirement already satisfied: shortuuid in /opt/miniconda3/envs/jupyter-book-demo/lib/python3.7/site-packages (from ipyplot) (1.0.13)\n",
      "Requirement already satisfied: IPython in /opt/miniconda3/envs/jupyter-book-demo/lib/python3.7/site-packages (from ipyplot) (7.34.0)\n",
      "Requirement already satisfied: pillow in /opt/miniconda3/envs/jupyter-book-demo/lib/python3.7/site-packages (from ipyplot) (9.0.1)\n",
      "Requirement already satisfied: numpy in /opt/miniconda3/envs/jupyter-book-demo/lib/python3.7/site-packages (from ipyplot) (1.21.5)\n",
      "Requirement already satisfied: jedi>=0.16 in /opt/miniconda3/envs/jupyter-book-demo/lib/python3.7/site-packages (from IPython->ipyplot) (0.19.1)\n",
      "Requirement already satisfied: traitlets>=4.2 in /opt/miniconda3/envs/jupyter-book-demo/lib/python3.7/site-packages (from IPython->ipyplot) (5.9.0)\n",
      "Requirement already satisfied: decorator in /opt/miniconda3/envs/jupyter-book-demo/lib/python3.7/site-packages (from IPython->ipyplot) (5.1.1)\n",
      "Requirement already satisfied: matplotlib-inline in /opt/miniconda3/envs/jupyter-book-demo/lib/python3.7/site-packages (from IPython->ipyplot) (0.1.6)\n",
      "Requirement already satisfied: backcall in /opt/miniconda3/envs/jupyter-book-demo/lib/python3.7/site-packages (from IPython->ipyplot) (0.2.0)\n",
      "Requirement already satisfied: pexpect>4.3 in /opt/miniconda3/envs/jupyter-book-demo/lib/python3.7/site-packages (from IPython->ipyplot) (4.9.0)\n",
      "Requirement already satisfied: pygments in /opt/miniconda3/envs/jupyter-book-demo/lib/python3.7/site-packages (from IPython->ipyplot) (2.17.2)\n",
      "Requirement already satisfied: appnope in /opt/miniconda3/envs/jupyter-book-demo/lib/python3.7/site-packages (from IPython->ipyplot) (0.1.4)\n",
      "Requirement already satisfied: prompt-toolkit!=3.0.0,!=3.0.1,<3.1.0,>=2.0.0 in /opt/miniconda3/envs/jupyter-book-demo/lib/python3.7/site-packages (from IPython->ipyplot) (3.0.43)\n",
      "Requirement already satisfied: pickleshare in /opt/miniconda3/envs/jupyter-book-demo/lib/python3.7/site-packages (from IPython->ipyplot) (0.7.5)\n",
      "Requirement already satisfied: setuptools>=18.5 in /opt/miniconda3/envs/jupyter-book-demo/lib/python3.7/site-packages (from IPython->ipyplot) (65.6.3)\n",
      "Requirement already satisfied: parso<0.9.0,>=0.8.3 in /opt/miniconda3/envs/jupyter-book-demo/lib/python3.7/site-packages (from jedi>=0.16->IPython->ipyplot) (0.8.3)\n",
      "Requirement already satisfied: ptyprocess>=0.5 in /opt/miniconda3/envs/jupyter-book-demo/lib/python3.7/site-packages (from pexpect>4.3->IPython->ipyplot) (0.7.0)\n",
      "Requirement already satisfied: wcwidth in /opt/miniconda3/envs/jupyter-book-demo/lib/python3.7/site-packages (from prompt-toolkit!=3.0.0,!=3.0.1,<3.1.0,>=2.0.0->IPython->ipyplot) (0.2.13)\n"
     ]
    },
    {
     "data": {
      "text/plain": [
       "0"
      ]
     },
     "execution_count": 7,
     "metadata": {},
     "output_type": "execute_result"
    }
   ],
   "source": [
    "import os\n",
    "os.system(\"pip3 install ipyplot\")\n"
   ]
  },
  {
   "cell_type": "code",
   "execution_count": 8,
   "id": "80e07c19-2cfc-4c4c-a0e5-f238ba059b13",
   "metadata": {},
   "outputs": [
    {
     "data": {
      "text/html": [
       "<div style=\"display: table;\"><div style=\"display: table-row;\"><div style=\"display: table-cell;\"><b title=\"bokeh.models.renderers.GlyphRenderer\">GlyphRenderer</b>(</div><div style=\"display: table-cell;\">id&nbsp;=&nbsp;'1170', <span id=\"1173\" style=\"cursor: pointer;\">&hellip;)</span></div></div><div class=\"1172\" style=\"display: none;\"><div style=\"display: table-cell;\"></div><div style=\"display: table-cell;\">coordinates&nbsp;=&nbsp;None,</div></div><div class=\"1172\" style=\"display: none;\"><div style=\"display: table-cell;\"></div><div style=\"display: table-cell;\">data_source&nbsp;=&nbsp;ColumnDataSource(id='1166', ...),</div></div><div class=\"1172\" style=\"display: none;\"><div style=\"display: table-cell;\"></div><div style=\"display: table-cell;\">glyph&nbsp;=&nbsp;Line(id='1167', ...),</div></div><div class=\"1172\" style=\"display: none;\"><div style=\"display: table-cell;\"></div><div style=\"display: table-cell;\">group&nbsp;=&nbsp;None,</div></div><div class=\"1172\" style=\"display: none;\"><div style=\"display: table-cell;\"></div><div style=\"display: table-cell;\">hover_glyph&nbsp;=&nbsp;None,</div></div><div class=\"1172\" style=\"display: none;\"><div style=\"display: table-cell;\"></div><div style=\"display: table-cell;\">js_event_callbacks&nbsp;=&nbsp;{},</div></div><div class=\"1172\" style=\"display: none;\"><div style=\"display: table-cell;\"></div><div style=\"display: table-cell;\">js_property_callbacks&nbsp;=&nbsp;{},</div></div><div class=\"1172\" style=\"display: none;\"><div style=\"display: table-cell;\"></div><div style=\"display: table-cell;\">level&nbsp;=&nbsp;'glyph',</div></div><div class=\"1172\" style=\"display: none;\"><div style=\"display: table-cell;\"></div><div style=\"display: table-cell;\">muted&nbsp;=&nbsp;False,</div></div><div class=\"1172\" style=\"display: none;\"><div style=\"display: table-cell;\"></div><div style=\"display: table-cell;\">muted_glyph&nbsp;=&nbsp;Line(id='1169', ...),</div></div><div class=\"1172\" style=\"display: none;\"><div style=\"display: table-cell;\"></div><div style=\"display: table-cell;\">name&nbsp;=&nbsp;None,</div></div><div class=\"1172\" style=\"display: none;\"><div style=\"display: table-cell;\"></div><div style=\"display: table-cell;\">nonselection_glyph&nbsp;=&nbsp;Line(id='1168', ...),</div></div><div class=\"1172\" style=\"display: none;\"><div style=\"display: table-cell;\"></div><div style=\"display: table-cell;\">selection_glyph&nbsp;=&nbsp;'auto',</div></div><div class=\"1172\" style=\"display: none;\"><div style=\"display: table-cell;\"></div><div style=\"display: table-cell;\">subscribed_events&nbsp;=&nbsp;[],</div></div><div class=\"1172\" style=\"display: none;\"><div style=\"display: table-cell;\"></div><div style=\"display: table-cell;\">syncable&nbsp;=&nbsp;True,</div></div><div class=\"1172\" style=\"display: none;\"><div style=\"display: table-cell;\"></div><div style=\"display: table-cell;\">tags&nbsp;=&nbsp;[],</div></div><div class=\"1172\" style=\"display: none;\"><div style=\"display: table-cell;\"></div><div style=\"display: table-cell;\">view&nbsp;=&nbsp;CDSView(id='1171', ...),</div></div><div class=\"1172\" style=\"display: none;\"><div style=\"display: table-cell;\"></div><div style=\"display: table-cell;\">visible&nbsp;=&nbsp;True,</div></div><div class=\"1172\" style=\"display: none;\"><div style=\"display: table-cell;\"></div><div style=\"display: table-cell;\">x_range_name&nbsp;=&nbsp;'default',</div></div><div class=\"1172\" style=\"display: none;\"><div style=\"display: table-cell;\"></div><div style=\"display: table-cell;\">y_range_name&nbsp;=&nbsp;'default')</div></div></div>\n",
       "<script>\n",
       "(function() {\n",
       "  let expanded = false;\n",
       "  const ellipsis = document.getElementById(\"1173\");\n",
       "  ellipsis.addEventListener(\"click\", function() {\n",
       "    const rows = document.getElementsByClassName(\"1172\");\n",
       "    for (let i = 0; i < rows.length; i++) {\n",
       "      const el = rows[i];\n",
       "      el.style.display = expanded ? \"none\" : \"table-row\";\n",
       "    }\n",
       "    ellipsis.innerHTML = expanded ? \"&hellip;)\" : \"&lsaquo;&lsaquo;&lsaquo;\";\n",
       "    expanded = !expanded;\n",
       "  });\n",
       "})();\n",
       "</script>\n"
      ],
      "text/plain": [
       "GlyphRenderer(id='1170', ...)"
      ]
     },
     "execution_count": 8,
     "metadata": {},
     "output_type": "execute_result"
    }
   ],
   "source": [
    "from bokeh.plotting import figure, show\n",
    "\n",
    "# 🔁 uncomment and adjust some of the additional parameters to see what they do\n",
    "plot = figure(\n",
    "    height=300,\n",
    "    width=300,\n",
    "    # title='Basic Line Plot',\n",
    "    #  x_axis_label='x',\n",
    "    #  y_axis_label='y'/\n",
    ")\n",
    "\n",
    "# 🔁 replace some of the values with different numbers to see how the plot changes\n",
    "x = [1, 1, 5, 1]\n",
    "y = [6, 1, 1, 6]\n",
    "\n",
    "# 🔁 uncomment and adjust some of the additional parameters to see what they do\n",
    "plot.line(\n",
    "    x,\n",
    "    y,\n",
    "    # legend_label=\"Temperature\",\n",
    "    line_width=3,\n",
    "    # line_color=\"red\",\n",
    ")\n",
    "\n",
    "#show(plot)\n"
   ]
  },
  {
   "cell_type": "code",
   "execution_count": 9,
   "id": "2d7e6021-bea5-4802-8010-1e8cef01c222",
   "metadata": {},
   "outputs": [],
   "source": [
    "import ipyplot\n",
    "\n",
    "#ipyplot.plot_images(\n",
    "#    ['http://127.0.0.1/geogebra-export.svg'], # images should be passed in as an array\n",
    "#    img_width=800,\n",
    "#    force_b64=False # this is important to be able to render the image correctly on GitHub\n",
    "#)"
   ]
  },
  {
   "cell_type": "code",
   "execution_count": 10,
   "id": "e4da5edc-4e8c-4098-ab88-ccb56f35fb69",
   "metadata": {},
   "outputs": [
    {
     "name": "stderr",
     "output_type": "stream",
     "text": [
      "UsageError: Line magic function `%install_ext` not found.\n"
     ]
    }
   ],
   "source": [
    "%install_ext https://raw.githubusercontent.com/laurentperrinet/ipython_magics/master/tikzmagic.py"
   ]
  },
  {
   "cell_type": "markdown",
   "id": "860ed3c1-37c0-415c-96d9-32ac60131b66",
   "metadata": {},
   "source": [
    "$$\n",
    "\\documentclass[12pt, tikz, border=5mm]{standalone}\n",
    "\\usetikzlibrary{angles,\n",
    "                quotes}\n",
    "\\usepackage{siunitx}\n",
    "\n",
    "\\begin{document}\n",
    "\\begin{tikzpicture}[\n",
    "my angle/.style = {draw, fill=teal!30,\n",
    "                   angle radius=7mm, \n",
    "                   angle eccentricity=1.1, \n",
    "                   right, inner sep=1pt,\n",
    "                   font=\\footnotesize} \n",
    "                   ]\n",
    "\\draw   (0,0) coordinate[label=below:$A$] (a) --\n",
    "        (4,0) coordinate[label=below:$C$] (c) --\n",
    "        (4,4) coordinate[label=above:$B$] (b) -- cycle;\n",
    "\\pic[my angle, \"$\\alpha=\\SI{45}{\\degree}$\"] {angle = c--a--b};\n",
    "    \\end{tikzpicture}\n",
    "\\end{document}\n",
    "$$"
   ]
  },
  {
   "cell_type": "markdown",
   "id": "8222bb58-5fff-418e-9062-31c3bc0b4e1e",
   "metadata": {},
   "source": [
    " $\\bigstar$\n",
    "\n",
    "$\\bigl\\{\\begin{smallmatrix}2 & 3\\\\ 4 & 1\\end{smallmatrix}\\bigr\\}$\n",
    "\n",
    "$\\quad\\begin{equation}2x + y = 1 \\atop x + y = 4\\end{equation}\\quad$\n",
    "\n",
    "$\\quad\\begin{smallmatrix}2x + y = 1\\\\ x + y = 4\\end{smallmatrix}\\quad$\n",
    "\n",
    "$\\begin{matrix} (2, 1) \\\\ (-2, -1) \\end{matrix}$\n",
    "\n",
    "$\\left\\{\\begin{array}{lr} \\frac{n}{m}\\quad : \\quad n, m \\in\\mathbb{Z}\\quad ; \\quad m\\neq 0 \\end{array}\\right\\}$  "
   ]
  },
  {
   "cell_type": "code",
   "execution_count": 18,
   "id": "45fd1b53-7e40-4cb3-b552-50eb57ba91df",
   "metadata": {
    "scrolled": false
   },
   "outputs": [
    {
     "data": {
      "text/html": [
       "<iframe scrolling=\"no\" title=\"Copy of Binomial Formula\" src=\"https://www.geogebra.org/material/iframe/id/v2b4fnb3/width/1000/height/600/border/888888/sfsb/true/smb/false/stb/false/stbh/false/ai/false/asb/false/sri/false/rc/false/ld/false/sdz/false/ctl/false\" width=\"100%\" height=\"460px\" style=\"border: 0px;\"></iframe>"
      ],
      "text/plain": [
       "<IPython.core.display.HTML object>"
      ]
     },
     "execution_count": 18,
     "metadata": {},
     "output_type": "execute_result"
    }
   ],
   "source": [
    "#import warnings\n",
    "from IPython.display import HTML\n",
    "\n",
    "GEOGEBRA_WIDTH = \"100%\"\n",
    "GEOGEBRA_HEIGHT = \"460px\"\n",
    "\n",
    "#warnings.filterwarnings(\"ignore\")\n",
    "HTML('<iframe scrolling=\"no\" title=\"Copy of Binomial Formula\" src=\"https://www.geogebra.org/material/iframe/id/v2b4fnb3/width/1000/height/600/border/888888/sfsb/true/smb/false/stb/false/stbh/false/ai/false/asb/false/sri/false/rc/false/ld/false/sdz/false/ctl/false\" width=\"' + GEOGEBRA_WIDTH + '\" height=\"' + GEOGEBRA_HEIGHT + '\" style=\"border: 0px;\"></iframe>')\n"
   ]
  },
  {
   "cell_type": "code",
   "execution_count": null,
   "id": "18a94702-f0cb-41f8-9518-4423149b8d15",
   "metadata": {},
   "outputs": [],
   "source": []
  },
  {
   "cell_type": "code",
   "execution_count": null,
   "id": "044fa186-6ba4-4f3f-93e2-a101d6da62cc",
   "metadata": {},
   "outputs": [],
   "source": []
  },
  {
   "cell_type": "markdown",
   "id": "87da2112-44ab-4593-892e-4f45841fe99b",
   "metadata": {},
   "source": [
    "**8.** Considera un solo bucle del cicloide que tenga un valor fijo dea como se muestra en la figura. Un auto liberado del descanso en cualquier punto en $P_{0}$ cualquier lugar de la pista entre $0$ y el punto más bajo $P$, es decir, $P_0$ tiene un parámetro $0<θ_0<\\pi$.\n",
    "\n",
    "<img src=\"https://phys.libretexts.org/@api/deki/files/21135/5.e.1.PNG\"></img>\n",
    "\n",
    "**a.** Demostrar que el tiempo $T$ para que el carro $P$ se deslice de $P_0$ a viene dado por la integral:\n",
    "\n",
    "$T(P_0 \\rightarrow P) = \\sqrt{\\frac{a}{g}} \\int^{\\pi}_{\\theta_0} \\sqrt{\\frac{1 − \\cos \\theta}{ \\cos \\theta_0 − \\cos \\theta}} d\\theta\\nonumber$"
   ]
  },
  {
   "cell_type": "markdown",
   "id": "b2533b87-11b8-4942-aa5a-87148a1db39d",
   "metadata": {},
   "source": [
    "<h1>Hello</h1>\n",
    "\n",
    "<div style=\"width: 100%; height: 100px; background-color: red\"></div>\n",
    "<video width=\"400\" controls>\n",
    "  <source src=\"https://www.w3schools.com/html/mov_bbb.mp4\" type=\"video/mp4\">\n",
    "  Your browser does not support HTML video.\n",
    "</video>\n",
    "<audio controls autoplay>\n",
    "  \n",
    "  <source src=\"https://s3.amazonaws.com/cwa5/AF444765_1715107099_Bc7-BI-UR-L1-ES-01-IN-NE_54-00_56-00.mp3\" type=\"audio/mpeg\">\n",
    "Your browser does not support the audio element.\n",
    "</audio>\n",
    "\n",
    "---\n",
    "\n",
    "<main></main>\n",
    "<script type=\"text/javascript\">\n",
    "    let A = 100;\n",
    "    let B = 0.07;\n",
    "    \n",
    "    function setup() {\n",
    "      createCanvas(600, 600);\n",
    "    }\n",
    "    \n",
    "    function draw() {\n",
    "      background(220);\n",
    "      noFill();\n",
    "      strokeWeight(4);\n",
    "      beginShape();\n",
    "      for(let i = 0; i < width; i++) {\n",
    "        vertex(i, A * sin(B * i) + height / 2);\n",
    "        point(i * 10, i * 2);\n",
    "      }\n",
    "      endShape();\n",
    "    }\n",
    "</script>\n",
    "<p>meow 2</p>"
   ]
  },
  {
   "cell_type": "code",
   "execution_count": null,
   "id": "e939f52d-a244-470e-b83b-c779372500b4",
   "metadata": {},
   "outputs": [],
   "source": [
    "import warnings\n",
    "from IPython.display import HTML\n",
    "\n",
    "warnings.filterwarnings(\"ignore\")\n",
    "HTML('<iframe src=\"https://editor.p5js.org/aretesatori/full/1v2IHAzlO\" width=\"100%\" height=\"600px\"></iframe>')\n",
    "\n"
   ]
  },
  {
   "cell_type": "code",
   "execution_count": null,
   "id": "fa2e9fc8-c842-4377-a60f-8f651bee760d",
   "metadata": {},
   "outputs": [],
   "source": [
    "%pip install p5"
   ]
  },
  {
   "cell_type": "code",
   "execution_count": null,
   "id": "6384fd2d-2c57-4e2c-8a5b-48a89623c098",
   "metadata": {},
   "outputs": [],
   "source": []
  },
  {
   "cell_type": "code",
   "execution_count": null,
   "id": "7f6afa05-a67b-48e0-a5aa-01ef0b2b4473",
   "metadata": {},
   "outputs": [],
   "source": [
    "#import warnings\n",
    "#from IPython.display import HTML\n",
    "\n",
    "#warnings.filterwarnings(\"ignore\")\n",
    "#HTML('<iframe src=\"https://www.desmos.com/calculator/o77uzm8rdb?embed\" width=\"100%\" height=\"500\" style=\"border: 1px solid #ccc\" frameborder=0></iframe>')"
   ]
  },
  {
   "cell_type": "code",
   "execution_count": null,
   "id": "e1885099-c66b-4fe1-aa1c-1e9da2a06d9a",
   "metadata": {},
   "outputs": [],
   "source": [
    "import warnings\n",
    "from IPython.display import HTML\n",
    "\n",
    "warnings.filterwarnings(\"ignore\")\n",
    "HTML('<iframe height=\"500\" style=\"width: 100%;\" scrolling=\"no\" title=\"Native CSS particle animation with sin() and cos()\" src=\"https://codepen.io/giana/embed/LYaOdye?default-tab=result\" frameborder=\"no\" loading=\"lazy\" allowtransparency=\"true\" allowfullscreen=\"true\"></iframe>')"
   ]
  },
  {
   "cell_type": "code",
   "execution_count": null,
   "id": "90b2de08-b6ed-4989-8936-8a25cdd2b0b4",
   "metadata": {},
   "outputs": [],
   "source": [
    "from IPython.display import HTML\n",
    "\n",
    "HTML('<p>Geogebra</p><iframe height=\"500\" style=\"width: 100%;\" scrolling=\"no\" title=\"Test\" src=\"https://www.geogebra.org/graphing\" frameborder=\"no\" loading=\"lazy\" allowtransparency=\"true\" allowfullscreen=\"true\"></iframe>')"
   ]
  },
  {
   "cell_type": "markdown",
   "id": "8e206966-c7db-40ea-a8a3-46a3450372c7",
   "metadata": {},
   "source": [
    ":::{seealso} \n",
    "\n",
    "Puedes estudiar ejemplos con otros modelos probabilísticos en: https://magister-informatica-uach.github.io/INFO337/lectures/11_MCMC/lecture2.html\n",
    "\n",
    ":::\n",
    "\n",
    "\n",
    ":::{attention} \n",
    "\n",
    "I'm attention.\n",
    "\n",
    ":::\n",
    "\n",
    "\n",
    ":::{caution} \n",
    "\n",
    "I'm caution.\n",
    "\n",
    ":::\n",
    "\n",
    "\n",
    ":::{danger} \n",
    "\n",
    "I'm danger.\n",
    "\n",
    ":::\n",
    "\n",
    "\n",
    ":::{error} \n",
    "\n",
    "I'm error.\n",
    "\n",
    ":::\n",
    "\n",
    "\n",
    ":::{hint} \n",
    "\n",
    "I'm hint.\n",
    "\n",
    ":::\n",
    "\n",
    "\n",
    ":::{important} \n",
    "\n",
    "I'm important.\n",
    "\n",
    ":::\n",
    "\n",
    "\n",
    ":::{note} \n",
    "\n",
    "I'm note.\n",
    "\n",
    ":::\n",
    "\n",
    "\n",
    ":::{tip} \n",
    "\n",
    "I'm tip.\n",
    "\n",
    ":::\n",
    "\n",
    "\n",
    ":::{warning} \n",
    "\n",
    "I'm warning.\n",
    "\n",
    ":::\n",
    "\n",
    "\n",
    ":::{admonition}\n",
    "\n",
    "Hello World\n",
    "\n",
    ":::"
   ]
  },
  {
   "cell_type": "markdown",
   "id": "fab8dd77-b3f3-4050-8969-f8d9b2b747e4",
   "metadata": {},
   "source": [
    "$$\\sum_{i=0}^{\\infty} \\frac{1}{10^i}$$"
   ]
  },
  {
   "cell_type": "code",
   "execution_count": null,
   "id": "b23bc68e",
   "metadata": {},
   "outputs": [],
   "source": [
    "from IPython.display import HTML\n",
    "\n",
    "HTML('<button type=\"checkbox\">meow</button>')"
   ]
  },
  {
   "cell_type": "markdown",
   "id": "f4706e12",
   "metadata": {},
   "source": [
    "<!--<style>\n",
    "table, th, td {\n",
    "  border: 1px solid black;\n",
    "  border-collapse: collapse;\n",
    "}\n",
    "</style>-->\n",
    "\n",
    "### Tabla de Signos\n",
    "\n",
    "<table style=\"width:100%\" cellpadding=\"5\">\n",
    "  <tr>\n",
    "    <th colspan=\"5\">\n",
    "      <span style=\"margin-right: 20%;\">$-\\infty$</span>\n",
    "      <span style=\"margin-right: 10%\">$-1$</span>\n",
    "      <span style=\"margin-left: 10%;\">$3$</span>\n",
    "      <span style=\"margin-left: 25%\">$+\\infty$</span>\n",
    "    </th>\n",
    "  </tr>\n",
    "  <tr>\n",
    "    <td style=\"text-align: center; width: 20%;\">$(x-2)$</td>\n",
    "    <td style=\"text-align: center\">$-$</td>\n",
    "    <td style=\"text-align: center\">$+$</td>\n",
    "    <td style=\"text-align: center\">$+$</td>\n",
    "    <td style=\"width: 5%;\"></td>\n",
    "  </tr>\n",
    "  <tr>\n",
    "    <td style=\"text-align: center\">$(x+2)$</td>\n",
    "    <td style=\"text-align: center\">$-$</td>\n",
    "    <td style=\"text-align: center\">$+$</td>\n",
    "    <td style=\"text-align: center\">$+$</td>\n",
    "    <td style=\"width: 5%;\"></td>\n",
    "  </tr>\n",
    "    <tr>\n",
    "    <td style=\"text-align: center\">$(x-2) \\cdot (x+2)$</td>\n",
    "    <td style=\"text-align: center\">$-$</td>\n",
    "    <td style=\"text-align: center\">$+$</td>\n",
    "    <td style=\"text-align: center\">$+$</td>\n",
    "    <td style=\"width: 5%;\"></td>\n",
    "  </tr>\n",
    "</table>\n",
    "\n",
    "\n",
    "<table style=\"width:100%\" cellpadding=\"5\">\n",
    "  <tr>\n",
    "  \t<th></th>\n",
    "    <th colspan=\"6\">\n",
    "      <span style=\"margin-left: 10%; margin-right: 10%;\">-inf</span>\n",
    "      <span style=\"margin-left: 12%; margin-right: 12%;\">-1</span>\n",
    "      <span style=\"margin-left: 10%; margin-right: 0%;\">3</span>\n",
    "      <span style=\"margin-left: 10%; margin-right: 15%;\">+inf</span>\n",
    "    </th>\n",
    "  </tr>\n",
    "  <tr>\n",
    "    <td style=\"text-align: center; width: 20%;\">(x-2)</td>\n",
    "    <td style=\"width: 10%;\"></td>\n",
    "    <td style=\"text-align: center\">-</td>\n",
    "    <td style=\"text-align: center\">+</td>\n",
    "    <td style=\"text-align: center\">+</td>\n",
    "    <td style=\"width: 10%;\"></td>\n",
    "  </tr>\n",
    "  <tr>\n",
    "    <td style=\"text-align: center\">(x+2)</td>\n",
    "    <td style=\"width: 10%;\"></td>\n",
    "    <td style=\"text-align: center\">-</td>\n",
    "    <td style=\"text-align: center\">+</td>\n",
    "    <td style=\"text-align: center\">+</td>\n",
    "    <td style=\"width: 10%;\"></td>\n",
    "  </tr>\n",
    "  <tr>\n",
    "    <td style=\"text-align: center\">(x+2)(x-2)</td>\n",
    "    <td style=\"width: 10%;\"></td>\n",
    "    <td style=\"text-align: center\">-</td>\n",
    "    <td style=\"text-align: center\">+</td>\n",
    "    <td style=\"text-align: center\">+</td>\n",
    "    <td style=\"width: 10%;\"></td>\n",
    "  </tr>\n",
    "</table>"
   ]
  },
  {
   "cell_type": "code",
   "execution_count": 14,
   "id": "2f8d3c71",
   "metadata": {},
   "outputs": [
    {
     "data": {
      "text/html": [
       "<iframe scrolling=\"no\" title=\"Correspondencia de Funciones\" src=\"https://www.geogebra.org/material/iframe/id/acrkjzme/width/750/height/580/border/888888/sfsb/true/smb/false/stb/false/stbh/false/ai/false/asb/false/sri/false/rc/false/ld/false/sdz/false/ctl/false\" width=\"48%\" height=\"500\" style=\"border: 0px;\"></iframe> <iframe scrolling=\"no\" title=\"Correspondencia de Funciones\" src=\"https://www.geogebra.org/material/iframe/id/acrkjzme/width/750/height/580/border/888888/sfsb/true/smb/false/stb/false/stbh/false/ai/false/asb/false/sri/false/rc/false/ld/false/sdz/false/ctl/false\" width=\"48%\" height=\"500\" style=\"border: 0px;\"></iframe>"
      ],
      "text/plain": [
       "<IPython.core.display.HTML object>"
      ]
     },
     "execution_count": 14,
     "metadata": {},
     "output_type": "execute_result"
    }
   ],
   "source": [
    "from IPython.display import HTML\n",
    "\n",
    "HTML('<iframe scrolling=\"no\" title=\"Correspondencia de Funciones\" src=\"https://www.geogebra.org/material/iframe/id/acrkjzme/width/750/height/580/border/888888/sfsb/true/smb/false/stb/false/stbh/false/ai/false/asb/false/sri/false/rc/false/ld/false/sdz/false/ctl/false\" width=\"48%\" height=\"500\" style=\"border: 0px;\"></iframe> <iframe scrolling=\"no\" title=\"Correspondencia de Funciones\" src=\"https://www.geogebra.org/material/iframe/id/acrkjzme/width/750/height/580/border/888888/sfsb/true/smb/false/stb/false/stbh/false/ai/false/asb/false/sri/false/rc/false/ld/false/sdz/false/ctl/false\" width=\"48%\" height=\"500\" style=\"border: 0px;\"></iframe>')\n",
    "#HTML('<iframe scrolling=\"no\" title=\"Correspondencia de Funciones\" src=\"https://www.geogebra.org/material/iframe/id/acrkjzme/width/750/height/580/border/888888/sfsb/true/smb/false/stb/false/stbh/false/ai/false/asb/false/sri/false/rc/false/ld/false/sdz/false/ctl/false\" width=\"50%\" height=\"500\" style=\"border: 0px;\"></iframe>')"
   ]
  },
  {
   "cell_type": "markdown",
   "id": "46c66b93",
   "metadata": {},
   "source": [
    "$$\n",
    "a + b + c = \\underbrace{(a + b) + c}_{\\text{Anotación horizontal inferior}}\n",
    "$$\n",
    "\n",
    "$\\begin{tabular}{|c|c|c|}\n",
    "\\hline\n",
    "\\phantom{\\frac{1}{2}} \\bold{\\(x\\)}& \\bold{\\(\\:\\:y\\)}& \\bold{\\quad\\quad\\;\\;\\;\\(\\)\\quad\\quad\\;\\;\\;}\\\\\n",
    "\\hline\n",
    "\\colorbox{}\\mathsf{{}} & \\colorbox{}\\mathsf{{}} & \\\\\n",
    "\\hline\n",
    "\\colorbox{}\\mathsf{{}} & \\colorbox{}\\mathsf{{}}& \\\\\n",
    "\\hline\n",
    "\\colorbox{}\\mathsf{{ }} & \\colorbox{}\\mathsf{{ }} & \\\\\n",
    "\\hline\n",
    "\\colorbox{}\\mathsf{{ }} & \\colorbox{}\\mathsf{{}} & \\\\\n",
    "\\hline\n",
    "\\end{tabular}$"
   ]
  },
  {
   "cell_type": "code",
   "execution_count": 26,
   "id": "05fe56f3",
   "metadata": {},
   "outputs": [
    {
     "data": {
      "text/html": [
       "\n",
       "<div style=\"display: flex; justify-content: center; align-items: center; width: 100%;\">\n",
       "    <iframe scrolling=\"no\" title=\"Función Cuadrática\" src=\"https://www.geogebra.org/material/iframe/id/vxrpnxfg/width/750/height/580/border/888888/sfsb/true/smb/false/stb/false/stbh/false/ai/false/asb/false/sri/false/rc/false/ld/false/sdz/false/ctl/false\" width=\"100%\" height=\"500\" style=\"border: 0px;\"></iframe>\n",
       "</div>\n"
      ],
      "text/plain": [
       "<IPython.core.display.HTML object>"
      ]
     },
     "execution_count": 26,
     "metadata": {},
     "output_type": "execute_result"
    }
   ],
   "source": [
    "from IPython.display import HTML\n",
    "\n",
    "HTML('''\n",
    "<div style=\"display: flex; justify-content: center; align-items: center; width: 100%;\">\n",
    "    <iframe scrolling=\"no\" title=\"Función Cuadrática\" src=\"https://www.geogebra.org/material/iframe/id/vxrpnxfg/width/750/height/580/border/888888/sfsb/true/smb/false/stb/false/stbh/false/ai/false/asb/false/sri/false/rc/false/ld/false/sdz/false/ctl/false\" width=\"100%\" height=\"500\" style=\"border: 0px;\"></iframe>\n",
    "</div>\n",
    "''')\n",
    "\n",
    "#HTML('<iframe scrolling=\"no\" title=\"Función Cuadrática\" src=\"https://www.geogebra.org/material/iframe/id/vxrpnxfg/width/750/height/580/border/888888/sfsb/true/smb/false/stb/false/stbh/false/ai/false/asb/false/sri/false/rc/false/ld/false/sdz/false/ctl/false\" width=\"100%\" height=\"500\" style=\"border: 0px;\"></iframe>')"
   ]
  },
  {
   "cell_type": "code",
   "execution_count": 34,
   "id": "5310562c",
   "metadata": {},
   "outputs": [
    {
     "name": "stderr",
     "output_type": "stream",
     "text": [
      "/opt/miniconda3/envs/jupyter-book-demo/lib/python3.7/site-packages/IPython/core/display.py:724: UserWarning: Consider using IPython.display.IFrame instead\n",
      "  warnings.warn(\"Consider using IPython.display.IFrame instead\")\n"
     ]
    },
    {
     "data": {
      "text/html": [
       "<iframe height=\"600\" width=\"100%\" style=\"border: 2px solid gray; padding: 1%; border-radius: 1em;\" scrolling=\"no\" title=\"Test\" src=\"https://www.geogebra.org/geometry/d9j5jeke\" frameborder=\"no\" loading=\"lazy\" allowtransparency=\"true\" allowfullscreen=\"true\"></iframe>"
      ],
      "text/plain": [
       "<IPython.core.display.HTML object>"
      ]
     },
     "execution_count": 34,
     "metadata": {},
     "output_type": "execute_result"
    }
   ],
   "source": [
    "## Geogebra Iframe (Plane Geometry)\n",
    "\n",
    "from IPython.display import HTML\n",
    "\n",
    "HTML('<iframe height=\"600\" width=\"100%\" style=\"border: 2px solid gray; padding: 1%; border-radius: 1em;\" scrolling=\"no\" title=\"Test\" src=\"https://www.geogebra.org/geometry/d9j5jeke\" frameborder=\"no\" loading=\"lazy\" allowtransparency=\"true\" allowfullscreen=\"true\"></iframe>')"
   ]
  },
  {
   "cell_type": "code",
   "execution_count": 35,
   "id": "5e434277",
   "metadata": {
    "scrolled": false
   },
   "outputs": [
    {
     "data": {
      "text/html": [
       "<iframe height=\"600\" width=\"100%\" style=\"border: 2px solid gray; padding: 1%; border-radius: 1em;\" scrolling=\"no\" title=\"Test\" src=\"https://www.geogebra.org/graphing\" frameborder=\"no\" loading=\"lazy\" allowtransparency=\"true\" allowfullscreen=\"true\"></iframe>"
      ],
      "text/plain": [
       "<IPython.core.display.HTML object>"
      ]
     },
     "execution_count": 35,
     "metadata": {},
     "output_type": "execute_result"
    }
   ],
   "source": [
    "## Geogebra Iframe (Cartesian Plane)\n",
    "\n",
    "from IPython.display import HTML\n",
    "\n",
    "HTML('<iframe height=\"600\" width=\"100%\" style=\"border: 2px solid gray; padding: 1%; border-radius: 1em;\" scrolling=\"no\" title=\"Test\" src=\"https://www.geogebra.org/graphing\" frameborder=\"no\" loading=\"lazy\" allowtransparency=\"true\" allowfullscreen=\"true\"></iframe>')"
   ]
  },
  {
   "cell_type": "code",
   "execution_count": 36,
   "id": "9a5d796f",
   "metadata": {},
   "outputs": [
    {
     "data": {
      "text/html": [
       "<iframe height=\"600\" width=\"100%\" style=\"border: 2px solid gray; padding: 1%; border-radius: 1em;\" scrolling=\"no\" title=\"3D-Calculator\" src=\"https://www.geogebra.org/3d/shxt4egn\" frameborder=\"no\" loading=\"lazy\" allowtransparency=\"true\" allowfullscreen=\"true\"></iframe>"
      ],
      "text/plain": [
       "<IPython.core.display.HTML object>"
      ]
     },
     "execution_count": 36,
     "metadata": {},
     "output_type": "execute_result"
    }
   ],
   "source": [
    "## Geogebra Iframe (3D Calculator)\n",
    "\n",
    "from IPython.display import HTML\n",
    "\n",
    "HTML('<iframe height=\"600\" width=\"100%\" style=\"border: 2px solid gray; padding: 1%; border-radius: 1em;\" scrolling=\"no\" title=\"3D-Calculator\" src=\"https://www.geogebra.org/3d/shxt4egn\" frameborder=\"no\" loading=\"lazy\" allowtransparency=\"true\" allowfullscreen=\"true\"></iframe>')"
   ]
  },
  {
   "cell_type": "markdown",
   "id": "32766054",
   "metadata": {},
   "source": [
    "$$\n",
    "a + b + c = \\underbrace{(a + b) + c}_{\\text{Anotación horizontal inferior}}\n",
    "$$\n",
    "\n",
    "\n",
    "$$\n",
    "a + b + c = \\overbrace{a + (b + c)}^{\\text{Anotación horizontal superior}}\n",
    "$$\n",
    "\n",
    "\n",
    "$$\n",
    "a + b + c = a + \\underset{\\text{Anotación vertical inferior}}{b} + c\n",
    "$$\n",
    "\n",
    "\n",
    "$$\n",
    "a + b + c = a + \\overset{\\text{Anotación vertical superior}}{b} + c\n",
    "$$"
   ]
  },
  {
   "cell_type": "code",
   "execution_count": 80,
   "id": "320c8046",
   "metadata": {},
   "outputs": [
    {
     "data": {
      "text/markdown": [
       "### Resuelva: $8x = 64$"
      ],
      "text/plain": [
       "<IPython.core.display.Markdown object>"
      ]
     },
     "metadata": {},
     "output_type": "display_data"
    },
    {
     "data": {
      "application/vnd.jupyter.widget-view+json": {
       "model_id": "be1187910f1144ba9f40718b46437dc3",
       "version_major": 2,
       "version_minor": 0
      },
      "text/plain": [
       "Text(value='', description='$x =$', placeholder='Ingrese la respuesta')"
      ]
     },
     "metadata": {},
     "output_type": "display_data"
    },
    {
     "data": {
      "application/vnd.jupyter.widget-view+json": {
       "model_id": "15168160e8c34116a5f889fdc2f895d1",
       "version_major": 2,
       "version_minor": 0
      },
      "text/plain": [
       "Button(description='Verificar Respuesta', style=ButtonStyle())"
      ]
     },
     "metadata": {},
     "output_type": "display_data"
    },
    {
     "data": {
      "application/vnd.jupyter.widget-view+json": {
       "model_id": "893b09b4f62a4f0b9a1b9e4cf4e9af63",
       "version_major": 2,
       "version_minor": 0
      },
      "text/plain": [
       "Output()"
      ]
     },
     "metadata": {},
     "output_type": "display_data"
    }
   ],
   "source": [
    "import ipywidgets as widgets\n",
    "from IPython.display import display, Markdown\n",
    "import random\n",
    "\n",
    "num1 = 1\n",
    "num2 = 1\n",
    "\n",
    "rand1 = random.randint(1, 100)\n",
    "rand2 = random.randint(1, 1000)\n",
    "if rand2 % rand1 == 0:\n",
    "    num1 = rand1\n",
    "    num2 = rand2\n",
    "    equation = f\"${num1}x = {num2}$\"\n",
    "    solution = (num2 / num1)\n",
    "\n",
    "# Definir la ecuación y la solución\n",
    "# equation = f\"${num1}x = {num2}$\"\n",
    "\n",
    "# Crear los widgets\n",
    "input_text = widgets.Text(description=\"$x =$\", placeholder=\"Ingrese la respuesta\")\n",
    "check_button = widgets.Button(description=\"Verificar Respuesta\")\n",
    "output_area = widgets.Output()\n",
    "\n",
    "# Función para verificar la respuesta\n",
    "def check_answer(b):\n",
    "    user_answer = input_text.value\n",
    "    try:\n",
    "        user_answer = float(user_answer)\n",
    "        if user_answer == solution:\n",
    "            result = f\"Correcto! la solución es $x = {solution}$.\"\n",
    "        else:\n",
    "            result = f\"Incorrecto. Intente nuevamente.\"\n",
    "    except ValueError:\n",
    "        result = \"Por favor, ingrese un número válido.\"\n",
    "    \n",
    "    with output_area:\n",
    "        output_area.clear_output()\n",
    "        display(Markdown(result))\n",
    "\n",
    "# Asignar la función al botón\n",
    "check_button.on_click(check_answer)\n",
    "\n",
    "# Mostrar los widgets\n",
    "display(Markdown(f\"### Resuelva: {equation}\"))\n",
    "display(input_text)\n",
    "display(check_button)\n",
    "display(output_area)\n"
   ]
  },
  {
   "cell_type": "code",
   "execution_count": 41,
   "id": "ac53d62b",
   "metadata": {},
   "outputs": [
    {
     "data": {
      "application/vnd.jupyter.widget-view+json": {
       "model_id": "e9c00ef339a94b48b19a613ec673a9a1",
       "version_major": 2,
       "version_minor": 0
      },
      "text/plain": [
       "interactive(children=(FloatSlider(value=1.0, description='a:', max=5.0, min=-5.0), FloatSlider(value=1.0, desc…"
      ]
     },
     "metadata": {},
     "output_type": "display_data"
    }
   ],
   "source": [
    "from mpl_toolkits.mplot3d import Axes3D\n",
    "\n",
    "# Función para graficar una superficie 3D\n",
    "def plot_surface(a, b):\n",
    "    fig = plt.figure(figsize=(8, 6))\n",
    "    ax = fig.add_subplot(111, projection='3d')\n",
    "    x = np.linspace(-5, 5, 100)\n",
    "    y = np.linspace(-5, 5, 100)\n",
    "    X, Y = np.meshgrid(x, y)\n",
    "    Z = a * X**2 + b * Y**2\n",
    "    ax.plot_surface(X, Y, Z, cmap='viridis')\n",
    "    ax.set_title(r'Surface: $z = ax^2 + by^2$')\n",
    "    ax.set_xlabel('x')\n",
    "    ax.set_ylabel('y')\n",
    "    ax.set_zlabel('z')\n",
    "    plt.show()\n",
    "\n",
    "# Crear sliders para los coeficientes\n",
    "a_slider = FloatSlider(min=-5, max=5, step=0.1, value=1, description='a:')\n",
    "b_slider = FloatSlider(min=-5, max=5, step=0.1, value=1, description='b:')\n",
    "\n",
    "# Usar interact para ajustar los parámetros en tiempo real\n",
    "interact(plot_surface, a=a_slider, b=b_slider);\n"
   ]
  },
  {
   "cell_type": "code",
   "execution_count": 42,
   "id": "d413eeb9",
   "metadata": {},
   "outputs": [
    {
     "data": {
      "application/vnd.jupyter.widget-view+json": {
       "model_id": "8dcd8b88e710433db4dc5f1084968225",
       "version_major": 2,
       "version_minor": 0
      },
      "text/plain": [
       "interactive(children=(FloatSlider(value=20.0, description='v0:', max=50.0, step=1.0), FloatSlider(value=45.0, …"
      ]
     },
     "metadata": {},
     "output_type": "display_data"
    }
   ],
   "source": [
    "import matplotlib.pyplot as plt\n",
    "from matplotlib.animation import FuncAnimation\n",
    "import numpy as np\n",
    "\n",
    "# Función para simular y graficar el movimiento de un objeto\n",
    "def simulate_motion(v0, theta):\n",
    "    g = 9.81  # gravedad\n",
    "    theta_rad = np.radians(theta)\n",
    "    t = np.linspace(0, 2 * v0 * np.sin(theta_rad) / g, num=500)\n",
    "    x = v0 * np.cos(theta_rad) * t\n",
    "    y = v0 * np.sin(theta_rad) * t - 0.5 * g * t**2\n",
    "\n",
    "    fig, ax = plt.subplots()\n",
    "    ax.set_xlim(0, max(x))\n",
    "    ax.set_ylim(0, max(y))\n",
    "    line, = ax.plot([], [], lw=2)\n",
    "\n",
    "    def init():\n",
    "        line.set_data([], [])\n",
    "        return line,\n",
    "\n",
    "    def update(frame):\n",
    "        line.set_data(x[:frame], y[:frame])\n",
    "        return line,\n",
    "\n",
    "    ani = FuncAnimation(fig, update, frames=len(t), init_func=init, blit=True, interval=20)\n",
    "    plt.show()\n",
    "\n",
    "# Crear sliders para la velocidad inicial y el ángulo\n",
    "v0_slider = FloatSlider(min=0, max=50, step=1, value=20, description='v0:')\n",
    "theta_slider = FloatSlider(min=0, max=90, step=1, value=45, description='θ:')\n",
    "\n",
    "# Usar interact para ajustar los parámetros en tiempo real\n",
    "interact(simulate_motion, v0=v0_slider, theta=theta_slider);\n"
   ]
  },
  {
   "cell_type": "code",
   "execution_count": 85,
   "id": "40f60467",
   "metadata": {},
   "outputs": [
    {
     "data": {
      "text/markdown": [
       "### Resuelva: $2x = 0$"
      ],
      "text/plain": [
       "<IPython.core.display.Markdown object>"
      ]
     },
     "metadata": {},
     "output_type": "display_data"
    },
    {
     "data": {
      "application/vnd.jupyter.widget-view+json": {
       "model_id": "326342cea9454381af359e87bdc00310",
       "version_major": 2,
       "version_minor": 0
      },
      "text/plain": [
       "Text(value='', description='$x =$', placeholder='Ingrese la respuesta')"
      ]
     },
     "metadata": {},
     "output_type": "display_data"
    },
    {
     "data": {
      "application/vnd.jupyter.widget-view+json": {
       "model_id": "94d7bc82d511496b8bd2ef0a84fba35d",
       "version_major": 2,
       "version_minor": 0
      },
      "text/plain": [
       "Button(description='Verificar Respuesta', style=ButtonStyle())"
      ]
     },
     "metadata": {},
     "output_type": "display_data"
    },
    {
     "data": {
      "application/vnd.jupyter.widget-view+json": {
       "model_id": "617e7d5f497c4262855c4113b000449f",
       "version_major": 2,
       "version_minor": 0
      },
      "text/plain": [
       "Button(description='Nuevo Ejercicio', style=ButtonStyle())"
      ]
     },
     "metadata": {},
     "output_type": "display_data"
    },
    {
     "data": {
      "application/vnd.jupyter.widget-view+json": {
       "model_id": "9c85a8cb80614efaab9b99b7fd5f0e4b",
       "version_major": 2,
       "version_minor": 0
      },
      "text/plain": [
       "Output()"
      ]
     },
     "metadata": {},
     "output_type": "display_data"
    }
   ],
   "source": [
    "import ipywidgets as widgets\n",
    "from IPython.display import display, Markdown\n",
    "import random\n",
    "\n",
    "# Función para generar números aleatorios que cumplan con la condición\n",
    "def generate_equation():\n",
    "    while True:\n",
    "        num1 = random.randint(2, 10)\n",
    "        num2 = random.randint(-100, 100)\n",
    "        if num2 % num1 == 0:\n",
    "            return num1, num2\n",
    "\n",
    "# Función para actualizar la ecuación y solución\n",
    "def update_equation():\n",
    "    global num1, num2, solution, equation\n",
    "    num1, num2 = generate_equation()\n",
    "    equation = f\"${num1}x = {num2}$\"\n",
    "    solution = num2 // num1\n",
    "\n",
    "# Inicializar la ecuación y solución\n",
    "update_equation()\n",
    "\n",
    "# Crear los widgets\n",
    "input_text = widgets.Text(description=\"$x =$\", placeholder=\"Ingrese la respuesta\")\n",
    "check_button = widgets.Button(description=\"Verificar Respuesta\")\n",
    "new_button = widgets.Button(description=\"Nuevo Ejercicio\")\n",
    "output_area = widgets.Output()\n",
    "\n",
    "# Función para verificar la respuesta\n",
    "def check_answer(b):\n",
    "    user_answer = input_text.value\n",
    "    try:\n",
    "        user_answer = float(user_answer)\n",
    "        if user_answer == solution:\n",
    "            result = f\"Correcto! La solución es $x = {solution}$.\"\n",
    "        else:\n",
    "            result = f\"Incorrecto. Intente nuevamente.\"\n",
    "    except ValueError:\n",
    "        result = \"Por favor, ingrese un número válido.\"\n",
    "    \n",
    "    with output_area:\n",
    "        output_area.clear_output()\n",
    "        display(Markdown(result))\n",
    "\n",
    "# Función para generar un nuevo ejercicio\n",
    "def new_exercise(b):\n",
    "    update_equation()\n",
    "    with output_area:\n",
    "        output_area.clear_output()\n",
    "        display(Markdown(f\"### Resuelva: {equation}\"))\n",
    "    input_text.value = ''\n",
    "\n",
    "# Asignar las funciones a los botones\n",
    "check_button.on_click(check_answer)\n",
    "new_button.on_click(new_exercise)\n",
    "\n",
    "# Mostrar los widgets\n",
    "display(Markdown(f\"### Resuelva: {equation}\"))\n",
    "display(input_text)\n",
    "display(check_button)\n",
    "display(new_button)\n",
    "display(output_area)\n"
   ]
  },
  {
   "cell_type": "markdown",
   "id": "7fb18081",
   "metadata": {},
   "source": [
    "## geogebra test\n",
    "\n",
    "Calculadora gráfica interactiva\n",
    "\n",
    "<iframe height=\"600\" width=\"100%\" style=\"border: 2px solid gray; padding: 1%; border-radius: 1em;\" scrolling=\"no\" title=\"Test\" src=\"https://www.geogebra.org/graphing\" frameborder=\"no\" loading=\"lazy\" allowtransparency=\"true\" allowfullscreen=\"true\"></iframe>\n",
    "\n",
    "> https://www.geogebra.org/graphing"
   ]
  }
 ],
 "metadata": {
  "kernelspec": {
   "display_name": "Python 3 (ipykernel)",
   "language": "python",
   "name": "python3"
  },
  "language_info": {
   "codemirror_mode": {
    "name": "ipython",
    "version": 3
   },
   "file_extension": ".py",
   "mimetype": "text/x-python",
   "name": "python",
   "nbconvert_exporter": "python",
   "pygments_lexer": "ipython3",
   "version": "3.7.16"
  }
 },
 "nbformat": 4,
 "nbformat_minor": 5
}
