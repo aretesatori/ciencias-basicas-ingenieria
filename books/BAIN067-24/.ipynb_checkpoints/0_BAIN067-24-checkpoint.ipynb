{
 "cells": [
  {
   "cell_type": "markdown",
   "id": "4da05730-c21b-4794-a605-208737dd411b",
   "metadata": {},
   "source": [
    "<h1>Contenido BAIN067-24 | Geometría para Ingeniería</h1>\n",
    "\n",
    "> ## Unidades:\n",
    "\n",
    "> 1. [Geometría Plana](#)\n",
    "> 2. Geometría Analítica\n",
    "> 3. Geometría Vectorial\n",
    "> 4. Funciones Trigonométricas, Coordenadas Polares y Números Complejos"
   ]
  },
  {
   "cell_type": "code",
   "execution_count": null,
   "id": "f9dc3203-6a47-45bb-b084-b833de128e66",
   "metadata": {},
   "outputs": [],
   "source": []
  }
 ],
 "metadata": {
  "kernelspec": {
   "display_name": "Python 3 (ipykernel)",
   "language": "python",
   "name": "python3"
  },
  "language_info": {
   "codemirror_mode": {
    "name": "ipython",
    "version": 3
   },
   "file_extension": ".py",
   "mimetype": "text/x-python",
   "name": "python",
   "nbconvert_exporter": "python",
   "pygments_lexer": "ipython3",
   "version": "3.8.2"
  }
 },
 "nbformat": 4,
 "nbformat_minor": 5
}
