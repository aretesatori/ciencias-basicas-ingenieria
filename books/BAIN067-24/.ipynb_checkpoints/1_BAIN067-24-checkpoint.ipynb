{
 "cells": [
  {
   "cell_type": "markdown",
   "id": "53fa7834-fc5e-4b7f-8604-8f0edd9d81f3",
   "metadata": {},
   "source": [
    "# Geometría Plana\n",
    "\n",
    "## Punto, Línea y Plano\n",
    "Definiciones:\n",
    "\n",
    "* **Punto:** Es la unidad más simple y fundamental de la geometría. Corresponde al elemento geométrico sin longitud, ni espesor, elemento de dimensión cero.\n",
    "* **Recta:** Corresponde a un conjunto de infinitos puntos los cuales se extienden en una sola dirección (no tiene principio ni fin), la cual no tiene espesor, pero sí longitud.\n",
    "  - **Segmento:** Si sobre una recta $l$ señalamos un punto $A$, se llama semirrecta al conjunto de puntos formados por $A$ y todos los que le sigue (o todos los que le preceden), inicia en un punto y no tiene fin.\n",
    "  - **Semirecta:** Si sobre una recta $l$ señalamos dos puntos $A$ y $B$, se llama segmento de recta al conjunto de puntos comprendidos entre $A$ y $B$ más estos dos puntos denominados extremos del segmento.\n",
    "* **Plano ($\\Pi$):** Corresponde a un conjunto de infinitos puntos, el cual posee longitud, ancho, pero no espesor. Es un objeto bidimensional.\n",
    "\n",
    "### Puntos\n",
    "\n",
    "\n",
    "\n",
    "## Ángulos\n",
    "\n",
    "**Definición:** Un ángulo es la abertura formada por dos semirectas llamadas **lados** con un mismo origen llamado **vértice**.\n",
    "\n",
    "* La medida de un ángulo se considera positiva en sentido antihorario.\n",
    "\n",
    "### Tipos de Ángulos\n",
    "\n",
    "Los ángulos se clasifican según su medida en: Recto, Agudo, Obtuso, Llano o Extendido, Reflejo, y Completo.\n",
    "\n",
    "- **Ángulo Agudo**: Es aquel cuya medida es mayor que $0^{\\circ}$ y menor que $90^{\\circ}$.\n",
    "- **Ángulo Recto**: Es aquel cuya medida es $90^{\\circ}$.\n",
    "- **Ángulo Obtuso**: Es aquel cuya medida está entre $90^{\\circ}$ y $180^{\\circ}$.\n",
    "- **Ángulo Llano** o **Extendido**: Es aquel cuya medida es $180^{\\circ}$.\n",
    "- **Ángulo Reflejo**: Es aquel cuya medida está entre $180^{\\circ}$ y $360^{\\circ}$.\n",
    "- **Ángulo Completo**: Es aquel cuya medida es $360^{\\circ}$.\n",
    "\n",
    "### Relaciones entre Ángulos\n",
    "\n",
    "- **Ángulos Complementarios**: Dos ángulos $\\alpha$ y $\\beta$ se dicen complementarios si la suma de sus medidas es $90^{\\circ}$, es decir, $\\alpha + \\beta = 90^{\\circ}$. En ese sentido se dice que el ángulo $\\alpha$ es el complemento del ángulo $\\beta$ y viceversa.\n",
    "- **Ángulos Suplementarios**: Dos ángulos $\\alpha$ y $\\beta$ se dicen suplementarios si la suma de sus medidas es $180^{\\circ}$, es decir, $\\alpha + \\beta = 180^{\\circ}$. En ese sentido se dice que el ángulo $\\alpha$ es el suplemento del ángulo $\\beta$ y viceversa.\n",
    "- **Ángulos Consecutivos**: Dos ángulos se dicen consecutivos si tienen el vértice y un lado en común.\n",
    "- **Ángulos Adyacentes**: Dos ángulos se dicen adyacentes si son consecutivos y suplementarios simultáneamente.\n",
    "\n",
    "### Rectas Paralelas y Perpendiculares\n",
    "\n",
    "Dos rectas distintas $l$ y $m$ se dicen paralelas si ellas no tienen puntos en común. Se suele anotar el paralelismo entre las rectas como $l \\mathbin{\\|} m$.\n",
    "\n",
    "### Ángulos Opuestos por el Vértice, Internos, Externos, Alternos y Conjugados\n",
    "\n",
    "## Polígonos\n",
    "\n",
    "Un polígono es una figura geométrica plana cerrada (bidimensional), formada completamente por segmentos de líneas rectas que se intersecan sólo en sus puntos extremos, formando los **vértices**. A estos segmentos de línea se les llama **lados**.\n",
    "\n",
    "### Elementos de un Polígono"
   ]
  },
  {
   "cell_type": "code",
   "execution_count": null,
   "id": "8f02590b-6b9c-4b6c-b1ca-8c7713d6fb0b",
   "metadata": {},
   "outputs": [],
   "source": []
  }
 ],
 "metadata": {
  "kernelspec": {
   "display_name": "Python 3 (ipykernel)",
   "language": "python",
   "name": "python3"
  },
  "language_info": {
   "codemirror_mode": {
    "name": "ipython",
    "version": 3
   },
   "file_extension": ".py",
   "mimetype": "text/x-python",
   "name": "python",
   "nbconvert_exporter": "python",
   "pygments_lexer": "ipython3",
   "version": "3.8.2"
  }
 },
 "nbformat": 4,
 "nbformat_minor": 5
}
