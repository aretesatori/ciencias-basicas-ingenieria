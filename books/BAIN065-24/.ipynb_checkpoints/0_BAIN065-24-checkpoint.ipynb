{
 "cells": [
  {
   "cell_type": "markdown",
   "id": "8b218cf9-63c2-4982-89ea-41e71574d150",
   "metadata": {},
   "source": [
    "<h1>Contenido BAIN065-24 | Álgebra para Ingeniería</h1>\n",
    "\n",
    "> ## Unidades\n",
    "\n",
    "> 1. [Números Reales y Lenguaje Algebraico](./1_BAIN065-24.html)\n",
    "> 2. [Ecuaciones Algebraicas](/.2_BAIN065-24.html)\n",
    "> 3. Polinomios con Coeficientes Reales\n",
    "> 4. Lógica y Conjuntos\n",
    "> 5. Orden en los Números Reales\n",
    "> 6. Funciones Reales\n",
    "> 7. Límites y Continuidad"
   ]
  }
 ],
 "metadata": {
  "kernelspec": {
   "display_name": "Python 3 (ipykernel)",
   "language": "python",
   "name": "python3"
  },
  "language_info": {
   "codemirror_mode": {
    "name": "ipython",
    "version": 3
   },
   "file_extension": ".py",
   "mimetype": "text/x-python",
   "name": "python",
   "nbconvert_exporter": "python",
   "pygments_lexer": "ipython3",
   "version": "3.8.2"
  }
 },
 "nbformat": 4,
 "nbformat_minor": 5
}
