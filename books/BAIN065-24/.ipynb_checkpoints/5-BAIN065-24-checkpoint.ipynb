{
 "cells": [
  {
   "cell_type": "markdown",
   "id": "91d856e8-1b45-49d5-8ead-2a461b6f0c87",
   "metadata": {},
   "source": [
    "# Orden en los Números Reales\n",
    "\n",
    "## Números Reales\n",
    "\n",
    "1- Definición: Se define el conjunto de los Números Reales positivos como:\n",
    "\n",
    "$\\mathbb{R}^+ = \\quad ]0, +\\infty[$\n",
    "\n",
    "\n",
    "2- Definición: Se dice que $a < b$ ($a$ es menor que $b$) si:\n",
    "\n",
    "$b - a \\in\\mathbb{R}^+$\n",
    "\n",
    "\n",
    "3- Definición: Se dice que $a \\leq b$ ($a$ es menor o igual que $b$) si:\n",
    "\n",
    "$a < b \\quad\\lor\\quad a = b$\n",
    "\n",
    "\n"
   ]
  },
  {
   "cell_type": "markdown",
   "id": "00d02d1b",
   "metadata": {},
   "source": []
  }
 ],
 "metadata": {
  "kernelspec": {
   "display_name": "Python 3 (ipykernel)",
   "language": "python",
   "name": "python3"
  },
  "language_info": {
   "codemirror_mode": {
    "name": "ipython",
    "version": 3
   },
   "file_extension": ".py",
   "mimetype": "text/x-python",
   "name": "python",
   "nbconvert_exporter": "python",
   "pygments_lexer": "ipython3",
   "version": "3.7.16"
  }
 },
 "nbformat": 4,
 "nbformat_minor": 5
}
