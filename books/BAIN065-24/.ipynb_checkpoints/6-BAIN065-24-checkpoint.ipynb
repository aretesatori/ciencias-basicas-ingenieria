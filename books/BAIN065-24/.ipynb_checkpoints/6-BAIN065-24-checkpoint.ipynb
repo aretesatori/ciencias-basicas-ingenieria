{
 "cells": [
  {
   "cell_type": "markdown",
   "id": "91d856e8-1b45-49d5-8ead-2a461b6f0c87",
   "metadata": {},
   "source": [
    "# Funciones de Variable Real\n",
    "\n",
    "## Definición de Función\n",
    "\n",
    "Sean $A$ y $B$ dos conjuntos no vacíos. Una función de $A$ en $B$ es una correspondencia tal que a cada elemento de $A$ le corresponde un único elemento de $B$.\n",
    "\n",
    "Viene dado por la siguiente definición:\n",
    "\n",
    "$$\\begin{array}{cl}\n",
    "    f : & A & \\longrightarrow & B & \\\\\n",
    "        & x & \\longmapsto & y = f(x) &\n",
    "\\end{array}$$\n",
    "\n",
    "$$(\\forall x \\in A)(\\exists! y \\in B)(f(x) = y)$$\n",
    "\n",
    "<!-- \n",
    ">$f : \\quad A \\rightarrow B$\n",
    ">\n",
    ">$(\\forall a \\in A)(\\exists! b \\in B)$ ($f(a) = b$) -->\n",
    " \n",
    "\n",
    "Para las funciones de variable real, $A$ y $B$ son subconjuntos de $\\mathbb{R}$ y tienen la siguiente definición:\n",
    "\n",
    "$$\\begin{align}\n",
    "    f : \\quad A  \\subseteq\\mathbb{R}&\\; \\longrightarrow B \\subseteq\\mathbb{R} \\\\\n",
    "        x &\\; \\longmapsto y = f(x)\n",
    "\\end{align}$$\n",
    "\n",
    ":::{hint} **Notación:**\n",
    "\n",
    "$\\begin{array}{rcl}\n",
    "  &\\; \\forall  &\\; \\text{: Para todo.} \\\\ \\\\\n",
    "  &\\; \\exists! &\\; \\text{: Existe un único.} \\\\ \\\\\n",
    "  &\\; A \\subseteq B &\\; \\text{: A subconjunto de B.}\n",
    "\\end{array}$\n",
    "\n",
    "<!-- * $\\forall$: _Para todo._\n",
    "\n",
    "* $\\exists!$: $\\quad$_Existe un único._\n",
    "\n",
    "* $A \\subseteq B$: $\\quad$_A Subconjunto de B._ -->\n",
    "\n",
    ":::\n",
    "\n",
    "### Diagrama Sagital"
   ]
  },
  {
   "cell_type": "code",
   "execution_count": 63,
   "id": "b8dda9f4",
   "metadata": {},
   "outputs": [
    {
     "data": {
      "text/html": [
       "<iframe scrolling=\"no\" title=\"Correspondencia de Funciones\" src=\"https://www.geogebra.org/material/iframe/id/acrkjzme/width/750/height/580/border/888888/sfsb/true/smb/false/stb/false/stbh/false/ai/false/asb/false/sri/false/rc/false/ld/false/sdz/false/ctl/false\" width=\"49%\" height=\"300\" style=\"border: 0px;\"></iframe> <iframe scrolling=\"no\" title=\"Correspondencia de Funciones\" src=\"https://www.geogebra.org/material/iframe/id/bedgnh6z/width/750/height/580/border/888888/sfsb/true/smb/false/stb/false/stbh/false/ai/false/asb/false/sri/false/rc/false/ld/false/sdz/false/ctl/false\" width=\"49%\" height=\"300\" style=\"border: 0px;\"></iframe>"
      ],
      "text/plain": [
       "<IPython.core.display.HTML object>"
      ]
     },
     "execution_count": 63,
     "metadata": {},
     "output_type": "execute_result"
    }
   ],
   "source": [
    "import warnings\n",
    "from IPython.display import HTML\n",
    "\n",
    "warnings.filterwarnings(\"ignore\")\n",
    "HTML('<iframe scrolling=\"no\" title=\"Correspondencia de Funciones\" src=\"https://www.geogebra.org/material/iframe/id/acrkjzme/width/750/height/580/border/888888/sfsb/true/smb/false/stb/false/stbh/false/ai/false/asb/false/sri/false/rc/false/ld/false/sdz/false/ctl/false\" width=\"49%\" height=\"300\" style=\"border: 0px;\"></iframe> <iframe scrolling=\"no\" title=\"Correspondencia de Funciones\" src=\"https://www.geogebra.org/material/iframe/id/bedgnh6z/width/750/height/580/border/888888/sfsb/true/smb/false/stb/false/stbh/false/ai/false/asb/false/sri/false/rc/false/ld/false/sdz/false/ctl/false\" width=\"49%\" height=\"300\" style=\"border: 0px;\"></iframe>')"
   ]
  },
  {
   "cell_type": "markdown",
   "id": "eacce591",
   "metadata": {},
   "source": [
    "En el primer diagrama, _cada elemento de $A$ tiene una correspondencia con un único elemento de $B$_, lo que cumple con la definición de función.\n",
    "\n",
    "En el caso del segundo diagrama, existe un elemento del conjunto $A$ que tiene una correspondencia con más de un elemento del conjunto $B$, lo que no cumple con la definición de función."
   ]
  },
  {
   "cell_type": "markdown",
   "id": "419f3459",
   "metadata": {},
   "source": [
    "## Elementos de una Función\n",
    "\n",
    "<!-- $$\n",
    "a + b + c = \\underbrace{(a + b) + c}_{\\text{Anotación horizontal inferior}}\n",
    "$$\n",
    "\n",
    "\n",
    "$$\n",
    "a + b + c = \\overbrace{a + (b + c)}^{\\text{Anotación horizontal superior}}\n",
    "$$ -->\n",
    "\n",
    "$$\\begin{array}{rcc}\n",
    "    f : &\\; \\overbrace{A}^{\\text{Dominio}} \\longrightarrow &\\; \\overbrace{B}^{\\text{Codominio}} &\\;\\\\\n",
    "       &\\; \\underbrace{x}_{\\text{Preimagen}} \\longmapsto &\\; \\underbrace{y = f(x)}_{\\text{Regla de Correspondencia}} &\\;\n",
    "\\end{array}$$\n",
    "\n",
    "* $A$ se llama **Dominio** de la función o **Conjunto de Partida**.  \n",
    "* $B$ se llama **Codominio** de la función o **Conjunto de Llegada**.\n",
    "* $y = f(x)$ se llama **Regla de Correspondencia**.\n",
    "* $x$ se llama **Preimagen** o **Variable Independiente**.  \n",
    "* $y$ se llama **Imagen** o **Variable Dependiente**."
   ]
  },
  {
   "cell_type": "code",
   "execution_count": 72,
   "id": "a67ad363",
   "metadata": {},
   "outputs": [
    {
     "data": {
      "text/html": [
       "<iframe scrolling=\"no\" title=\"Correspondencia de Funciones\" src=\"https://www.geogebra.org/material/iframe/id/ykuydbak/width/830/height/580/border/888888/sfsb/true/smb/false/stb/false/stbh/false/ai/false/asb/false/sri/false/rc/false/ld/false/sdz/false/ctl/false\" width=\"100%\" height=\"600\" style=\"border: 0px; border: 3px solid gray; /*Border only for debug*/ \"></iframe>"
      ],
      "text/plain": [
       "<IPython.core.display.HTML object>"
      ]
     },
     "execution_count": 72,
     "metadata": {},
     "output_type": "execute_result"
    }
   ],
   "source": [
    "from IPython.display import HTML\n",
    "\n",
    "HTML('<iframe scrolling=\"no\" title=\"Correspondencia de Funciones\" src=\"https://www.geogebra.org/material/iframe/id/ykuydbak/width/830/height/580/border/888888/sfsb/true/smb/false/stb/false/stbh/false/ai/false/asb/false/sri/false/rc/false/ld/false/sdz/false/ctl/false\" width=\"100%\" height=\"600\" style=\"border: 0px; border: 3px solid gray; /*Border only for debug*/ \"></iframe>')"
   ]
  },
  {
   "cell_type": "markdown",
   "id": "52756950",
   "metadata": {},
   "source": [
    "## Dominio de una Función\n",
    "\n",
    "Sea $\\quad\\boxed{\\begin{align}\n",
    "    f : \\quad A  \\subseteq\\mathbb{R}&\\; \\longrightarrow B \\subseteq\\mathbb{R} \\\\\n",
    "        x &\\; \\longmapsto y = f(x)\n",
    "\\end{align}}\\quad$ una función, el Dominio de $f$ denotado por $Dom(f)$ se define como:\n",
    "\n",
    "$$\\boxed{Dom(f) = \\{x \\in\\mathbb{R} : f(x) \\in\\mathbb{R}\\}}$$\n",
    "\n",
    "## Recorrido de una Función\n",
    "\n",
    "Sea $\\quad\\boxed{\\begin{align}\n",
    "    f : \\quad &\\; A \\longrightarrow B \\\\\n",
    "       &\\; x \\longmapsto y = f(x)\n",
    "\\end{align}}\\quad$ una función, el Recorrido de $f$ denotado por $Rec(f)$ se define como:\n",
    "\n",
    "$$\\boxed{Rec(f) = \\{y \\in\\mathbb{R} : (\\exists x \\in Dom(f))(y = f(x))\\}}$$"
   ]
  },
  {
   "cell_type": "code",
   "execution_count": null,
   "id": "c5f627a1",
   "metadata": {},
   "outputs": [],
   "source": []
  },
  {
   "cell_type": "markdown",
   "id": "db1f8369",
   "metadata": {},
   "source": [
    "## Álgebra de Funciones\n",
    "\n",
    "## Composición de Funciones\n",
    "\n",
    "$(g \\circ f)(x) = g\\left( f(x) \\right)$\n",
    "\n",
    "\n",
    "$Dom(g \\circ f) = \\{x \\in Dom(f) : f(x) \\in Dom(g)\\}$"
   ]
  },
  {
   "cell_type": "markdown",
   "id": "f910101f",
   "metadata": {},
   "source": [
    "## Gráfico de Funciones Conocidas\n",
    "\n",
    "### Función Constante\n",
    "\n",
    "Es una función que siempre toma la misma imagen para cualquier valor de x. Tiene la forma $\\boxed{f(x) = k}$ o también $\\boxed{y = k}$, donde $k$ es un número real cualquiera.\n",
    "\n",
    "$\\large \\boxed{f(x) = k} \\small\\quad\\quad (k \\in \\mathbb{R})$  \n",
    "\n",
    "* El dominio de la función constante es el conjunto de los números reales:\n",
    "\n",
    "> $Dom(f) = \\mathbb{R}$  \n",
    "\n",
    "* El recorrido de la función constante es el valor de la constante:\n",
    "\n",
    "> $Rec(f) = k$\n",
    "\n",
    "* Ejemplo:\n",
    "\n",
    "> $f(x) = 1$\n",
    "\n",
    "<iframe height=\"500\" style=\"width: 100%;\" scrolling=\"no\" title=\"Test\" src=\"https://www.geogebra.org/material/iframe/id/n2r2mp9w/width/1000/height/600/border/888888/sfsb/true/smb/false/stb/false/stbh/false/ai/false/asb/false/sri/false/rc/false/ld/false/sdz/false/ctl/false\" frameborder=\"no\" loading=\"lazy\" allowtransparency=\"true\" allowfullscreen=\"true\"></iframe>\n",
    "\n",
    "> Recurso: https://www.geogebra.org/graphing/n2r2mp9w\n",
    "\n",
    "### Función Identidad\n",
    "\n",
    "### Función Lineal\n",
    "\n",
    "### Función Valor Absoluto\n",
    "\n",
    "### Función Cuadrática\n",
    "\n",
    "### Función Cúbica\n",
    "\n",
    "### Función Radical\n",
    "\n",
    "### Función Racional\n",
    "\n",
    "### Función Seno\n",
    "\n",
    "### Función Exponencial\n",
    "\n",
    "### Función Logarítmica\n",
    "\n",
    "\n",
    "## Tipos de Funciones\n",
    "\n",
    "\n",
    "## Inyectividad\n",
    "\n",
    "## Sobreyectividad\n",
    "\n",
    "\n",
    "## Función Inversa"
   ]
  },
  {
   "cell_type": "markdown",
   "id": "587cbfa3",
   "metadata": {},
   "source": []
  },
  {
   "cell_type": "markdown",
   "id": "8129c9e2",
   "metadata": {},
   "source": [
    "## Geogebra\n",
    "\n",
    "Calculadora gráfica interactiva.\n",
    "\n",
    "<iframe height=\"600\" width=\"100%\" style=\"border: 2px solid gray; padding: 1%; border-radius: 1em;\" scrolling=\"no\" title=\"Test\" src=\"https://www.geogebra.org/graphing\" frameborder=\"no\" loading=\"lazy\" allowtransparency=\"true\" allowfullscreen=\"true\"></iframe>\n",
    "\n",
    "> Fuente: https://www.geogebra.org/graphing"
   ]
  },
  {
   "cell_type": "markdown",
   "id": "0be54c9d",
   "metadata": {},
   "source": []
  }
 ],
 "metadata": {
  "kernelspec": {
   "display_name": "Python 3 (ipykernel)",
   "language": "python",
   "name": "python3"
  },
  "language_info": {
   "codemirror_mode": {
    "name": "ipython",
    "version": 3
   },
   "file_extension": ".py",
   "mimetype": "text/x-python",
   "name": "python",
   "nbconvert_exporter": "python",
   "pygments_lexer": "ipython3",
   "version": "3.7.16"
  }
 },
 "nbformat": 4,
 "nbformat_minor": 5
}
