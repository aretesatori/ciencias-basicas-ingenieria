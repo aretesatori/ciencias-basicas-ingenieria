{
 "cells": [
  {
   "cell_type": "markdown",
   "id": "91d856e8-1b45-49d5-8ead-2a461b6f0c87",
   "metadata": {},
   "source": [
    "# Funciones Reales\n",
    "\n",
    "## Definición de Función\n",
    "\n",
    "Definición: Sean $A$, $B$ subconjuntos de $\\mathbb{R}$ no vacíos, una función de $a$ en $b$ es una relación entre $A$ y $B$ que cumple:\n",
    "\n",
    "A todo elemento de $A$ le corresponde un único elemento de $B$.\n",
    "\n",
    ">$f : \\quad A \\rightarrow B$\n",
    ">\n",
    ">$(\\forall a \\in A)(\\exists! b \\in B)$ ($f(a) = b$)\n",
    "\n",
    ":::{hint} Cuantificadores:\n",
    "\n",
    "* $\\forall$: **Para todo.**\n",
    "\n",
    "* $\\exists!$: **Existe un único.**\n",
    "\n",
    ":::\n",
    "\n",
    "Ejemplo (...)\n",
    "\n",
    "\n",
    "## Notación\n",
    "\n",
    "> $A\\subseteq\\mathbb{R}$  \n",
    "> $B\\subseteq\\mathbb{R}$\n",
    "\n",
    "> $\\subseteq$: Subconjunto\n",
    "\n",
    "$\\quad\\begin{array}{rcl}\n",
    "    f : & A & \\longrightarrow & B & \\\\\n",
    "        & x & \\longmapsto & y = f(x) &\n",
    "\\end{array}$\n",
    "\n",
    "$$\\begin{align}\n",
    "    f : &\\; A \\longrightarrow B \\\\\n",
    "       &\\; x \\longmapsto y = f(x)\n",
    "\\end{align}$$\n",
    "\n",
    "> $A$: $\\quad$**Dominio** o Conjunto de Partida  \n",
    "> $B$: $\\quad$**Codominio** o Conjunto de Llegada\n",
    "\n",
    "> $y = f(x)$: Regla de Correspondencia\n",
    "\n",
    "> $x$: **Preimagen** o Variable Independiente  \n",
    "> $y$: **Imagen** o Variable Dependiente\n",
    "\n",
    "## Dominio de una Función\n",
    "\n",
    "Sea $\\quad\\boxed{\\begin{align}\n",
    "    f : \\quad A  \\subseteq\\mathbb{R}&\\; \\longrightarrow B \\subseteq\\mathbb{R} \\\\\n",
    "        x &\\; \\longmapsto y = f(x)\n",
    "\\end{align}}\\quad$ una función, el Dominio de $f$ denotado por $Dom(f)$ se define como:\n",
    "\n",
    "$$\\boxed{Dom(f) = \\{x \\in\\mathbb{R} : f(x) \\in\\mathbb{R}\\}}$$\n",
    "\n",
    "## Recorrido de una Función\n",
    "\n",
    "Sea $\\quad\\boxed{\\begin{align}\n",
    "    f : \\quad &\\; A \\longrightarrow B \\\\\n",
    "       &\\; x \\longmapsto y = f(x)\n",
    "\\end{align}}\\quad$ una función, el Recorrido de $f$ denotado por $Rec(f)$ se define como:\n",
    "\n",
    "$$\\boxed{Rec(f) = \\{y \\in\\mathbb{R} : (\\exists x \\in Dom(f))(y = f(x))\\}}$$"
   ]
  },
  {
   "cell_type": "code",
   "execution_count": null,
   "id": "b8dda9f4",
   "metadata": {},
   "outputs": [],
   "source": []
  },
  {
   "cell_type": "code",
   "execution_count": 14,
   "id": "095e478f",
   "metadata": {},
   "outputs": [
    {
     "data": {
      "text/html": [
       "<iframe scrolling=\"no\" title=\"Correspondencia de Funciones\" src=\"https://www.geogebra.org/material/iframe/id/acrkjzme/width/750/height/580/border/888888/sfsb/true/smb/false/stb/false/stbh/false/ai/false/asb/false/sri/false/rc/false/ld/false/sdz/false/ctl/false\" width=\"48%\" height=\"500\" style=\"border: 0px;\"></iframe> <iframe scrolling=\"no\" title=\"Correspondencia de Funciones\" src=\"https://www.geogebra.org/material/iframe/id/bedgnh6z/width/750/height/580/border/888888/sfsb/true/smb/false/stb/false/stbh/false/ai/false/asb/false/sri/false/rc/false/ld/false/sdz/false/ctl/false\" width=\"48%\" height=\"500\" style=\"border: 0px;\"></iframe>"
      ],
      "text/plain": [
       "<IPython.core.display.HTML object>"
      ]
     },
     "execution_count": 14,
     "metadata": {},
     "output_type": "execute_result"
    }
   ],
   "source": [
    "from IPython.display import HTML\n",
    "\n",
    "HTML('<iframe scrolling=\"no\" title=\"Correspondencia de Funciones\" src=\"https://www.geogebra.org/material/iframe/id/acrkjzme/width/750/height/580/border/888888/sfsb/true/smb/false/stb/false/stbh/false/ai/false/asb/false/sri/false/rc/false/ld/false/sdz/false/ctl/false\" width=\"48%\" height=\"500\" style=\"border: 0px;\"></iframe> <iframe scrolling=\"no\" title=\"Correspondencia de Funciones\" src=\"https://www.geogebra.org/material/iframe/id/bedgnh6z/width/750/height/580/border/888888/sfsb/true/smb/false/stb/false/stbh/false/ai/false/asb/false/sri/false/rc/false/ld/false/sdz/false/ctl/false\" width=\"48%\" height=\"500\" style=\"border: 0px;\"></iframe>')"
   ]
  },
  {
   "cell_type": "code",
   "execution_count": null,
   "id": "179695a5",
   "metadata": {},
   "outputs": [],
   "source": []
  },
  {
   "cell_type": "markdown",
   "id": "f910101f",
   "metadata": {},
   "source": [
    "\n",
    "## Tipos de Funciones\n",
    "\n",
    "\n",
    "### Función Inyectiva\n",
    "\n",
    "### Función Sobreyectiva o Epiyectiva\n",
    "\n",
    "### Función Biyectiva\n",
    "\n",
    "\n",
    "## Función Inversa"
   ]
  },
  {
   "cell_type": "markdown",
   "id": "587cbfa3",
   "metadata": {},
   "source": [
    "$$\n",
    "a + b + c = \\underbrace{(a + b) + c}_{\\text{Anotación horizontal inferior}}\n",
    "$$\n",
    "\n",
    "\n",
    "$$\n",
    "a + b + c = \\overbrace{a + (b + c)}^{\\text{Anotación horizontal superior}}\n",
    "$$\n",
    "\n",
    "\n",
    "$$\n",
    "a + b + c = a + \\underset{\\text{Anotación vertical inferior}}{b} + c\n",
    "$$\n",
    "\n",
    "\n",
    "$$\n",
    "a + b + c = a + \\overset{\\text{Anotación vertical superior}}{b} + c\n",
    "$$"
   ]
  }
 ],
 "metadata": {
  "kernelspec": {
   "display_name": "Python 3 (ipykernel)",
   "language": "python",
   "name": "python3"
  },
  "language_info": {
   "codemirror_mode": {
    "name": "ipython",
    "version": 3
   },
   "file_extension": ".py",
   "mimetype": "text/x-python",
   "name": "python",
   "nbconvert_exporter": "python",
   "pygments_lexer": "ipython3",
   "version": "3.7.16"
  }
 },
 "nbformat": 4,
 "nbformat_minor": 5
}
