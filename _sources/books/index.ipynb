{
 "cells": [
  {
   "cell_type": "markdown",
   "id": "679f603a-ed24-413d-9bbe-a235413c3d8f",
   "metadata": {},
   "source": [
    "# My Notebook\n",
    "\n",
    "Este es un repositorio con apuntes de contenidos de Ciencias Básicas, del plan de Bachillerato en Ciencias de la Ingeniería. UACh 2024.\n",
    "\n",
    "# Asignaturas\n",
    "\n",
    "<span style=\"font-size: 12pt\"></span>\n",
    "## BAIN065-24 | _Álgebra para Ingeniería_\n",
    "\n",
    "### Contenido\n",
    "\n",
    "- **Unidad 1:** [Números Reales y Lenguaje Algebraico](https://aretesatori.github.io/ciencias-basicas-ingenieria/books/BAIN065-24/1_BAIN065-24.html)\n",
    "- **Unidad 2:** [Ecuaciones Algebraicas](https://aretesatori.github.io/ciencias-basicas-ingenieria/books/BAIN065-24/2_BAIN065-24.html)\n",
    "- **Unidad 3:** Polinomios con Coeficientes Reales\n",
    "- **Unidad 4:** Lógica y Conjuntos\n",
    "- **Unidad 5:** Orden en los Números Reales\n",
    "- **Unidad 6:** Funciones Reales\n",
    "- **Unidad 7:** Límites y Continuidad\n",
    "\n",
    "<span style=\"font-size: 12pt\"></span>\n",
    "## BAIN067-24 | _Geometría para Ingeniería_\n",
    "\n",
    "### Contenido\n",
    "\n",
    "- **Unidad 1:** [Geometría Plana](#)\n",
    "- **Unidad 2:** Geometría Analítica\n",
    "- **Unidad 3:** Geometría Vectorial\n",
    "- **Unidad 4:** Funciones Trigonométricas, Coordenadas Polares y Números Complejos\n",
    "\n",
    "<span style=\"font-size: 12pt\"></span>\n",
    "## BAIN069-14 | _Química para Ingeniería_\n",
    "\n",
    "### Contenido\n",
    "\n",
    "- **\\[En desarrollo\\]**\n",
    "- **\\[En desarrollo\\]**\n",
    "- **\\[En desarrollo\\]**\n",
    "\n",
    "# Referencias\n",
    "\n",
    "- **\\[En desarrollo\\]**\n",
    "\n",
    "---\n",
    "# Contacto\n",
    "\n",
    "#### Consultas y sugerencias a mi correo electrónico:  \n",
    "[arete.poffart@alumnos.uach.cl](mailto:arete.poffart@alumnos.uach.cl) $\\vee$ [aretesatori@gmail.com](mailto:aretesatori@gmail.com)\n",
    "\n",
    "---\n",
    "# Agradecimiento\n",
    "> $$\\bigstar\\quad\\bigstar\\quad\\bigstar\\quad\\bigstar\\quad\\bigstar$$ \n",
    "> **Un agradecimiento especial al profesor Pablo Huijse:** _por desarrollar y disponibilizar la plantilla de construcción de libros interactivos en Jupyter Notebook._  \n",
    "> Repositorio del proyecto: https://github.com/phuijse/JupyterBookUACh\n",
    "> \n",
    "> $$\\bigstar\\quad\\bigstar\\quad\\bigstar\\quad\\bigstar\\quad\\bigstar$$"
   ]
  },
  {
   "cell_type": "markdown",
   "id": "91fc93b2",
   "metadata": {},
   "source": []
  },
  {
   "cell_type": "code",
   "execution_count": null,
   "id": "ffb2bdae-17ad-4d31-bc88-5223aa1f34b8",
   "metadata": {},
   "outputs": [],
   "source": []
  }
 ],
 "metadata": {
  "kernelspec": {
   "display_name": "Python 3 (ipykernel)",
   "language": "python",
   "name": "python3"
  },
  "language_info": {
   "codemirror_mode": {
    "name": "ipython",
    "version": 3
   },
   "file_extension": ".py",
   "mimetype": "text/x-python",
   "name": "python",
   "nbconvert_exporter": "python",
   "pygments_lexer": "ipython3",
   "version": "3.8.2"
  }
 },
 "nbformat": 4,
 "nbformat_minor": 5
}
