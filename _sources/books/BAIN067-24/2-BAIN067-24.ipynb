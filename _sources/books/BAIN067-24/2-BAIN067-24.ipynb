{
 "cells": [
  {
   "cell_type": "markdown",
   "id": "53fa7834-fc5e-4b7f-8604-8f0edd9d81f3",
   "metadata": {},
   "source": [
    "# Geometría Analítica\n",
    "\n",
    "## Plano Cartesiano\n",
    "\n",
    "* Primer Cuadrante  \n",
    "$\\{(x, y) \\in\\mathbb{R^2} \\quad:\\quad x > 0 \\quad\\wedge\\quad y > 0\\}$\n",
    "\n",
    "* Segundo Cuadrante  \n",
    "$\\{(x, y) \\in\\mathbb{R^2} \\quad:\\quad x < 0 \\quad\\wedge\\quad y > 0\\}$\n",
    "\n",
    "* Tercer Cuadrante  \n",
    "$\\{(x, y) \\in\\mathbb{R^2} \\quad:\\quad x < 0 \\quad\\wedge\\quad y < 0\\}$\n",
    "\n",
    "* Cuarto Cuadrante  \n",
    "$\\{(x, y) \\in\\mathbb{R^2} \\quad:\\quad x > 0 \\quad\\wedge\\quad y < 0\\}$\n",
    "\n",
    "## Distancia entre dos Puntos\n",
    "\n",
    "Dados los puntos $\\quad P(x_1, y_1)$, $\\quad Q(x_2, y_2)\\quad$, la distancia entre $P$ y $Q$ está dada por la fórmula:  \n",
    ">$\\quad d(P, Q) = \\sqrt{(x_{2} - x_{1})^2 + (y_{2} - y_{1})^2}$"
   ]
  },
  {
   "cell_type": "markdown",
   "id": "a945827e",
   "metadata": {},
   "source": [
    "## Lugar Geométrico\n",
    "## Regiones en el Plano\n",
    "\n",
    "## Recta\n",
    "\n",
    "### Ecuaciones de la Recta\n",
    "#### Ecuación General\n",
    "$$L: ax + by + c = 0$$\n",
    "#### Ecuación Estándar\n",
    "#### Ecuación Punto-Punto\n",
    "#### Ecuación Punto-Pendiente\n",
    "\n",
    "\n",
    "## Circunferencia\n",
    "## Elipse\n",
    "\n",
    "Se define **elipse** como el lugar geométrico de todos los puntos del plano, tales que la suma de sus distancias a dos puntos fijos ($F1$ y $F2$), llamados **focos**, es una constante positiva ($2a$).\n",
    "\n",
    "\n",
    "\n",
    "## Parábola\n",
    "## Hipérbola"
   ]
  },
  {
   "cell_type": "code",
   "execution_count": null,
   "id": "48c324c9",
   "metadata": {},
   "outputs": [],
   "source": []
  }
 ],
 "metadata": {
  "kernelspec": {
   "display_name": "Python 3 (ipykernel)",
   "language": "python",
   "name": "python3"
  },
  "language_info": {
   "codemirror_mode": {
    "name": "ipython",
    "version": 3
   },
   "file_extension": ".py",
   "mimetype": "text/x-python",
   "name": "python",
   "nbconvert_exporter": "python",
   "pygments_lexer": "ipython3",
   "version": "3.7.16"
  }
 },
 "nbformat": 4,
 "nbformat_minor": 5
}
