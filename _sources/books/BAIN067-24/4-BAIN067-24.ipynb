{
 "cells": [
  {
   "cell_type": "markdown",
   "id": "daa8475b",
   "metadata": {},
   "source": [
    "# Funciones Trigonométricas, Coordenadas Polares y Números Complejos\n",
    "\n"
   ]
  },
  {
   "cell_type": "markdown",
   "id": "8e856f0e",
   "metadata": {},
   "source": [
    "### Ángulos Notables\n",
    "\n",
    "<!-- $0^{\\circ}$, $30^{\\circ}$, $45^{\\circ}$, $60^{\\circ}$, $90^{\\circ}$, $180^{\\circ}$, $270^{\\circ}$, $360^{\\circ}$ -->\n",
    "\n",
    "| Ángulo $\\alpha$ | $0^{\\circ}$ | $30^{\\circ}$         | $45^{\\circ}$         | $60^{\\circ}$         | $90^{\\circ}$ | $180^{\\circ}$ | $270^{\\circ}$ | $360^{\\circ}$ |\n",
    "|-----------------|-------------|----------------------|----------------------|----------------------|--------------|---------------|---------------|---------------|\n",
    "| $\\sin(\\alpha)$  | $0$         | $\\frac{1}{2}$        | $\\frac{\\sqrt{2}}{2}$ | $\\frac{\\sqrt{3}}{2}$ | $1$          | $0$           | $-1$          | $0$           |\n",
    "| $\\cos(\\alpha)$  | $1$         | $\\frac{\\sqrt{3}}{2}$ | $\\frac{\\sqrt{2}}{2}$ | $\\frac{1}{2}$        | $0$          | $-1$          | $0$           | $1$           |\n",
    "| $\\tan(\\alpha)$  | $0$         | $\\frac{\\sqrt{3}}{3}$ | $1$                  | $\\sqrt{3}$           | $\\infty$     | $0$           | $\\infty$      | $0$           |"
   ]
  }
 ],
 "metadata": {
  "kernelspec": {
   "display_name": "Python 3 (ipykernel)",
   "language": "python",
   "name": "python3"
  },
  "language_info": {
   "codemirror_mode": {
    "name": "ipython",
    "version": 3
   },
   "file_extension": ".py",
   "mimetype": "text/x-python",
   "name": "python",
   "nbconvert_exporter": "python",
   "pygments_lexer": "ipython3",
   "version": "3.7.16"
  }
 },
 "nbformat": 4,
 "nbformat_minor": 5
}
