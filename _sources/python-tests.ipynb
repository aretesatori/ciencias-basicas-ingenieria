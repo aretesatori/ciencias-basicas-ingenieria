{
 "cells": [
  {
   "cell_type": "code",
   "execution_count": 4,
   "id": "323effcc-fb41-4f26-b887-d44d25076937",
   "metadata": {},
   "outputs": [
    {
     "data": {
      "text/html": [
       "<div style=\"display: table;\"><div style=\"display: table-row;\"><div style=\"display: table-cell;\"><b title=\"bokeh.models.renderers.GlyphRenderer\">GlyphRenderer</b>(</div><div style=\"display: table-cell;\">id&nbsp;=&nbsp;'1039', <span id=\"1042\" style=\"cursor: pointer;\">&hellip;)</span></div></div><div class=\"1041\" style=\"display: none;\"><div style=\"display: table-cell;\"></div><div style=\"display: table-cell;\">coordinates&nbsp;=&nbsp;None,</div></div><div class=\"1041\" style=\"display: none;\"><div style=\"display: table-cell;\"></div><div style=\"display: table-cell;\">data_source&nbsp;=&nbsp;ColumnDataSource(id='1035', ...),</div></div><div class=\"1041\" style=\"display: none;\"><div style=\"display: table-cell;\"></div><div style=\"display: table-cell;\">glyph&nbsp;=&nbsp;Line(id='1036', ...),</div></div><div class=\"1041\" style=\"display: none;\"><div style=\"display: table-cell;\"></div><div style=\"display: table-cell;\">group&nbsp;=&nbsp;None,</div></div><div class=\"1041\" style=\"display: none;\"><div style=\"display: table-cell;\"></div><div style=\"display: table-cell;\">hover_glyph&nbsp;=&nbsp;None,</div></div><div class=\"1041\" style=\"display: none;\"><div style=\"display: table-cell;\"></div><div style=\"display: table-cell;\">js_event_callbacks&nbsp;=&nbsp;{},</div></div><div class=\"1041\" style=\"display: none;\"><div style=\"display: table-cell;\"></div><div style=\"display: table-cell;\">js_property_callbacks&nbsp;=&nbsp;{},</div></div><div class=\"1041\" style=\"display: none;\"><div style=\"display: table-cell;\"></div><div style=\"display: table-cell;\">level&nbsp;=&nbsp;'glyph',</div></div><div class=\"1041\" style=\"display: none;\"><div style=\"display: table-cell;\"></div><div style=\"display: table-cell;\">muted&nbsp;=&nbsp;False,</div></div><div class=\"1041\" style=\"display: none;\"><div style=\"display: table-cell;\"></div><div style=\"display: table-cell;\">muted_glyph&nbsp;=&nbsp;Line(id='1038', ...),</div></div><div class=\"1041\" style=\"display: none;\"><div style=\"display: table-cell;\"></div><div style=\"display: table-cell;\">name&nbsp;=&nbsp;None,</div></div><div class=\"1041\" style=\"display: none;\"><div style=\"display: table-cell;\"></div><div style=\"display: table-cell;\">nonselection_glyph&nbsp;=&nbsp;Line(id='1037', ...),</div></div><div class=\"1041\" style=\"display: none;\"><div style=\"display: table-cell;\"></div><div style=\"display: table-cell;\">selection_glyph&nbsp;=&nbsp;'auto',</div></div><div class=\"1041\" style=\"display: none;\"><div style=\"display: table-cell;\"></div><div style=\"display: table-cell;\">subscribed_events&nbsp;=&nbsp;[],</div></div><div class=\"1041\" style=\"display: none;\"><div style=\"display: table-cell;\"></div><div style=\"display: table-cell;\">syncable&nbsp;=&nbsp;True,</div></div><div class=\"1041\" style=\"display: none;\"><div style=\"display: table-cell;\"></div><div style=\"display: table-cell;\">tags&nbsp;=&nbsp;[],</div></div><div class=\"1041\" style=\"display: none;\"><div style=\"display: table-cell;\"></div><div style=\"display: table-cell;\">view&nbsp;=&nbsp;CDSView(id='1040', ...),</div></div><div class=\"1041\" style=\"display: none;\"><div style=\"display: table-cell;\"></div><div style=\"display: table-cell;\">visible&nbsp;=&nbsp;True,</div></div><div class=\"1041\" style=\"display: none;\"><div style=\"display: table-cell;\"></div><div style=\"display: table-cell;\">x_range_name&nbsp;=&nbsp;'default',</div></div><div class=\"1041\" style=\"display: none;\"><div style=\"display: table-cell;\"></div><div style=\"display: table-cell;\">y_range_name&nbsp;=&nbsp;'default')</div></div></div>\n",
       "<script>\n",
       "(function() {\n",
       "  let expanded = false;\n",
       "  const ellipsis = document.getElementById(\"1042\");\n",
       "  ellipsis.addEventListener(\"click\", function() {\n",
       "    const rows = document.getElementsByClassName(\"1041\");\n",
       "    for (let i = 0; i < rows.length; i++) {\n",
       "      const el = rows[i];\n",
       "      el.style.display = expanded ? \"none\" : \"table-row\";\n",
       "    }\n",
       "    ellipsis.innerHTML = expanded ? \"&hellip;)\" : \"&lsaquo;&lsaquo;&lsaquo;\";\n",
       "    expanded = !expanded;\n",
       "  });\n",
       "})();\n",
       "</script>\n"
      ],
      "text/plain": [
       "GlyphRenderer(id='1039', ...)"
      ]
     },
     "execution_count": 4,
     "metadata": {},
     "output_type": "execute_result"
    }
   ],
   "source": []
  },
  {
   "cell_type": "markdown",
   "id": "197b488c",
   "metadata": {},
   "source": [
    "### Tabla Trigonométrica de Ángulos \n",
    "\n",
    "$0^{\\circ}$, $30^{\\circ}$, $45^{\\circ}$, $60^{\\circ}$, $90^{\\circ}$\n",
    "\n",
    "|     Ángulos    | $0^{\\circ}$ | $30^{\\circ}$         | $45^{\\circ}$         | $60^{\\circ}$         | $90^{\\circ}$ |\n",
    "|----------------|-------------|----------------------|----------------------|----------------------|--------------|\n",
    "| $\\sin(\\alpha)$ | $0$         | $\\frac{1}{2}$        | $\\frac{\\sqrt{2}}{2}$ | $\\frac{\\sqrt{3}}{2}$ | $1$          |\n",
    "| $\\cos(\\alpha)$ | $1$         | $\\frac{\\sqrt{3}}{2}$ | $\\frac{\\sqrt{2}}{2}$ | $\\frac{1}{2}$        | $0$          |\n",
    "| $\\tan(\\alpha)$ | $0$         | $\\frac{\\sqrt{3}}{3}$ | $1$                  | $\\sqrt{3}$           | $\\infty$     |"
   ]
  },
  {
   "cell_type": "markdown",
   "id": "e3c6b40c",
   "metadata": {},
   "source": [
    "### Ángulos \n",
    "\n",
    "$0^{\\circ}$, $30^{\\circ}$, $45^{\\circ}$, $60^{\\circ}$, $90^{\\circ}$, $180^{\\circ}$, $270^{\\circ}$, $360^{\\circ}$\n",
    "\n",
    "| Ángulo $\\alpha$ | $0^{\\circ}$ | $30^{\\circ}$         | $45^{\\circ}$         | $60^{\\circ}$         | $90^{\\circ}$ | $180^{\\circ}$ | $270^{\\circ}$ | $360^{\\circ}$ |\n",
    "|-----------------|-------------|----------------------|----------------------|----------------------|--------------|---------------|---------------|---------------|\n",
    "| $\\sin(\\alpha)$  | $0$         | $\\frac{1}{2}$        | $\\frac{\\sqrt{2}}{2}$ | $\\frac{\\sqrt{3}}{2}$ | $1$          | $0$           | $-1$          | $0$           |\n",
    "| $\\cos(\\alpha)$  | $1$         | $\\frac{\\sqrt{3}}{2}$ | $\\frac{\\sqrt{2}}{2}$ | $\\frac{1}{2}$        | $0$          | $-1$          | $0$           | $1$           |\n",
    "| $\\tan(\\alpha)$  | $0$         | $\\frac{1}{\\sqrt{3}}$ | $1$                  | $\\sqrt{3}$           | $\\infty$     | $0$           | $\\infty$      | $0$           |"
   ]
  },
  {
   "cell_type": "markdown",
   "id": "e97d5514",
   "metadata": {},
   "source": [
    "### Tabla Trigonométrica de Ángulos en Radianes\n",
    "\n",
    "| Ángulo $\\alpha$ | $0$ | $\\frac{\\pi}{6}$      | $\\frac{\\pi}{4}$      | $\\frac{\\pi}{3}$      | $\\frac{\\pi}{2}$ | $\\pi$ | $\\frac{3\\pi}{2}$ | $2\\pi$ |\n",
    "|-----------------|-----|----------------------|----------------------|----------------------|-----------------|-------|------------------|--------|\n",
    "| $\\sin(\\alpha)$  | $0$ | $\\frac{1}{2}$        | $\\frac{\\sqrt{2}}{2}$ | $\\frac{\\sqrt{3}}{2}$ | $1$             | $0$   | $-1$             | $0$    |\n",
    "| $\\cos(\\alpha)$  | $1$ | $\\frac{\\sqrt{3}}{2}$ | $\\frac{\\sqrt{2}}{2}$ | $\\frac{1}{2}$        | $0$             | $-1$  | $0$              | $1$    |\n",
    "| $\\tan(\\alpha)$  | $0$ | $\\frac{1}{\\sqrt{3}}$ | $1$                  | $\\sqrt{3}$           | $\\infty$        | $0$   | $\\infty$         | $0$    |"
   ]
  },
  {
   "cell_type": "code",
   "execution_count": 5,
   "id": "f1933252-9ac3-4480-a961-55af965d21a4",
   "metadata": {},
   "outputs": [
    {
     "data": {
      "text/html": [
       "<div style=\"display: table;\"><div style=\"display: table-row;\"><div style=\"display: table-cell;\"><b title=\"bokeh.models.renderers.GlyphRenderer\">GlyphRenderer</b>(</div><div style=\"display: table-cell;\">id&nbsp;=&nbsp;'1078', <span id=\"1081\" style=\"cursor: pointer;\">&hellip;)</span></div></div><div class=\"1080\" style=\"display: none;\"><div style=\"display: table-cell;\"></div><div style=\"display: table-cell;\">coordinates&nbsp;=&nbsp;None,</div></div><div class=\"1080\" style=\"display: none;\"><div style=\"display: table-cell;\"></div><div style=\"display: table-cell;\">data_source&nbsp;=&nbsp;ColumnDataSource(id='1074', ...),</div></div><div class=\"1080\" style=\"display: none;\"><div style=\"display: table-cell;\"></div><div style=\"display: table-cell;\">glyph&nbsp;=&nbsp;Line(id='1075', ...),</div></div><div class=\"1080\" style=\"display: none;\"><div style=\"display: table-cell;\"></div><div style=\"display: table-cell;\">group&nbsp;=&nbsp;None,</div></div><div class=\"1080\" style=\"display: none;\"><div style=\"display: table-cell;\"></div><div style=\"display: table-cell;\">hover_glyph&nbsp;=&nbsp;None,</div></div><div class=\"1080\" style=\"display: none;\"><div style=\"display: table-cell;\"></div><div style=\"display: table-cell;\">js_event_callbacks&nbsp;=&nbsp;{},</div></div><div class=\"1080\" style=\"display: none;\"><div style=\"display: table-cell;\"></div><div style=\"display: table-cell;\">js_property_callbacks&nbsp;=&nbsp;{},</div></div><div class=\"1080\" style=\"display: none;\"><div style=\"display: table-cell;\"></div><div style=\"display: table-cell;\">level&nbsp;=&nbsp;'glyph',</div></div><div class=\"1080\" style=\"display: none;\"><div style=\"display: table-cell;\"></div><div style=\"display: table-cell;\">muted&nbsp;=&nbsp;False,</div></div><div class=\"1080\" style=\"display: none;\"><div style=\"display: table-cell;\"></div><div style=\"display: table-cell;\">muted_glyph&nbsp;=&nbsp;Line(id='1077', ...),</div></div><div class=\"1080\" style=\"display: none;\"><div style=\"display: table-cell;\"></div><div style=\"display: table-cell;\">name&nbsp;=&nbsp;None,</div></div><div class=\"1080\" style=\"display: none;\"><div style=\"display: table-cell;\"></div><div style=\"display: table-cell;\">nonselection_glyph&nbsp;=&nbsp;Line(id='1076', ...),</div></div><div class=\"1080\" style=\"display: none;\"><div style=\"display: table-cell;\"></div><div style=\"display: table-cell;\">selection_glyph&nbsp;=&nbsp;'auto',</div></div><div class=\"1080\" style=\"display: none;\"><div style=\"display: table-cell;\"></div><div style=\"display: table-cell;\">subscribed_events&nbsp;=&nbsp;[],</div></div><div class=\"1080\" style=\"display: none;\"><div style=\"display: table-cell;\"></div><div style=\"display: table-cell;\">syncable&nbsp;=&nbsp;True,</div></div><div class=\"1080\" style=\"display: none;\"><div style=\"display: table-cell;\"></div><div style=\"display: table-cell;\">tags&nbsp;=&nbsp;[],</div></div><div class=\"1080\" style=\"display: none;\"><div style=\"display: table-cell;\"></div><div style=\"display: table-cell;\">view&nbsp;=&nbsp;CDSView(id='1079', ...),</div></div><div class=\"1080\" style=\"display: none;\"><div style=\"display: table-cell;\"></div><div style=\"display: table-cell;\">visible&nbsp;=&nbsp;True,</div></div><div class=\"1080\" style=\"display: none;\"><div style=\"display: table-cell;\"></div><div style=\"display: table-cell;\">x_range_name&nbsp;=&nbsp;'default',</div></div><div class=\"1080\" style=\"display: none;\"><div style=\"display: table-cell;\"></div><div style=\"display: table-cell;\">y_range_name&nbsp;=&nbsp;'default')</div></div></div>\n",
       "<script>\n",
       "(function() {\n",
       "  let expanded = false;\n",
       "  const ellipsis = document.getElementById(\"1081\");\n",
       "  ellipsis.addEventListener(\"click\", function() {\n",
       "    const rows = document.getElementsByClassName(\"1080\");\n",
       "    for (let i = 0; i < rows.length; i++) {\n",
       "      const el = rows[i];\n",
       "      el.style.display = expanded ? \"none\" : \"table-row\";\n",
       "    }\n",
       "    ellipsis.innerHTML = expanded ? \"&hellip;)\" : \"&lsaquo;&lsaquo;&lsaquo;\";\n",
       "    expanded = !expanded;\n",
       "  });\n",
       "})();\n",
       "</script>\n"
      ],
      "text/plain": [
       "GlyphRenderer(id='1078', ...)"
      ]
     },
     "execution_count": 5,
     "metadata": {},
     "output_type": "execute_result"
    }
   ],
   "source": []
  },
  {
   "cell_type": "code",
   "execution_count": 8,
   "id": "80e07c19-2cfc-4c4c-a0e5-f238ba059b13",
   "metadata": {},
   "outputs": [
    {
     "data": {
      "text/html": [
       "<div style=\"display: table;\"><div style=\"display: table-row;\"><div style=\"display: table-cell;\"><b title=\"bokeh.models.renderers.GlyphRenderer\">GlyphRenderer</b>(</div><div style=\"display: table-cell;\">id&nbsp;=&nbsp;'1170', <span id=\"1173\" style=\"cursor: pointer;\">&hellip;)</span></div></div><div class=\"1172\" style=\"display: none;\"><div style=\"display: table-cell;\"></div><div style=\"display: table-cell;\">coordinates&nbsp;=&nbsp;None,</div></div><div class=\"1172\" style=\"display: none;\"><div style=\"display: table-cell;\"></div><div style=\"display: table-cell;\">data_source&nbsp;=&nbsp;ColumnDataSource(id='1166', ...),</div></div><div class=\"1172\" style=\"display: none;\"><div style=\"display: table-cell;\"></div><div style=\"display: table-cell;\">glyph&nbsp;=&nbsp;Line(id='1167', ...),</div></div><div class=\"1172\" style=\"display: none;\"><div style=\"display: table-cell;\"></div><div style=\"display: table-cell;\">group&nbsp;=&nbsp;None,</div></div><div class=\"1172\" style=\"display: none;\"><div style=\"display: table-cell;\"></div><div style=\"display: table-cell;\">hover_glyph&nbsp;=&nbsp;None,</div></div><div class=\"1172\" style=\"display: none;\"><div style=\"display: table-cell;\"></div><div style=\"display: table-cell;\">js_event_callbacks&nbsp;=&nbsp;{},</div></div><div class=\"1172\" style=\"display: none;\"><div style=\"display: table-cell;\"></div><div style=\"display: table-cell;\">js_property_callbacks&nbsp;=&nbsp;{},</div></div><div class=\"1172\" style=\"display: none;\"><div style=\"display: table-cell;\"></div><div style=\"display: table-cell;\">level&nbsp;=&nbsp;'glyph',</div></div><div class=\"1172\" style=\"display: none;\"><div style=\"display: table-cell;\"></div><div style=\"display: table-cell;\">muted&nbsp;=&nbsp;False,</div></div><div class=\"1172\" style=\"display: none;\"><div style=\"display: table-cell;\"></div><div style=\"display: table-cell;\">muted_glyph&nbsp;=&nbsp;Line(id='1169', ...),</div></div><div class=\"1172\" style=\"display: none;\"><div style=\"display: table-cell;\"></div><div style=\"display: table-cell;\">name&nbsp;=&nbsp;None,</div></div><div class=\"1172\" style=\"display: none;\"><div style=\"display: table-cell;\"></div><div style=\"display: table-cell;\">nonselection_glyph&nbsp;=&nbsp;Line(id='1168', ...),</div></div><div class=\"1172\" style=\"display: none;\"><div style=\"display: table-cell;\"></div><div style=\"display: table-cell;\">selection_glyph&nbsp;=&nbsp;'auto',</div></div><div class=\"1172\" style=\"display: none;\"><div style=\"display: table-cell;\"></div><div style=\"display: table-cell;\">subscribed_events&nbsp;=&nbsp;[],</div></div><div class=\"1172\" style=\"display: none;\"><div style=\"display: table-cell;\"></div><div style=\"display: table-cell;\">syncable&nbsp;=&nbsp;True,</div></div><div class=\"1172\" style=\"display: none;\"><div style=\"display: table-cell;\"></div><div style=\"display: table-cell;\">tags&nbsp;=&nbsp;[],</div></div><div class=\"1172\" style=\"display: none;\"><div style=\"display: table-cell;\"></div><div style=\"display: table-cell;\">view&nbsp;=&nbsp;CDSView(id='1171', ...),</div></div><div class=\"1172\" style=\"display: none;\"><div style=\"display: table-cell;\"></div><div style=\"display: table-cell;\">visible&nbsp;=&nbsp;True,</div></div><div class=\"1172\" style=\"display: none;\"><div style=\"display: table-cell;\"></div><div style=\"display: table-cell;\">x_range_name&nbsp;=&nbsp;'default',</div></div><div class=\"1172\" style=\"display: none;\"><div style=\"display: table-cell;\"></div><div style=\"display: table-cell;\">y_range_name&nbsp;=&nbsp;'default')</div></div></div>\n",
       "<script>\n",
       "(function() {\n",
       "  let expanded = false;\n",
       "  const ellipsis = document.getElementById(\"1173\");\n",
       "  ellipsis.addEventListener(\"click\", function() {\n",
       "    const rows = document.getElementsByClassName(\"1172\");\n",
       "    for (let i = 0; i < rows.length; i++) {\n",
       "      const el = rows[i];\n",
       "      el.style.display = expanded ? \"none\" : \"table-row\";\n",
       "    }\n",
       "    ellipsis.innerHTML = expanded ? \"&hellip;)\" : \"&lsaquo;&lsaquo;&lsaquo;\";\n",
       "    expanded = !expanded;\n",
       "  });\n",
       "})();\n",
       "</script>\n"
      ],
      "text/plain": [
       "GlyphRenderer(id='1170', ...)"
      ]
     },
     "execution_count": 8,
     "metadata": {},
     "output_type": "execute_result"
    }
   ],
   "source": []
  },
  {
   "cell_type": "code",
   "execution_count": 9,
   "id": "2d7e6021-bea5-4802-8010-1e8cef01c222",
   "metadata": {},
   "outputs": [],
   "source": []
  },
  {
   "cell_type": "code",
   "execution_count": 10,
   "id": "e4da5edc-4e8c-4098-ab88-ccb56f35fb69",
   "metadata": {},
   "outputs": [
    {
     "name": "stderr",
     "output_type": "stream",
     "text": [
      "UsageError: Line magic function `%install_ext` not found.\n"
     ]
    }
   ],
   "source": [
    "%install_ext https://raw.githubusercontent.com/laurentperrinet/ipython_magics/master/tikzmagic.py"
   ]
  },
  {
   "cell_type": "markdown",
   "id": "860ed3c1-37c0-415c-96d9-32ac60131b66",
   "metadata": {},
   "source": []
  },
  {
   "cell_type": "markdown",
   "id": "8222bb58-5fff-418e-9062-31c3bc0b4e1e",
   "metadata": {},
   "source": [
    " $\\bigstar$\n",
    "\n",
    "$\\bigl\\{\\begin{smallmatrix}2 & 3\\\\ 4 & 1\\end{smallmatrix}\\bigr\\}$\n",
    "\n",
    "$\\quad\\begin{equation}2x + y = 1 \\atop x + y = 4\\end{equation}\\quad$\n",
    "\n",
    "$\\quad\\begin{smallmatrix}2x + y = 1\\\\ x + y = 4\\end{smallmatrix}\\quad$\n",
    "\n",
    "$\\begin{matrix} (2, 1) \\\\ (-2, -1) \\end{matrix}$\n",
    "\n",
    "$\\left\\{\\begin{array}{lr} \\frac{n}{m}\\quad : \\quad n, m \\in\\mathbb{Z}\\quad ; \\quad m\\neq 0 \\end{array}\\right\\}$  "
   ]
  },
  {
   "cell_type": "code",
   "execution_count": 18,
   "id": "45fd1b53-7e40-4cb3-b552-50eb57ba91df",
   "metadata": {
    "scrolled": false
   },
   "outputs": [
    {
     "data": {
      "text/html": [
       "<iframe scrolling=\"no\" title=\"Copy of Binomial Formula\" src=\"https://www.geogebra.org/material/iframe/id/v2b4fnb3/width/1000/height/600/border/888888/sfsb/true/smb/false/stb/false/stbh/false/ai/false/asb/false/sri/false/rc/false/ld/false/sdz/false/ctl/false\" width=\"100%\" height=\"460px\" style=\"border: 0px;\"></iframe>"
      ],
      "text/plain": [
       "<IPython.core.display.HTML object>"
      ]
     },
     "execution_count": 18,
     "metadata": {},
     "output_type": "execute_result"
    }
   ],
   "source": [
    "#import warnings\n",
    "from IPython.display import HTML\n",
    "\n",
    "GEOGEBRA_WIDTH = \"100%\"\n",
    "GEOGEBRA_HEIGHT = \"460px\"\n",
    "\n",
    "#warnings.filterwarnings(\"ignore\")\n",
    "HTML('<iframe scrolling=\"no\" title=\"Copy of Binomial Formula\" src=\"https://www.geogebra.org/material/iframe/id/v2b4fnb3/width/1000/height/600/border/888888/sfsb/true/smb/false/stb/false/stbh/false/ai/false/asb/false/sri/false/rc/false/ld/false/sdz/false/ctl/false\" width=\"' + GEOGEBRA_WIDTH + '\" height=\"' + GEOGEBRA_HEIGHT + '\" style=\"border: 0px;\"></iframe>')\n"
   ]
  },
  {
   "cell_type": "code",
   "execution_count": null,
   "id": "18a94702-f0cb-41f8-9518-4423149b8d15",
   "metadata": {},
   "outputs": [],
   "source": []
  },
  {
   "cell_type": "code",
   "execution_count": null,
   "id": "044fa186-6ba4-4f3f-93e2-a101d6da62cc",
   "metadata": {},
   "outputs": [],
   "source": []
  },
  {
   "cell_type": "markdown",
   "id": "87da2112-44ab-4593-892e-4f45841fe99b",
   "metadata": {},
   "source": [
    "**8.** Considera un solo bucle del cicloide que tenga un valor fijo dea como se muestra en la figura. Un auto liberado del descanso en cualquier punto en $P_{0}$ cualquier lugar de la pista entre $0$ y el punto más bajo $P$, es decir, $P_0$ tiene un parámetro $0<θ_0<\\pi$.\n",
    "\n",
    "<img src=\"https://phys.libretexts.org/@api/deki/files/21135/5.e.1.PNG\"></img>\n",
    "\n",
    "**a.** Demostrar que el tiempo $T$ para que el carro $P$ se deslice de $P_0$ a viene dado por la integral:\n",
    "\n",
    "$T(P_0 \\rightarrow P) = \\sqrt{\\frac{a}{g}} \\int^{\\pi}_{\\theta_0} \\sqrt{\\frac{1 − \\cos \\theta}{ \\cos \\theta_0 − \\cos \\theta}} d\\theta\\nonumber$"
   ]
  },
  {
   "cell_type": "markdown",
   "id": "b2533b87-11b8-4942-aa5a-87148a1db39d",
   "metadata": {},
   "source": [
    "<!-- <h1>Hello</h1>\n",
    "\n",
    "<div style=\"width: 100%; height: 100px; background-color: red\"></div>\n",
    "<video width=\"400\" controls>\n",
    "  <source src=\"https://www.w3schools.com/html/mov_bbb.mp4\" type=\"video/mp4\">\n",
    "  Your browser does not support HTML video.\n",
    "</video>\n",
    "<audio controls autoplay>\n",
    "  \n",
    "  <source src=\"https://s3.amazonaws.com/cwa5/AF444765_1715107099_Bc7-BI-UR-L1-ES-01-IN-NE_54-00_56-00.mp3\" type=\"audio/mpeg\">\n",
    "Your browser does not support the audio element.\n",
    "</audio>\n",
    "\n",
    "---\n",
    "\n",
    "<main></main>\n",
    "<script type=\"text/javascript\">\n",
    "    let A = 100;\n",
    "    let B = 0.07;\n",
    "    \n",
    "    function setup() {\n",
    "      createCanvas(600, 600);\n",
    "    }\n",
    "    \n",
    "    function draw() {\n",
    "      background(220);\n",
    "      noFill();\n",
    "      strokeWeight(4);\n",
    "      beginShape();\n",
    "      for(let i = 0; i < width; i++) {\n",
    "        vertex(i, A * sin(B * i) + height / 2);\n",
    "        point(i * 10, i * 2);\n",
    "      }\n",
    "      endShape();\n",
    "    }\n",
    "</script>\n",
    "<p>meow 2</p> -->"
   ]
  },
  {
   "cell_type": "code",
   "execution_count": null,
   "id": "e939f52d-a244-470e-b83b-c779372500b4",
   "metadata": {},
   "outputs": [],
   "source": []
  },
  {
   "cell_type": "code",
   "execution_count": null,
   "id": "fa2e9fc8-c842-4377-a60f-8f651bee760d",
   "metadata": {},
   "outputs": [],
   "source": []
  },
  {
   "cell_type": "code",
   "execution_count": null,
   "id": "6384fd2d-2c57-4e2c-8a5b-48a89623c098",
   "metadata": {},
   "outputs": [],
   "source": []
  },
  {
   "cell_type": "code",
   "execution_count": null,
   "id": "7f6afa05-a67b-48e0-a5aa-01ef0b2b4473",
   "metadata": {},
   "outputs": [],
   "source": [
    "#import warnings\n",
    "#from IPython.display import HTML\n",
    "\n",
    "#warnings.filterwarnings(\"ignore\")\n",
    "#HTML('<iframe src=\"https://www.desmos.com/calculator/o77uzm8rdb?embed\" width=\"100%\" height=\"500\" style=\"border: 1px solid #ccc\" frameborder=0></iframe>')"
   ]
  },
  {
   "cell_type": "code",
   "execution_count": 86,
   "id": "e1885099-c66b-4fe1-aa1c-1e9da2a06d9a",
   "metadata": {},
   "outputs": [
    {
     "data": {
      "text/html": [
       "<iframe height=\"500\" style=\"width: 100%;\" scrolling=\"no\" title=\"Native CSS particle animation with sin() and cos()\" src=\"https://codepen.io/giana/embed/LYaOdye?default-tab=result\" frameborder=\"no\" loading=\"lazy\" allowtransparency=\"true\" allowfullscreen=\"true\"></iframe>"
      ],
      "text/plain": [
       "<IPython.core.display.HTML object>"
      ]
     },
     "execution_count": 86,
     "metadata": {},
     "output_type": "execute_result"
    }
   ],
   "source": [
    "#import warnings\n",
    "#from IPython.display import HTML\n",
    "\n",
    "#warnings.filterwarnings(\"ignore\")\n",
    "#HTML('<iframe height=\"500\" style=\"width: 100%;\" scrolling=\"no\" title=\"Native CSS particle animation with sin() and cos()\" src=\"https://codepen.io/giana/embed/LYaOdye?default-tab=result\" frameborder=\"no\" loading=\"lazy\" allowtransparency=\"true\" allowfullscreen=\"true\"></iframe>')"
   ]
  },
  {
   "cell_type": "code",
   "execution_count": null,
   "id": "90b2de08-b6ed-4989-8936-8a25cdd2b0b4",
   "metadata": {},
   "outputs": [],
   "source": [
    "from IPython.display import HTML\n",
    "\n",
    "HTML('<p>Geogebra</p><iframe height=\"500\" style=\"width: 100%;\" scrolling=\"no\" title=\"Test\" src=\"https://www.geogebra.org/graphing\" frameborder=\"no\" loading=\"lazy\" allowtransparency=\"true\" allowfullscreen=\"true\"></iframe>')"
   ]
  },
  {
   "cell_type": "markdown",
   "id": "8e206966-c7db-40ea-a8a3-46a3450372c7",
   "metadata": {},
   "source": [
    ":::{seealso} \n",
    "\n",
    "Puedes estudiar ejemplos con otros modelos probabilísticos en: https://magister-informatica-uach.github.io/INFO337/lectures/11_MCMC/lecture2.html\n",
    "\n",
    ":::\n",
    "\n",
    "\n",
    ":::{attention} \n",
    "\n",
    "I'm attention.\n",
    "\n",
    ":::\n",
    "\n",
    "\n",
    ":::{caution} \n",
    "\n",
    "I'm caution.\n",
    "\n",
    ":::\n",
    "\n",
    "\n",
    ":::{danger} \n",
    "\n",
    "I'm danger.\n",
    "\n",
    ":::\n",
    "\n",
    "\n",
    ":::{error} \n",
    "\n",
    "I'm error.\n",
    "\n",
    ":::\n",
    "\n",
    "\n",
    ":::{hint} \n",
    "\n",
    "I'm hint.\n",
    "\n",
    ":::\n",
    "\n",
    "\n",
    ":::{important} \n",
    "\n",
    "I'm important.\n",
    "\n",
    ":::\n",
    "\n",
    "\n",
    ":::{note} \n",
    "\n",
    "I'm note.\n",
    "\n",
    ":::\n",
    "\n",
    "\n",
    ":::{tip} \n",
    "\n",
    "I'm tip.\n",
    "\n",
    ":::\n",
    "\n",
    "\n",
    ":::{warning} \n",
    "\n",
    "I'm warning.\n",
    "\n",
    ":::\n",
    "\n",
    "\n",
    ":::{admonition}\n",
    "\n",
    "Hello World\n",
    "\n",
    ":::"
   ]
  },
  {
   "cell_type": "markdown",
   "id": "fab8dd77-b3f3-4050-8969-f8d9b2b747e4",
   "metadata": {},
   "source": [
    "$$\\sum_{i=0}^{\\infty} \\frac{1}{10^i}$$"
   ]
  },
  {
   "cell_type": "code",
   "execution_count": null,
   "id": "b23bc68e",
   "metadata": {},
   "outputs": [],
   "source": [
    "from IPython.display import HTML\n",
    "\n",
    "HTML('<button type=\"checkbox\">meow</button>')"
   ]
  },
  {
   "cell_type": "markdown",
   "id": "f4706e12",
   "metadata": {},
   "source": [
    "<!--<style>\n",
    "table, th, td {\n",
    "  border: 1px solid black;\n",
    "  border-collapse: collapse;\n",
    "}\n",
    "</style>-->\n",
    "\n",
    "### Tabla de Signos\n",
    "\n",
    "<table style=\"width:100%\" cellpadding=\"5\">\n",
    "  <tr>\n",
    "    <th colspan=\"5\">\n",
    "      <span style=\"margin-right: 20%;\">$-\\infty$</span>\n",
    "      <span style=\"margin-right: 10%\">$-1$</span>\n",
    "      <span style=\"margin-left: 10%;\">$3$</span>\n",
    "      <span style=\"margin-left: 25%\">$+\\infty$</span>\n",
    "    </th>\n",
    "  </tr>\n",
    "  <tr>\n",
    "    <td style=\"text-align: center; width: 20%;\">$(x-2)$</td>\n",
    "    <td style=\"text-align: center\">$-$</td>\n",
    "    <td style=\"text-align: center\">$+$</td>\n",
    "    <td style=\"text-align: center\">$+$</td>\n",
    "    <td style=\"width: 5%;\"></td>\n",
    "  </tr>\n",
    "  <tr>\n",
    "    <td style=\"text-align: center\">$(x+2)$</td>\n",
    "    <td style=\"text-align: center\">$-$</td>\n",
    "    <td style=\"text-align: center\">$+$</td>\n",
    "    <td style=\"text-align: center\">$+$</td>\n",
    "    <td style=\"width: 5%;\"></td>\n",
    "  </tr>\n",
    "    <tr>\n",
    "    <td style=\"text-align: center\">$(x-2) \\cdot (x+2)$</td>\n",
    "    <td style=\"text-align: center\">$-$</td>\n",
    "    <td style=\"text-align: center\">$+$</td>\n",
    "    <td style=\"text-align: center\">$+$</td>\n",
    "    <td style=\"width: 5%;\"></td>\n",
    "  </tr>\n",
    "</table>\n",
    "\n",
    "\n",
    "<table style=\"width:100%\" cellpadding=\"5\">\n",
    "  <tr>\n",
    "  \t<th></th>\n",
    "    <th colspan=\"6\">\n",
    "      <span style=\"margin-left: 10%; margin-right: 10%;\">-inf</span>\n",
    "      <span style=\"margin-left: 12%; margin-right: 12%;\">-1</span>\n",
    "      <span style=\"margin-left: 10%; margin-right: 0%;\">3</span>\n",
    "      <span style=\"margin-left: 10%; margin-right: 15%;\">+inf</span>\n",
    "    </th>\n",
    "  </tr>\n",
    "  <tr>\n",
    "    <td style=\"text-align: center; width: 20%;\">(x-2)</td>\n",
    "    <td style=\"width: 10%;\"></td>\n",
    "    <td style=\"text-align: center\">-</td>\n",
    "    <td style=\"text-align: center\">+</td>\n",
    "    <td style=\"text-align: center\">+</td>\n",
    "    <td style=\"width: 10%;\"></td>\n",
    "  </tr>\n",
    "  <tr>\n",
    "    <td style=\"text-align: center\">(x+2)</td>\n",
    "    <td style=\"width: 10%;\"></td>\n",
    "    <td style=\"text-align: center\">-</td>\n",
    "    <td style=\"text-align: center\">+</td>\n",
    "    <td style=\"text-align: center\">+</td>\n",
    "    <td style=\"width: 10%;\"></td>\n",
    "  </tr>\n",
    "  <tr>\n",
    "    <td style=\"text-align: center\">(x+2)(x-2)</td>\n",
    "    <td style=\"width: 10%;\"></td>\n",
    "    <td style=\"text-align: center\">-</td>\n",
    "    <td style=\"text-align: center\">+</td>\n",
    "    <td style=\"text-align: center\">+</td>\n",
    "    <td style=\"width: 10%;\"></td>\n",
    "  </tr>\n",
    "</table>"
   ]
  },
  {
   "cell_type": "code",
   "execution_count": 14,
   "id": "b8f018c2",
   "metadata": {},
   "outputs": [
    {
     "data": {
      "text/html": [
       "<iframe scrolling=\"no\" title=\"Correspondencia de Funciones\" src=\"https://www.geogebra.org/material/iframe/id/acrkjzme/width/750/height/580/border/888888/sfsb/true/smb/false/stb/false/stbh/false/ai/false/asb/false/sri/false/rc/false/ld/false/sdz/false/ctl/false\" width=\"48%\" height=\"500\" style=\"border: 0px;\"></iframe> <iframe scrolling=\"no\" title=\"Correspondencia de Funciones\" src=\"https://www.geogebra.org/material/iframe/id/acrkjzme/width/750/height/580/border/888888/sfsb/true/smb/false/stb/false/stbh/false/ai/false/asb/false/sri/false/rc/false/ld/false/sdz/false/ctl/false\" width=\"48%\" height=\"500\" style=\"border: 0px;\"></iframe>"
      ],
      "text/plain": [
       "<IPython.core.display.HTML object>"
      ]
     },
     "execution_count": 14,
     "metadata": {},
     "output_type": "execute_result"
    }
   ],
   "source": [
    "from IPython.display import HTML\n",
    "\n",
    "HTML('<iframe scrolling=\"no\" title=\"Correspondencia de Funciones\" src=\"https://www.geogebra.org/material/iframe/id/acrkjzme/width/750/height/580/border/888888/sfsb/true/smb/false/stb/false/stbh/false/ai/false/asb/false/sri/false/rc/false/ld/false/sdz/false/ctl/false\" width=\"48%\" height=\"500\" style=\"border: 0px;\"></iframe> <iframe scrolling=\"no\" title=\"Correspondencia de Funciones\" src=\"https://www.geogebra.org/material/iframe/id/acrkjzme/width/750/height/580/border/888888/sfsb/true/smb/false/stb/false/stbh/false/ai/false/asb/false/sri/false/rc/false/ld/false/sdz/false/ctl/false\" width=\"48%\" height=\"500\" style=\"border: 0px;\"></iframe>')\n",
    "#HTML('<iframe scrolling=\"no\" title=\"Correspondencia de Funciones\" src=\"https://www.geogebra.org/material/iframe/id/acrkjzme/width/750/height/580/border/888888/sfsb/true/smb/false/stb/false/stbh/false/ai/false/asb/false/sri/false/rc/false/ld/false/sdz/false/ctl/false\" width=\"50%\" height=\"500\" style=\"border: 0px;\"></iframe>')"
   ]
  },
  {
   "cell_type": "markdown",
   "id": "0cec8639",
   "metadata": {},
   "source": [
    "$$\n",
    "a + b + c = \\underbrace{(a + b) + c}_{\\text{Anotación horizontal inferior}}\n",
    "$$\n",
    "\n",
    "$\\begin{tabular}{|c|c|c|}\n",
    "\\hline\n",
    "\\phantom{\\frac{1}{2}} \\bold{\\(x\\)}& \\bold{\\(\\:\\:y\\)}& \\bold{\\quad\\quad\\;\\;\\;\\(\\)\\quad\\quad\\;\\;\\;}\\\\\n",
    "\\hline\n",
    "\\colorbox{}\\mathsf{{}} & \\colorbox{}\\mathsf{{}} & \\\\\n",
    "\\hline\n",
    "\\colorbox{}\\mathsf{{}} & \\colorbox{}\\mathsf{{}}& \\\\\n",
    "\\hline\n",
    "\\colorbox{}\\mathsf{{ }} & \\colorbox{}\\mathsf{{ }} & \\\\\n",
    "\\hline\n",
    "\\colorbox{}\\mathsf{{ }} & \\colorbox{}\\mathsf{{}} & \\\\\n",
    "\\hline\n",
    "\\end{tabular}$"
   ]
  },
  {
   "cell_type": "code",
   "execution_count": 26,
   "id": "ed459e07",
   "metadata": {},
   "outputs": [
    {
     "data": {
      "text/html": [
       "\n",
       "<div style=\"display: flex; justify-content: center; align-items: center; width: 100%;\">\n",
       "    <iframe scrolling=\"no\" title=\"Función Cuadrática\" src=\"https://www.geogebra.org/material/iframe/id/vxrpnxfg/width/750/height/580/border/888888/sfsb/true/smb/false/stb/false/stbh/false/ai/false/asb/false/sri/false/rc/false/ld/false/sdz/false/ctl/false\" width=\"100%\" height=\"500\" style=\"border: 0px;\"></iframe>\n",
       "</div>\n"
      ],
      "text/plain": [
       "<IPython.core.display.HTML object>"
      ]
     },
     "execution_count": 26,
     "metadata": {},
     "output_type": "execute_result"
    }
   ],
   "source": [
    "from IPython.display import HTML\n",
    "\n",
    "HTML('''\n",
    "<div style=\"display: flex; justify-content: center; align-items: center; width: 100%;\">\n",
    "    <iframe scrolling=\"no\" title=\"Función Cuadrática\" src=\"https://www.geogebra.org/material/iframe/id/vxrpnxfg/width/750/height/580/border/888888/sfsb/true/smb/false/stb/false/stbh/false/ai/false/asb/false/sri/false/rc/false/ld/false/sdz/false/ctl/false\" width=\"100%\" height=\"500\" style=\"border: 0px;\"></iframe>\n",
    "</div>\n",
    "''')\n",
    "\n",
    "#HTML('<iframe scrolling=\"no\" title=\"Función Cuadrática\" src=\"https://www.geogebra.org/material/iframe/id/vxrpnxfg/width/750/height/580/border/888888/sfsb/true/smb/false/stb/false/stbh/false/ai/false/asb/false/sri/false/rc/false/ld/false/sdz/false/ctl/false\" width=\"100%\" height=\"500\" style=\"border: 0px;\"></iframe>')"
   ]
  },
  {
   "cell_type": "code",
   "execution_count": 34,
   "id": "e3378f54",
   "metadata": {},
   "outputs": [
    {
     "name": "stderr",
     "output_type": "stream",
     "text": [
      "/opt/miniconda3/envs/jupyter-book-demo/lib/python3.7/site-packages/IPython/core/display.py:724: UserWarning: Consider using IPython.display.IFrame instead\n",
      "  warnings.warn(\"Consider using IPython.display.IFrame instead\")\n"
     ]
    },
    {
     "data": {
      "text/html": [
       "<iframe height=\"600\" width=\"100%\" style=\"border: 2px solid gray; padding: 1%; border-radius: 1em;\" scrolling=\"no\" title=\"Test\" src=\"https://www.geogebra.org/geometry/d9j5jeke\" frameborder=\"no\" loading=\"lazy\" allowtransparency=\"true\" allowfullscreen=\"true\"></iframe>"
      ],
      "text/plain": [
       "<IPython.core.display.HTML object>"
      ]
     },
     "execution_count": 34,
     "metadata": {},
     "output_type": "execute_result"
    }
   ],
   "source": [
    "## Geogebra Iframe (Plane Geometry)\n",
    "\n",
    "from IPython.display import HTML\n",
    "\n",
    "HTML('<iframe height=\"600\" width=\"100%\" style=\"border: 2px solid gray; padding: 1%; border-radius: 1em;\" scrolling=\"no\" title=\"Test\" src=\"https://www.geogebra.org/geometry/d9j5jeke\" frameborder=\"no\" loading=\"lazy\" allowtransparency=\"true\" allowfullscreen=\"true\"></iframe>')"
   ]
  },
  {
   "cell_type": "code",
   "execution_count": 35,
   "id": "4ee9ece0",
   "metadata": {
    "scrolled": false
   },
   "outputs": [
    {
     "data": {
      "text/html": [
       "<iframe height=\"600\" width=\"100%\" style=\"border: 2px solid gray; padding: 1%; border-radius: 1em;\" scrolling=\"no\" title=\"Test\" src=\"https://www.geogebra.org/graphing\" frameborder=\"no\" loading=\"lazy\" allowtransparency=\"true\" allowfullscreen=\"true\"></iframe>"
      ],
      "text/plain": [
       "<IPython.core.display.HTML object>"
      ]
     },
     "execution_count": 35,
     "metadata": {},
     "output_type": "execute_result"
    }
   ],
   "source": [
    "## Geogebra Iframe (Cartesian Plane)\n",
    "\n",
    "from IPython.display import HTML\n",
    "\n",
    "HTML('<iframe height=\"600\" width=\"100%\" style=\"border: 2px solid gray; padding: 1%; border-radius: 1em;\" scrolling=\"no\" title=\"Test\" src=\"https://www.geogebra.org/graphing\" frameborder=\"no\" loading=\"lazy\" allowtransparency=\"true\" allowfullscreen=\"true\"></iframe>')"
   ]
  },
  {
   "cell_type": "code",
   "execution_count": 36,
   "id": "3a8c6f4d",
   "metadata": {
    "scrolled": false
   },
   "outputs": [
    {
     "data": {
      "text/html": [
       "<iframe height=\"600\" width=\"100%\" style=\"border: 2px solid gray; padding: 1%; border-radius: 1em;\" scrolling=\"no\" title=\"3D-Calculator\" src=\"https://www.geogebra.org/3d/shxt4egn\" frameborder=\"no\" loading=\"lazy\" allowtransparency=\"true\" allowfullscreen=\"true\"></iframe>"
      ],
      "text/plain": [
       "<IPython.core.display.HTML object>"
      ]
     },
     "execution_count": 36,
     "metadata": {},
     "output_type": "execute_result"
    }
   ],
   "source": [
    "## Geogebra Iframe (3D Calculator)\n",
    "\n",
    "from IPython.display import HTML\n",
    "\n",
    "HTML('<iframe height=\"600\" width=\"100%\" style=\"border: 2px solid gray; padding: 1%; border-radius: 1em;\" scrolling=\"no\" title=\"3D-Calculator\" src=\"https://www.geogebra.org/3d/shxt4egn\" frameborder=\"no\" loading=\"lazy\" allowtransparency=\"true\" allowfullscreen=\"true\"></iframe>')"
   ]
  },
  {
   "cell_type": "markdown",
   "id": "111bbd96",
   "metadata": {},
   "source": [
    "$$\n",
    "a + b + c = \\underbrace{(a + b) + c}_{\\text{Anotación horizontal inferior}}\n",
    "$$\n",
    "\n",
    "\n",
    "$$\n",
    "a + b + c = \\overbrace{a + (b + c)}^{\\text{Anotación horizontal superior}}\n",
    "$$\n",
    "\n",
    "\n",
    "$$\n",
    "a + b + c = a + \\underset{\\text{Anotación vertical inferior}}{b} + c\n",
    "$$\n",
    "\n",
    "\n",
    "$$\n",
    "a + b + c = a + \\overset{\\text{Anotación vertical superior}}{b} + c\n",
    "$$"
   ]
  },
  {
   "cell_type": "code",
   "execution_count": 80,
   "id": "23163dcd",
   "metadata": {},
   "outputs": [
    {
     "data": {
      "text/markdown": [
       "### Resuelva: $8x = 64$"
      ],
      "text/plain": [
       "<IPython.core.display.Markdown object>"
      ]
     },
     "metadata": {},
     "output_type": "display_data"
    },
    {
     "data": {
      "application/vnd.jupyter.widget-view+json": {
       "model_id": "be1187910f1144ba9f40718b46437dc3",
       "version_major": 2,
       "version_minor": 0
      },
      "text/plain": [
       "Text(value='', description='$x =$', placeholder='Ingrese la respuesta')"
      ]
     },
     "metadata": {},
     "output_type": "display_data"
    },
    {
     "data": {
      "application/vnd.jupyter.widget-view+json": {
       "model_id": "15168160e8c34116a5f889fdc2f895d1",
       "version_major": 2,
       "version_minor": 0
      },
      "text/plain": [
       "Button(description='Verificar Respuesta', style=ButtonStyle())"
      ]
     },
     "metadata": {},
     "output_type": "display_data"
    },
    {
     "data": {
      "application/vnd.jupyter.widget-view+json": {
       "model_id": "893b09b4f62a4f0b9a1b9e4cf4e9af63",
       "version_major": 2,
       "version_minor": 0
      },
      "text/plain": [
       "Output()"
      ]
     },
     "metadata": {},
     "output_type": "display_data"
    }
   ],
   "source": [
    "import ipywidgets as widgets\n",
    "from IPython.display import display, Markdown\n",
    "import random\n",
    "\n",
    "num1 = 1\n",
    "num2 = 1\n",
    "\n",
    "rand1 = random.randint(1, 100)\n",
    "rand2 = random.randint(1, 1000)\n",
    "if rand2 % rand1 == 0:\n",
    "    num1 = rand1\n",
    "    num2 = rand2\n",
    "    equation = f\"${num1}x = {num2}$\"\n",
    "    solution = (num2 / num1)\n",
    "\n",
    "# Definir la ecuación y la solución\n",
    "# equation = f\"${num1}x = {num2}$\"\n",
    "\n",
    "# Crear los widgets\n",
    "input_text = widgets.Text(description=\"$x =$\", placeholder=\"Ingrese la respuesta\")\n",
    "check_button = widgets.Button(description=\"Verificar Respuesta\")\n",
    "output_area = widgets.Output()\n",
    "\n",
    "# Función para verificar la respuesta\n",
    "def check_answer(b):\n",
    "    user_answer = input_text.value\n",
    "    try:\n",
    "        user_answer = float(user_answer)\n",
    "        if user_answer == solution:\n",
    "            result = f\"Correcto! la solución es $x = {solution}$.\"\n",
    "        else:\n",
    "            result = f\"Incorrecto. Intente nuevamente.\"\n",
    "    except ValueError:\n",
    "        result = \"Por favor, ingrese un número válido.\"\n",
    "    \n",
    "    with output_area:\n",
    "        output_area.clear_output()\n",
    "        display(Markdown(result))\n",
    "\n",
    "# Asignar la función al botón\n",
    "check_button.on_click(check_answer)\n",
    "\n",
    "# Mostrar los widgets\n",
    "display(Markdown(f\"### Resuelva: {equation}\"))\n",
    "display(input_text)\n",
    "display(check_button)\n",
    "display(output_area)\n"
   ]
  },
  {
   "cell_type": "code",
   "execution_count": 41,
   "id": "5f7387f9",
   "metadata": {},
   "outputs": [
    {
     "data": {
      "application/vnd.jupyter.widget-view+json": {
       "model_id": "e9c00ef339a94b48b19a613ec673a9a1",
       "version_major": 2,
       "version_minor": 0
      },
      "text/plain": [
       "interactive(children=(FloatSlider(value=1.0, description='a:', max=5.0, min=-5.0), FloatSlider(value=1.0, desc…"
      ]
     },
     "metadata": {},
     "output_type": "display_data"
    }
   ],
   "source": [
    "from mpl_toolkits.mplot3d import Axes3D\n",
    "\n",
    "# Función para graficar una superficie 3D\n",
    "def plot_surface(a, b):\n",
    "    fig = plt.figure(figsize=(8, 6))\n",
    "    ax = fig.add_subplot(111, projection='3d')\n",
    "    x = np.linspace(-5, 5, 100)\n",
    "    y = np.linspace(-5, 5, 100)\n",
    "    X, Y = np.meshgrid(x, y)\n",
    "    Z = a * X**2 + b * Y**2\n",
    "    ax.plot_surface(X, Y, Z, cmap='viridis')\n",
    "    ax.set_title(r'Surface: $z = ax^2 + by^2$')\n",
    "    ax.set_xlabel('x')\n",
    "    ax.set_ylabel('y')\n",
    "    ax.set_zlabel('z')\n",
    "    plt.show()\n",
    "\n",
    "# Crear sliders para los coeficientes\n",
    "a_slider = FloatSlider(min=-5, max=5, step=0.1, value=1, description='a:')\n",
    "b_slider = FloatSlider(min=-5, max=5, step=0.1, value=1, description='b:')\n",
    "\n",
    "# Usar interact para ajustar los parámetros en tiempo real\n",
    "interact(plot_surface, a=a_slider, b=b_slider);\n"
   ]
  },
  {
   "cell_type": "code",
   "execution_count": 42,
   "id": "50fb4190",
   "metadata": {},
   "outputs": [
    {
     "data": {
      "application/vnd.jupyter.widget-view+json": {
       "model_id": "8dcd8b88e710433db4dc5f1084968225",
       "version_major": 2,
       "version_minor": 0
      },
      "text/plain": [
       "interactive(children=(FloatSlider(value=20.0, description='v0:', max=50.0, step=1.0), FloatSlider(value=45.0, …"
      ]
     },
     "metadata": {},
     "output_type": "display_data"
    }
   ],
   "source": [
    "import matplotlib.pyplot as plt\n",
    "from matplotlib.animation import FuncAnimation\n",
    "import numpy as np\n",
    "\n",
    "# Función para simular y graficar el movimiento de un objeto\n",
    "def simulate_motion(v0, theta):\n",
    "    g = 9.81  # gravedad\n",
    "    theta_rad = np.radians(theta)\n",
    "    t = np.linspace(0, 2 * v0 * np.sin(theta_rad) / g, num=500)\n",
    "    x = v0 * np.cos(theta_rad) * t\n",
    "    y = v0 * np.sin(theta_rad) * t - 0.5 * g * t**2\n",
    "\n",
    "    fig, ax = plt.subplots()\n",
    "    ax.set_xlim(0, max(x))\n",
    "    ax.set_ylim(0, max(y))\n",
    "    line, = ax.plot([], [], lw=2)\n",
    "\n",
    "    def init():\n",
    "        line.set_data([], [])\n",
    "        return line,\n",
    "\n",
    "    def update(frame):\n",
    "        line.set_data(x[:frame], y[:frame])\n",
    "        return line,\n",
    "\n",
    "    ani = FuncAnimation(fig, update, frames=len(t), init_func=init, blit=True, interval=20)\n",
    "    plt.show()\n",
    "\n",
    "# Crear sliders para la velocidad inicial y el ángulo\n",
    "v0_slider = FloatSlider(min=0, max=50, step=1, value=20, description='v0:')\n",
    "theta_slider = FloatSlider(min=0, max=90, step=1, value=45, description='θ:')\n",
    "\n",
    "# Usar interact para ajustar los parámetros en tiempo real\n",
    "interact(simulate_motion, v0=v0_slider, theta=theta_slider);\n"
   ]
  },
  {
   "cell_type": "code",
   "execution_count": 85,
   "id": "a27be167",
   "metadata": {},
   "outputs": [
    {
     "data": {
      "text/markdown": [
       "### Resuelva: $2x = 0$"
      ],
      "text/plain": [
       "<IPython.core.display.Markdown object>"
      ]
     },
     "metadata": {},
     "output_type": "display_data"
    },
    {
     "data": {
      "application/vnd.jupyter.widget-view+json": {
       "model_id": "326342cea9454381af359e87bdc00310",
       "version_major": 2,
       "version_minor": 0
      },
      "text/plain": [
       "Text(value='', description='$x =$', placeholder='Ingrese la respuesta')"
      ]
     },
     "metadata": {},
     "output_type": "display_data"
    },
    {
     "data": {
      "application/vnd.jupyter.widget-view+json": {
       "model_id": "94d7bc82d511496b8bd2ef0a84fba35d",
       "version_major": 2,
       "version_minor": 0
      },
      "text/plain": [
       "Button(description='Verificar Respuesta', style=ButtonStyle())"
      ]
     },
     "metadata": {},
     "output_type": "display_data"
    },
    {
     "data": {
      "application/vnd.jupyter.widget-view+json": {
       "model_id": "617e7d5f497c4262855c4113b000449f",
       "version_major": 2,
       "version_minor": 0
      },
      "text/plain": [
       "Button(description='Nuevo Ejercicio', style=ButtonStyle())"
      ]
     },
     "metadata": {},
     "output_type": "display_data"
    },
    {
     "data": {
      "application/vnd.jupyter.widget-view+json": {
       "model_id": "9c85a8cb80614efaab9b99b7fd5f0e4b",
       "version_major": 2,
       "version_minor": 0
      },
      "text/plain": [
       "Output()"
      ]
     },
     "metadata": {},
     "output_type": "display_data"
    }
   ],
   "source": [
    "import ipywidgets as widgets\n",
    "from IPython.display import display, Markdown\n",
    "import random\n",
    "\n",
    "# Función para generar números aleatorios que cumplan con la condición\n",
    "def generate_equation():\n",
    "    while True:\n",
    "        num1 = random.randint(2, 10)\n",
    "        num2 = random.randint(-100, 100)\n",
    "        if num2 % num1 == 0:\n",
    "            return num1, num2\n",
    "\n",
    "# Función para actualizar la ecuación y solución\n",
    "def update_equation():\n",
    "    global num1, num2, solution, equation\n",
    "    num1, num2 = generate_equation()\n",
    "    equation = f\"${num1}x = {num2}$\"\n",
    "    solution = num2 // num1\n",
    "\n",
    "# Inicializar la ecuación y solución\n",
    "update_equation()\n",
    "\n",
    "# Crear los widgets\n",
    "input_text = widgets.Text(description=\"$x =$\", placeholder=\"Ingrese la respuesta\")\n",
    "check_button = widgets.Button(description=\"Verificar Respuesta\")\n",
    "new_button = widgets.Button(description=\"Nuevo Ejercicio\")\n",
    "output_area = widgets.Output()\n",
    "\n",
    "# Función para verificar la respuesta\n",
    "def check_answer(b):\n",
    "    user_answer = input_text.value\n",
    "    try:\n",
    "        user_answer = float(user_answer)\n",
    "        if user_answer == solution:\n",
    "            result = f\"Correcto! La solución es $x = {solution}$.\"\n",
    "        else:\n",
    "            result = f\"Incorrecto. Intente nuevamente.\"\n",
    "    except ValueError:\n",
    "        result = \"Por favor, ingrese un número válido.\"\n",
    "    \n",
    "    with output_area:\n",
    "        output_area.clear_output()\n",
    "        display(Markdown(result))\n",
    "\n",
    "# Función para generar un nuevo ejercicio\n",
    "def new_exercise(b):\n",
    "    update_equation()\n",
    "    with output_area:\n",
    "        output_area.clear_output()\n",
    "        display(Markdown(f\"### Resuelva: {equation}\"))\n",
    "    input_text.value = ''\n",
    "\n",
    "# Asignar las funciones a los botones\n",
    "check_button.on_click(check_answer)\n",
    "new_button.on_click(new_exercise)\n",
    "\n",
    "# Mostrar los widgets\n",
    "display(Markdown(f\"### Resuelva: {equation}\"))\n",
    "display(input_text)\n",
    "display(check_button)\n",
    "display(new_button)\n",
    "display(output_area)\n"
   ]
  },
  {
   "cell_type": "markdown",
   "id": "25b16581",
   "metadata": {},
   "source": [
    "## geogebra test\n",
    "\n",
    "Recurso: Calculadora gráfica interactiva.\n",
    "\n",
    "<iframe height=\"600\" width=\"100%\" style=\"border: 2px solid gray; padding: 1%; border-radius: 1em;\" scrolling=\"no\" title=\"Test\" src=\"https://www.geogebra.org/graphing\" frameborder=\"no\" loading=\"lazy\" allowtransparency=\"true\" allowfullscreen=\"true\"></iframe>\n",
    "\n",
    "> https://www.geogebra.org/graphing"
   ]
  },
  {
   "cell_type": "markdown",
   "id": "30967e0c",
   "metadata": {},
   "source": [
    "## SVGs\n",
    "\n",
    "my SVG: \n",
    "<svg width=\"100\" height=\"100\" xmlns=\"http://www.w3.org/2000/svg\">\n",
    "  <circle cx=\"50\" cy=\"50\" r=\"40\" stroke=\"green\" stroke-width=\"4\" fill=\"yellow\" />\n",
    "</svg>"
   ]
  },
  {
   "cell_type": "code",
   "execution_count": 14,
   "id": "3e4396cd",
   "metadata": {},
   "outputs": [
    {
     "data": {
      "text/html": [
       "<?xml version=\"1.0\" encoding=\"UTF-8\"?>\n",
       "<!DOCTYPE svg PUBLIC \"-//W3C//DTD SVG 1.1//EN\" \"http://www.w3.org/Graphics/SVG/1.1/DTD/svg11.dtd\">\n",
       "<svg xmlns=\"http://www.w3.org/2000/svg\" style=\"background-color: rgb(255, 255, 255);\" xmlns:xlink=\"http://www.w3.org/1999/xlink\" version=\"1.1\" width=\"25vw\" height=\"204px\" viewBox=\"-0.5 -0.5 245 174\"><defs/><rect fill=\"#ffffff\" width=\"100%\" height=\"100%\" x=\"0\" y=\"0\"/><g><g><rect x=\"66\" y=\"51\" width=\"91\" height=\"30\" fill=\"none\" stroke=\"none\" pointer-events=\"all\"/></g><g><g transform=\"translate(-0.5 -0.5)\"><switch><foreignObject style=\"overflow: visible; text-align: left;\" pointer-events=\"none\" width=\"100%\" height=\"100%\" requiredFeatures=\"http://www.w3.org/TR/SVG11/feature#Extensibility\"><div xmlns=\"http://www.w3.org/1999/xhtml\" style=\"display: flex; align-items: unsafe center; justify-content: unsafe center; width: 89px; height: 1px; padding-top: 66px; margin-left: 67px;\"><div style=\"box-sizing: border-box; font-size: 0px; text-align: center;\" data-drawio-colors=\"color: rgb(0, 0, 0); \"><div style=\"display: inline-block; font-size: 18px; font-family: Helvetica; color: rgb(0, 0, 0); line-height: 1.2; pointer-events: all; white-space: normal; overflow-wrap: normal;\">23 : 7 = 3</div></div></div></foreignObject><image x=\"67\" y=\"55.5\" width=\"89\" height=\"26.5\" xlink:href=\"data:image/png;base64,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\"/></switch></g></g><g><rect x=\"43\" y=\"72\" width=\"60\" height=\"30\" rx=\"4.5\" ry=\"4.5\" fill=\"none\" stroke=\"none\" pointer-events=\"all\"/></g><g><g transform=\"translate(-0.5 -0.5)\"><switch><foreignObject style=\"overflow: visible; text-align: left;\" pointer-events=\"none\" width=\"100%\" height=\"100%\" requiredFeatures=\"http://www.w3.org/TR/SVG11/feature#Extensibility\"><div xmlns=\"http://www.w3.org/1999/xhtml\" style=\"display: flex; align-items: unsafe center; justify-content: unsafe center; width: 58px; height: 1px; padding-top: 87px; margin-left: 44px;\"><div style=\"box-sizing: border-box; font-size: 0px; text-align: center;\" data-drawio-colors=\"color: rgb(0, 0, 0); \"><div style=\"display: inline-block; font-size: 18px; font-family: Helvetica; color: rgb(0, 0, 0); line-height: 1.2; pointer-events: all; white-space: normal; overflow-wrap: normal;\"><span style=\"-webkit-line-clamp: 3;\" class=\"kY2IgmnCmOGjharHErah\"><span>—</span></span> 21</div></div></div></foreignObject><image x=\"44\" y=\"76.5\" width=\"58\" height=\"26.5\" xlink:href=\"data:image/png;base64,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\"/></switch></g></g><g><rect x=\"50\" y=\"76\" width=\"60\" height=\"30\" fill=\"none\" stroke=\"none\" pointer-events=\"all\"/></g><g><g transform=\"translate(-0.5 -0.5)\"><switch><foreignObject style=\"overflow: visible; text-align: left;\" pointer-events=\"none\" width=\"100%\" height=\"100%\" requiredFeatures=\"http://www.w3.org/TR/SVG11/feature#Extensibility\"><div xmlns=\"http://www.w3.org/1999/xhtml\" style=\"display: flex; align-items: unsafe center; justify-content: unsafe center; width: 58px; height: 1px; padding-top: 91px; margin-left: 51px;\"><div style=\"box-sizing: border-box; font-size: 0px; text-align: center;\" data-drawio-colors=\"color: rgb(0, 0, 0); \"><div style=\"display: inline-block; font-size: 18px; font-family: Helvetica; color: rgb(0, 0, 0); line-height: 1.2; pointer-events: all; white-space: normal; overflow-wrap: normal;\">____</div></div></div></foreignObject><image x=\"51\" y=\"80.5\" width=\"58\" height=\"26.5\" xlink:href=\"data:image/png;base64,iVBORw0KGgoAAAANSUhEUgAAAOgAAABqCAYAAAC20R2rAAADOklEQVR4Xu3YwU0VUBQGYV5Y6IIO6MUa7McYibEhaqAWO1BXJnpfAywIiznnfSSsyCP/nTmTEC53vhBAIEvgkl1mGAII3AnUESAQJiDQsBzTEBCoG0AgTECgYTmmISBQN4BAmIBAw3JMQ0CgbgCBMAGBhuWYhoBA3QACYQICDcsxDQGBugEEwgQEGpZjGgICdQMIhAkINCzHNAQE6gYQCBMQaFiOaQgI1A0gECYg0LAc0xAQqBtAIExAoGE5piEgUDeAQJiAQMNyTENAoG4AgTABgYblmIaAQN0AAmECAg3LMQ0BgboBBMIEBBqWYxoCAnUDCIQJCDQsxzQEBOoGEAgTEGhYjmkICNQNIBAmINCwHNMQEKgbQCBMQKBhOaYhIFA3gECYgEDDckxDQKBuAIEwAYGG5ZiGgEDdAAJhAgINyzENAYG6AQTCBAQalmMaAgJ1AwiECQg0LMc0BATqBhAIExBoWI5pCAjUDSAQJiDQsBzTEBCoG0AgTECgYTmmISBQN4BAmIBAw3JMQ0CgbgCBMAGBhuWYhoBA3QACYQICDcsxDQGBugEEwgQEGpZjGgICdQMIhAkINCzHNAQE6gYQCBMQaFiOaQjUAr0/Sj6Etfw722rMwrhGTvtTWl07ti8Hzo8SIFtujsCn8+KXyqtrgX4/YL5W4NhxkwQ+n1c/V14u0IoJOyoEBPqKiafzs28VU3bcJAGBvqL94fzsMXwW139iXf/q+BvdeN338Xz/tu/NBH6eT/5686ff+YO1P3Hf+Xl+HQKzCQh0tj/rlxMQ6HLBnjebgEBn+7N+OQGBLhfsebMJCHS2P+uXExDocsGeN5uAQGf7s345AYEuF+x5swkIdLY/65cTEOhywZ43m4BAZ/uzfjkBgS4X7HmzCQh0tj/rlxMQ6HLBnjebgEBn+7N+OQGBLhfsebMJCHS2P+uXExDocsGeN5uAQGf7s345AYEuF+x5swkIdLY/65cTEOhywZ43m4BAZ/uzfjkBgS4X7HmzCQh0tj/rlxMQ6HLBnjebgEBn+7N+OQGBLhfsebMJCHS2P+uXExDocsGeN5uAQGf7s345AYEuF+x5swkIdLY/65cT+A8+Vw9rjcK2nQAAAABJRU5ErkJggg==\"/></switch></g></g><g><rect x=\"59\" y=\"97\" width=\"60\" height=\"30\" fill=\"none\" stroke=\"none\" pointer-events=\"all\"/></g><g><g transform=\"translate(-0.5 -0.5)\"><switch><foreignObject style=\"overflow: visible; text-align: left;\" pointer-events=\"none\" width=\"100%\" height=\"100%\" requiredFeatures=\"http://www.w3.org/TR/SVG11/feature#Extensibility\"><div xmlns=\"http://www.w3.org/1999/xhtml\" style=\"display: flex; align-items: unsafe center; justify-content: unsafe center; width: 58px; height: 1px; padding-top: 112px; margin-left: 60px;\"><div style=\"box-sizing: border-box; font-size: 0px; text-align: center;\" data-drawio-colors=\"color: rgb(0, 0, 0); \"><div style=\"display: inline-block; font-size: 18px; font-family: Helvetica; color: rgb(0, 0, 0); line-height: 1.2; pointer-events: all; white-space: normal; overflow-wrap: normal;\">2</div></div></div></foreignObject><image x=\"60\" y=\"101.5\" width=\"58\" height=\"26.5\" xlink:href=\"data:image/png;base64,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\"/></switch></g></g><g><rect x=\"12\" y=\"12\" width=\"60\" height=\"30\" fill=\"none\" stroke=\"none\" pointer-events=\"all\"/></g><g><g transform=\"translate(-0.5 -0.5)\"><switch><foreignObject style=\"overflow: visible; text-align: left;\" pointer-events=\"none\" width=\"100%\" height=\"100%\" requiredFeatures=\"http://www.w3.org/TR/SVG11/feature#Extensibility\"><div xmlns=\"http://www.w3.org/1999/xhtml\" style=\"display: flex; align-items: unsafe center; justify-content: unsafe center; width: 58px; height: 1px; padding-top: 27px; margin-left: 13px;\"><div style=\"box-sizing: border-box; font-size: 0px; text-align: center;\" data-drawio-colors=\"color: rgb(0, 0, 0); \"><div style=\"display: inline-block; font-size: 10px; font-family: Helvetica; color: rgb(0, 0, 0); line-height: 1.2; pointer-events: all; white-space: normal; overflow-wrap: normal;\"><font style=\"font-size: 12px;\">Dividendo</font></div></div></div></foreignObject><image x=\"13\" y=\"20.5\" width=\"58\" height=\"16.5\" xlink:href=\"data:image/png;base64,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\"/></switch></g></g><g><rect x=\"112\" y=\"12\" width=\"60\" height=\"30\" fill=\"none\" stroke=\"none\" pointer-events=\"all\"/></g><g><g transform=\"translate(-0.5 -0.5)\"><switch><foreignObject style=\"overflow: visible; text-align: left;\" pointer-events=\"none\" width=\"100%\" height=\"100%\" requiredFeatures=\"http://www.w3.org/TR/SVG11/feature#Extensibility\"><div xmlns=\"http://www.w3.org/1999/xhtml\" style=\"display: flex; align-items: unsafe center; justify-content: unsafe center; width: 58px; height: 1px; padding-top: 27px; margin-left: 113px;\"><div style=\"box-sizing: border-box; font-size: 0px; text-align: center;\" data-drawio-colors=\"color: rgb(0, 0, 0); \"><div style=\"display: inline-block; font-size: 12px; font-family: Helvetica; color: rgb(0, 0, 0); line-height: 1.2; pointer-events: all; white-space: normal; overflow-wrap: normal;\">Divisor</div></div></div></foreignObject><image x=\"113\" y=\"20.5\" width=\"58\" height=\"17\" xlink:href=\"data:image/png;base64,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\"/></switch></g></g><g><rect x=\"172\" y=\"51\" width=\"60\" height=\"30\" fill=\"none\" stroke=\"none\" pointer-events=\"all\"/></g><g><g transform=\"translate(-0.5 -0.5)\"><switch><foreignObject style=\"overflow: visible; text-align: left;\" pointer-events=\"none\" width=\"100%\" height=\"100%\" requiredFeatures=\"http://www.w3.org/TR/SVG11/feature#Extensibility\"><div xmlns=\"http://www.w3.org/1999/xhtml\" style=\"display: flex; align-items: unsafe center; justify-content: unsafe center; width: 58px; height: 1px; padding-top: 66px; margin-left: 173px;\"><div style=\"box-sizing: border-box; font-size: 0px; text-align: center;\" data-drawio-colors=\"color: rgb(0, 0, 0); \"><div style=\"display: inline-block; font-size: 12px; font-family: Helvetica; color: rgb(0, 0, 0); line-height: 1.2; pointer-events: all; white-space: normal; overflow-wrap: normal;\">Cociente</div></div></div></foreignObject><image x=\"173\" y=\"59.5\" width=\"58\" height=\"17\" xlink:href=\"data:image/png;base64,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\"/></switch></g></g><g><rect x=\"85\" y=\"131\" width=\"60\" height=\"30\" fill=\"none\" stroke=\"none\" pointer-events=\"all\"/></g><g><g transform=\"translate(-0.5 -0.5)\"><switch><foreignObject style=\"overflow: visible; text-align: left;\" pointer-events=\"none\" width=\"100%\" height=\"100%\" requiredFeatures=\"http://www.w3.org/TR/SVG11/feature#Extensibility\"><div xmlns=\"http://www.w3.org/1999/xhtml\" style=\"display: flex; align-items: unsafe center; justify-content: unsafe center; width: 58px; height: 1px; padding-top: 146px; margin-left: 86px;\"><div style=\"box-sizing: border-box; font-size: 0px; text-align: center;\" data-drawio-colors=\"color: rgb(0, 0, 0); \"><div style=\"display: inline-block; font-size: 12px; font-family: Helvetica; color: rgb(0, 0, 0); line-height: 1.2; pointer-events: all; white-space: normal; overflow-wrap: normal;\">Resto</div></div></div></foreignObject><image x=\"86\" y=\"139.5\" width=\"58\" height=\"17\" xlink:href=\"data:image/png;base64,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\"/></switch></g></g><g><path d=\"M 41 37 L 64.25 57.76\" fill=\"none\" stroke=\"rgb(0, 0, 0)\" stroke-miterlimit=\"10\" pointer-events=\"stroke\"/><path d=\"M 68.17 61.26 L 60.61 59.2 L 64.25 57.76 L 65.28 53.98 Z\" fill=\"rgb(0, 0, 0)\" stroke=\"rgb(0, 0, 0)\" stroke-miterlimit=\"10\" pointer-events=\"all\"/></g><g><path d=\"M 142 36 L 126.73 49.74\" fill=\"none\" stroke=\"rgb(0, 0, 0)\" stroke-miterlimit=\"10\" pointer-events=\"stroke\"/><path d=\"M 122.83 53.25 L 125.69 45.97 L 126.73 49.74 L 130.38 51.17 Z\" fill=\"rgb(0, 0, 0)\" stroke=\"rgb(0, 0, 0)\" stroke-miterlimit=\"10\" pointer-events=\"all\"/></g><g><path d=\"M 175 65.86 L 161.37 65.86\" fill=\"none\" stroke=\"rgb(0, 0, 0)\" stroke-miterlimit=\"10\" pointer-events=\"stroke\"/><path d=\"M 156.12 65.86 L 163.12 62.36 L 161.37 65.86 L 163.12 69.36 Z\" fill=\"rgb(0, 0, 0)\" stroke=\"rgb(0, 0, 0)\" stroke-miterlimit=\"10\" pointer-events=\"all\"/></g><g><path d=\"M 112.8 137.79 L 101.36 125.64\" fill=\"none\" stroke=\"rgb(0, 0, 0)\" stroke-miterlimit=\"10\" pointer-events=\"stroke\"/><path d=\"M 97.77 121.81 L 105.11 124.51 L 101.36 125.64 L 100.01 129.31 Z\" fill=\"rgb(0, 0, 0)\" stroke=\"rgb(0, 0, 0)\" stroke-miterlimit=\"10\" pointer-events=\"all\"/></g></g></svg>"
      ],
      "text/plain": [
       "<IPython.core.display.HTML object>"
      ]
     },
     "execution_count": 14,
     "metadata": {},
     "output_type": "execute_result"
    }
   ],
   "source": [
    "## Geogebra Iframe (3D Calculator)\n",
    "\n",
    "from IPython.display import HTML\n",
    "\n",
    "HTML('''<?xml version=\"1.0\" encoding=\"UTF-8\"?>\n",
    "<!DOCTYPE svg PUBLIC \"-//W3C//DTD SVG 1.1//EN\" \"http://www.w3.org/Graphics/SVG/1.1/DTD/svg11.dtd\">\n",
    "<svg xmlns=\"http://www.w3.org/2000/svg\" style=\"background-color: rgb(255, 255, 255);\" xmlns:xlink=\"http://www.w3.org/1999/xlink\" version=\"1.1\" width=\"25vw\" height=\"204px\" viewBox=\"-0.5 -0.5 245 174\"><defs/><rect fill=\"#ffffff\" width=\"100%\" height=\"100%\" x=\"0\" y=\"0\"/><g><g><rect x=\"66\" y=\"51\" width=\"91\" height=\"30\" fill=\"none\" stroke=\"none\" pointer-events=\"all\"/></g><g><g transform=\"translate(-0.5 -0.5)\"><switch><foreignObject style=\"overflow: visible; text-align: left;\" pointer-events=\"none\" width=\"100%\" height=\"100%\" requiredFeatures=\"http://www.w3.org/TR/SVG11/feature#Extensibility\"><div xmlns=\"http://www.w3.org/1999/xhtml\" style=\"display: flex; align-items: unsafe center; justify-content: unsafe center; width: 89px; height: 1px; padding-top: 66px; margin-left: 67px;\"><div style=\"box-sizing: border-box; font-size: 0px; text-align: center;\" data-drawio-colors=\"color: rgb(0, 0, 0); \"><div style=\"display: inline-block; font-size: 18px; font-family: Helvetica; color: rgb(0, 0, 0); line-height: 1.2; pointer-events: all; white-space: normal; overflow-wrap: normal;\">23 : 7 = 3</div></div></div></foreignObject><image x=\"67\" y=\"55.5\" width=\"89\" height=\"26.5\" xlink:href=\"data:image/png;base64,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\"/></switch></g></g><g><rect x=\"43\" y=\"72\" width=\"60\" height=\"30\" rx=\"4.5\" ry=\"4.5\" fill=\"none\" stroke=\"none\" pointer-events=\"all\"/></g><g><g transform=\"translate(-0.5 -0.5)\"><switch><foreignObject style=\"overflow: visible; text-align: left;\" pointer-events=\"none\" width=\"100%\" height=\"100%\" requiredFeatures=\"http://www.w3.org/TR/SVG11/feature#Extensibility\"><div xmlns=\"http://www.w3.org/1999/xhtml\" style=\"display: flex; align-items: unsafe center; justify-content: unsafe center; width: 58px; height: 1px; padding-top: 87px; margin-left: 44px;\"><div style=\"box-sizing: border-box; font-size: 0px; text-align: center;\" data-drawio-colors=\"color: rgb(0, 0, 0); \"><div style=\"display: inline-block; font-size: 18px; font-family: Helvetica; color: rgb(0, 0, 0); line-height: 1.2; pointer-events: all; white-space: normal; overflow-wrap: normal;\"><span style=\"-webkit-line-clamp: 3;\" class=\"kY2IgmnCmOGjharHErah\"><span>—</span></span> 21</div></div></div></foreignObject><image x=\"44\" y=\"76.5\" width=\"58\" height=\"26.5\" xlink:href=\"data:image/png;base64,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\"/></switch></g></g><g><rect x=\"50\" y=\"76\" width=\"60\" height=\"30\" fill=\"none\" stroke=\"none\" pointer-events=\"all\"/></g><g><g transform=\"translate(-0.5 -0.5)\"><switch><foreignObject style=\"overflow: visible; text-align: left;\" pointer-events=\"none\" width=\"100%\" height=\"100%\" requiredFeatures=\"http://www.w3.org/TR/SVG11/feature#Extensibility\"><div xmlns=\"http://www.w3.org/1999/xhtml\" style=\"display: flex; align-items: unsafe center; justify-content: unsafe center; width: 58px; height: 1px; padding-top: 91px; margin-left: 51px;\"><div style=\"box-sizing: border-box; font-size: 0px; text-align: center;\" data-drawio-colors=\"color: rgb(0, 0, 0); \"><div style=\"display: inline-block; font-size: 18px; font-family: Helvetica; color: rgb(0, 0, 0); line-height: 1.2; pointer-events: all; white-space: normal; overflow-wrap: normal;\">____</div></div></div></foreignObject><image x=\"51\" y=\"80.5\" width=\"58\" height=\"26.5\" xlink:href=\"data:image/png;base64,iVBORw0KGgoAAAANSUhEUgAAAOgAAABqCAYAAAC20R2rAAADOklEQVR4Xu3YwU0VUBQGYV5Y6IIO6MUa7McYibEhaqAWO1BXJnpfAywIiznnfSSsyCP/nTmTEC53vhBAIEvgkl1mGAII3AnUESAQJiDQsBzTEBCoG0AgTECgYTmmISBQN4BAmIBAw3JMQ0CgbgCBMAGBhuWYhoBA3QACYQICDcsxDQGBugEEwgQEGpZjGgICdQMIhAkINCzHNAQE6gYQCBMQaFiOaQgI1A0gECYg0LAc0xAQqBtAIExAoGE5piEgUDeAQJiAQMNyTENAoG4AgTABgYblmIaAQN0AAmECAg3LMQ0BgboBBMIEBBqWYxoCAnUDCIQJCDQsxzQEBOoGEAgTEGhYjmkICNQNIBAmINCwHNMQEKgbQCBMQKBhOaYhIFA3gECYgEDDckxDQKBuAIEwAYGG5ZiGgEDdAAJhAgINyzENAYG6AQTCBAQalmMaAgJ1AwiECQg0LMc0BATqBhAIExBoWI5pCAjUDSAQJiDQsBzTEBCoG0AgTECgYTmmISBQN4BAmIBAw3JMQ0CgbgCBMAGBhuWYhoBA3QACYQICDcsxDQGBugEEwgQEGpZjGgICdQMIhAkINCzHNAQE6gYQCBMQaFiOaQjUAr0/Sj6Etfw722rMwrhGTvtTWl07ti8Hzo8SIFtujsCn8+KXyqtrgX4/YL5W4NhxkwQ+n1c/V14u0IoJOyoEBPqKiafzs28VU3bcJAGBvqL94fzsMXwW139iXf/q+BvdeN338Xz/tu/NBH6eT/5686ff+YO1P3Hf+Xl+HQKzCQh0tj/rlxMQ6HLBnjebgEBn+7N+OQGBLhfsebMJCHS2P+uXExDocsGeN5uAQGf7s345AYEuF+x5swkIdLY/65cTEOhywZ43m4BAZ/uzfjkBgS4X7HmzCQh0tj/rlxMQ6HLBnjebgEBn+7N+OQGBLhfsebMJCHS2P+uXExDocsGeN5uAQGf7s345AYEuF+x5swkIdLY/65cTEOhywZ43m4BAZ/uzfjkBgS4X7HmzCQh0tj/rlxMQ6HLBnjebgEBn+7N+OQGBLhfsebMJCHS2P+uXExDocsGeN5uAQGf7s345AYEuF+x5swkIdLY/65cT+A8+Vw9rjcK2nQAAAABJRU5ErkJggg==\"/></switch></g></g><g><rect x=\"59\" y=\"97\" width=\"60\" height=\"30\" fill=\"none\" stroke=\"none\" pointer-events=\"all\"/></g><g><g transform=\"translate(-0.5 -0.5)\"><switch><foreignObject style=\"overflow: visible; text-align: left;\" pointer-events=\"none\" width=\"100%\" height=\"100%\" requiredFeatures=\"http://www.w3.org/TR/SVG11/feature#Extensibility\"><div xmlns=\"http://www.w3.org/1999/xhtml\" style=\"display: flex; align-items: unsafe center; justify-content: unsafe center; width: 58px; height: 1px; padding-top: 112px; margin-left: 60px;\"><div style=\"box-sizing: border-box; font-size: 0px; text-align: center;\" data-drawio-colors=\"color: rgb(0, 0, 0); \"><div style=\"display: inline-block; font-size: 18px; font-family: Helvetica; color: rgb(0, 0, 0); line-height: 1.2; pointer-events: all; white-space: normal; overflow-wrap: normal;\">2</div></div></div></foreignObject><image x=\"60\" y=\"101.5\" width=\"58\" height=\"26.5\" xlink:href=\"data:image/png;base64,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\"/></switch></g></g><g><rect x=\"12\" y=\"12\" width=\"60\" height=\"30\" fill=\"none\" stroke=\"none\" pointer-events=\"all\"/></g><g><g transform=\"translate(-0.5 -0.5)\"><switch><foreignObject style=\"overflow: visible; text-align: left;\" pointer-events=\"none\" width=\"100%\" height=\"100%\" requiredFeatures=\"http://www.w3.org/TR/SVG11/feature#Extensibility\"><div xmlns=\"http://www.w3.org/1999/xhtml\" style=\"display: flex; align-items: unsafe center; justify-content: unsafe center; width: 58px; height: 1px; padding-top: 27px; margin-left: 13px;\"><div style=\"box-sizing: border-box; font-size: 0px; text-align: center;\" data-drawio-colors=\"color: rgb(0, 0, 0); \"><div style=\"display: inline-block; font-size: 10px; font-family: Helvetica; color: rgb(0, 0, 0); line-height: 1.2; pointer-events: all; white-space: normal; overflow-wrap: normal;\"><font style=\"font-size: 12px;\">Dividendo</font></div></div></div></foreignObject><image x=\"13\" y=\"20.5\" width=\"58\" height=\"16.5\" xlink:href=\"data:image/png;base64,iVBORw0KGgoAAAANSUhEUgAAAOgAAABCCAYAAABdLprwAAAOw0lEQVR4Xu2dBbQlRxGGEyy4u0sguLsuGtxdwuLurlncPbgFd3df3D1wcBYNcHCC6/+RO9BbVM9Uz330m3dSdU6f3Znb+nf/3dXV1fP23CMlEUgEFovAnoutWVYsEUgE9kiC5iBIBBaMQBJ0wZ2TVUsEkqA5BhKBBSOQBF1w52TVEoEkaI6BRGDBCMwl6F5q05y0f1M6wkaJrcfflfFfNyrzhnzAgrqUstFtHfI+rv5DKOW7eqDtKdMIbCn85pDsVMJg1zQO1Ri/0y8MKMK7FN6s8KMZ+e2tNN806V6i5/1m5LVuku3K4IUmk5s779Yth/QPVniIyej4ev7FRmR+GMhjS+E3h6CnVyd+Y4M7cqfyu6vCFxvyPYviHrQQgt5G9XhWErSh9zYvahJ0DewfrbQPU/hDII8k6H9ByhU0MGBWUZKgcazcmKi9V1f400Q+SdAk6Jyhdpgl6Fsm9kHH0e8nUjitwgknkH2Tfr+OwpjBxyPoi5Rm+5xeWzONp+LeTHkeuGa+XvItNcD+D+1fN8sthd9G7kGjahZlnlPhKgrW2FGC/xg93HekN466ImPZhk/o3WfX7cEZ6TFY7WvSvV7PB8/IayrJlhpgU43ZhN+3FH6bQdCyT06mh2euyOr11dn00hqCNqFPF1Xklhpgi0Lu0MpsKfw2m6AAdkSF11VIulPvL7nATt7MKm2pAbaZQFXK3lL4LYGg4Ii6yrmotzc9t95/foEdvVlV2lIDbLNAGil3I/E7ispha/dnBRxFfqXwj41s81IISpvupfBYp3FP0ru7O++PoHeXMu9/oucvrd4B3o2cdG/Tu9a94RWUBnW8lPetJhXenUDhXOb3r+r5h8HOIi1GsTMrnELhLwp0+HcU2FPjgPHLVV7rDrBjKh/2y1jKz6pwGoU/KoDXV1bh5fr3g6s6RJpAHpc2EV+p50NW7463Ku9a+ncfBQyFCPh8T+HtCq9W+FakMCdOL/wYc1cq2nIMpy479Q6D6csUfjqzPf9JtiSC0ok/dxqE5xHuWdZFcOqYpebxdE/l9YQG4I60qpftjOvr/atW+cx1VKANeCCdL1AfjGYPVLi/whxPIgbXrRU4a/YGlq0C5Lm3wisCdfPaD/7kwW/PCORBlP0VHqEQdVvsid/FVC+cUZhEo0J7WHSmjgyr+S2JoFSSjrydU1s6ghWplCmCEvcjChcx6bD0XiiKsOJdToGzWStH14vfr17OIegNlJaVqkXeoch4W1nr9pQFnSMuZnWLRaTsNygSxPYmzyG91/4z6kcmQlacFoEE3hiwefTE704q/KktjSjiMt6uoYB21yxLI+jZVwPQNuQmevFS8zJC0FsqzXMdVE6ud1H/3+co7q1MHi/Q8y2Kd60ERTVHRd4oGSMomsm7FdjLz5VPK+E2hZqHl9d+JtSW1aas25X1wFakJj3xu5sq8cS5wK3SoUlwtNjsL700gmLRZf9lxduHRghaU5tvqwKeHQC9pt4yQD5QpG8hKKsZ+66amklnfkjhtwoXVmDSmpIaQelfVs7aKvZ+/Qb5GDgQmHbVnEjYI16vUhGv/V5USPdthcMpXHykbe/Rb2gunvTE7wKqACugJ9g66KePKfx4hRtn+ywmnqCF0Q9R9f3feSyNoNSJjbUdJBgcUGlKiRCU+DgMoGKUMjYAynieevszRTipAbqFoOzr2E9agZisHPbCwCn1DjVzbAWsEZRV/nlOWVx2uK5TFlEvqMCK600g7MPYNliZIijqIXtLsCvlHHr4gpMfryDir53feuF35BU+Z3DqMGbHwMjHsaFnV/A0wUrzD329RIJ+fDVIyooz+1zetCRK0GuuALNATO3biO+ptw/X+weZzKIExVK6S8FOQDv1DitubZ/HMRSq+g0rvem1hTTseyzR2MdCzsHC6mV5Xr1kdbVpvX4g/RhBuaX0lEq9eX0ZBSZMK56a2xM/TgDstoo63kNhSuUFezQTq+Kj9uN8Ez6KWSJBsYwygEqhsec376IEBazBmFNmMTWb1dRbz2AVJWhtT4yVmjO0MTmafuR4yFvZPIJuV1x7R5X8meEjxz+ooBy1WGHbMBz5DL/VCIp6fdWJdvEzK/ZlTTzPl7knft5C0XLf+Dxqz2ectte0EBemJRL08aops1QpzDwQo5QoQUnjrYSojayuNfHU288pMsBbiRCUfRcXzIczwCEPb0Wu1amm3nkE9SzYnCezn4/KpxTRqmpX0zsu2ZdSIyiGkcgdX88QY9XInvidTvX2zmSxgrPnjIpHco7JHhXNYIkE5exoh2nAh/XMjF5KC0FxF0Rls8JqVFP1MCJxvFDKHfXwdCefCEHZt3qW4xPrffRAGycDVj+7ilqCstp67Yqo9WXz7qCHA0x7oyp+dPUk+2srvMaUwyBmMA/SEz/OuO35L/t2jo7+6fR/7RXqvZ0Qa9sEN48lEvRpqilEKIXzQusV1ELQwyv9YGkr82UFZSW1UlNvuS5nDR2kjRAU4wszailNnbVKiPV4m8nHEg81CgtjKRAb9bZFLqrITI6lsC+zlkqv/Xg8cfk+It6xCfu8UpPqiR9ls6qXch89eJ5uY+3zjg2b+mGJBPWsrrazAKWFoMRnRrYH/LU9hafejq0IEYJ6s3L0UL4cBAfq4aZmVFiC1qy3YdVqlf9J9O92U9ZH9QxxS4m0f2wgexOK7fOe+L1VlbVHU55qPzX5YAz0tKMw78IRi5rUvknUqj7VGufte/DTZW9aSitBPZM+boT40eLsXIqn3qKGYT73JDJAUdc4aijlAXp45FQvm98fqmdrRbbYs397XGO+0ejePtxrP8diHI9FJELQnvh5e0f24p7RZ6x9uFd6Hx1AQwt9fXJpBK3tneZ6ElnwcAa3pu999Q4r4iA4S3BwX+7zIDLqLU7lnkQIynlk6X1EPjzjldQiuMFZ31ZLUEh/v5ZMG+KyF9vHxPfaX9s+eEVFCNoTv6+rkvb8k8sSbJNaxduzcrJQG0u75b80gtbOxDxrYOsKSsO9lYUL47cvUPHqYOPYTooQ1FPdKZe8W8SzeFqC4gPr3QBqKacWlxs2WDlL8dqPc8gbgwVGCNoTvx+o3riDlhI5CrPNZZLHI6wUJnuMfSFZGkG9fWJtUz2HoN4NFwDDa2VwwfLUW/Zc7L1qEiGoZ3hovVlD+R75LEG9K2ngyE2WdQU3RfZopfQgaE/8MLAxaZSCBZeVtUX2VmT77eamyxpLIii3Q1Ah7BFC7dtEcwgKuJ4VdDjf8tRbBjbEHvP+iBDUO7J4svK11sKpAYBPLF5HpViCYgXHGl5Ky7HHVB3s7z0I2hM/79wczar1goNnBW9xdliUq593ZsRA4GqY57A8l6B88f35ZoRhPseM7qm3keOCCEG59M3F5FJwHselrUU8I5olqGfx9FTTlnLH4vYgaE/8GAtW25jzlwI4NbCWc+7y7ogCv5QVlD0NnzWxq6fnmD60bS5BUWetqxqrJE7pGF+46VIKVuupm/4RgmJY+ZrTMS2OCp7KRJaWoLWyWvdR3Oa4s6kzxpryJg8/9yBoT/w8xwl8mK8YJdYqnmeU9FwYq9kugaAMrk8qWBc4Kj1mRJlLUPL11EQG43vNJOGd+XlgRgjK7QjPcof7XvRIBK8UNA0rlqD0629MW0jTetjuuQtypWoz9qA98ePmkPf51pZ96JmUh/3IAH3g+XIvlqDMiujk3tUcztsgTe2voa1DUL7HYz2IKM9e6eKitnddywIaIShpXqvAd3lKYfVmZbRnsbYMVr/ahV/vDNrbR2EQY8WO/GkNDuotEUnP4bv9hEePFbQnfnupMLQma8nl2txdqmza/QfPmDfl//0/WW/WCorRhWMAqz6VFYSc7Ldqsg5BmY1Rn6e+zePd3PDqEyVoTU1DfUKtqhHn2PqNzt1WAcMjKNeahg+olcnYf3OWOnZQjlr/TgWr1ZCWGyVWehG0J361T6pEjsY8t0Qw40YWN7PCspEExdl57ONIWGmPpcCX5Kb+9EPkhsc6BAUgzh/tfrMEjvbYa281YKMEJT3O9uW565AnPq9YZ61rGAfkGJfGvqxQ8+Lyzg4pj4sDtM1bkW+s92g1ntRUvF4E7Ykf/ttoVR7uO/QeP2Nr2YdPOGigKVmJfiRgt3QbSdDa4G19H90nrUvQ2n3Hob7eXqvWlhaC4t865pGCtXX45Alm+si3hGoExY3xIIXahMhszv4foxl4orVYtW5o85hxoydBe+JX+2AcmKDuc/WML0IM+30+CePZUoh/iVW/NvFhaQTdT7Wvzd62YesStHbDZQCfQe99H8kDuIWgpGewt7r4DeXiD2z3sWN+0GOfMIkOFu82UZm2J0F74+e5GEZxG+Jx3OJ95mYynyUQlJkIdZObHXxdPirrEpRycF4v7xwOZbc6ELQSlHJqN07G2s/ZHHvDnSbS1EUF1DRUrKmthVc2xg4wGpusehO0J35cFOeTLfYKZHScRs7Rq3nNISh3Cr8frZ0TD2drXKZ2KWDE4BMnkLRVvFvvDCbc56JSM6S0buZx5n+xKZRPfeC9MyaUw2dJpj5PCT7chyU/9vBfNplyyWDKMsv5Lx++jvrosv9icI19/nKohtf+lk970H7ODEvB2X/KNbEnfjhKHKBQU2FtP+Ncg61hrT9bMoeg0cGf8WIIcCVpmwJGGwYqFm5WKyZB9qM4nHOxO6puT5XKHo4jFPZXp16Vd4j+3WXKtJPAVL6b9XtP/HAFxS0U+wS2Ab7yAJ7sQQ9W4MiMs3MmNc8ppRmjJGgzZJkgEeiHQBK0H9ZZUiLQjEAStBmyTJAI9EMgCdoP6ywpEWhGIAnaDFkmSAT6IZAE7Yd1lpQINCOQBG2GLBMkAv0QSIL2wzpLSgSaEUiCNkOWCRKBfggkQfthnSUlAs0IJEGbIcsEiUA/BJKg/bDOkhKBZgSSoM2QZYJEoB8CSdB+WGdJiUAzAknQZsgyQSLQD4EkaD+ss6REoBmBJGgzZJkgEeiHQBK0H9ZZUiLQjEAStBmyTJAI9EMgCdoP6ywpEWhGIAnaDFkmSAT6IfAvtsDrcCKbC5UAAAAASUVORK5CYII=\"/></switch></g></g><g><rect x=\"112\" y=\"12\" width=\"60\" height=\"30\" fill=\"none\" stroke=\"none\" pointer-events=\"all\"/></g><g><g transform=\"translate(-0.5 -0.5)\"><switch><foreignObject style=\"overflow: visible; text-align: left;\" pointer-events=\"none\" width=\"100%\" height=\"100%\" requiredFeatures=\"http://www.w3.org/TR/SVG11/feature#Extensibility\"><div xmlns=\"http://www.w3.org/1999/xhtml\" style=\"display: flex; align-items: unsafe center; justify-content: unsafe center; width: 58px; height: 1px; padding-top: 27px; margin-left: 113px;\"><div style=\"box-sizing: border-box; font-size: 0px; text-align: center;\" data-drawio-colors=\"color: rgb(0, 0, 0); \"><div style=\"display: inline-block; font-size: 12px; font-family: Helvetica; color: rgb(0, 0, 0); line-height: 1.2; pointer-events: all; white-space: normal; overflow-wrap: normal;\">Divisor</div></div></div></foreignObject><image x=\"113\" y=\"20.5\" width=\"58\" height=\"17\" xlink:href=\"data:image/png;base64,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\"/></switch></g></g><g><rect x=\"172\" y=\"51\" width=\"60\" height=\"30\" fill=\"none\" stroke=\"none\" pointer-events=\"all\"/></g><g><g transform=\"translate(-0.5 -0.5)\"><switch><foreignObject style=\"overflow: visible; text-align: left;\" pointer-events=\"none\" width=\"100%\" height=\"100%\" requiredFeatures=\"http://www.w3.org/TR/SVG11/feature#Extensibility\"><div xmlns=\"http://www.w3.org/1999/xhtml\" style=\"display: flex; align-items: unsafe center; justify-content: unsafe center; width: 58px; height: 1px; padding-top: 66px; margin-left: 173px;\"><div style=\"box-sizing: border-box; font-size: 0px; text-align: center;\" data-drawio-colors=\"color: rgb(0, 0, 0); \"><div style=\"display: inline-block; font-size: 12px; font-family: Helvetica; color: rgb(0, 0, 0); line-height: 1.2; pointer-events: all; white-space: normal; overflow-wrap: normal;\">Cociente</div></div></div></foreignObject><image x=\"173\" y=\"59.5\" width=\"58\" height=\"17\" xlink:href=\"data:image/png;base64,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\"/></switch></g></g><g><rect x=\"85\" y=\"131\" width=\"60\" height=\"30\" fill=\"none\" stroke=\"none\" pointer-events=\"all\"/></g><g><g transform=\"translate(-0.5 -0.5)\"><switch><foreignObject style=\"overflow: visible; text-align: left;\" pointer-events=\"none\" width=\"100%\" height=\"100%\" requiredFeatures=\"http://www.w3.org/TR/SVG11/feature#Extensibility\"><div xmlns=\"http://www.w3.org/1999/xhtml\" style=\"display: flex; align-items: unsafe center; justify-content: unsafe center; width: 58px; height: 1px; padding-top: 146px; margin-left: 86px;\"><div style=\"box-sizing: border-box; font-size: 0px; text-align: center;\" data-drawio-colors=\"color: rgb(0, 0, 0); \"><div style=\"display: inline-block; font-size: 12px; font-family: Helvetica; color: rgb(0, 0, 0); line-height: 1.2; pointer-events: all; white-space: normal; overflow-wrap: normal;\">Resto</div></div></div></foreignObject><image x=\"86\" y=\"139.5\" width=\"58\" height=\"17\" xlink:href=\"data:image/png;base64,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\"/></switch></g></g><g><path d=\"M 41 37 L 64.25 57.76\" fill=\"none\" stroke=\"rgb(0, 0, 0)\" stroke-miterlimit=\"10\" pointer-events=\"stroke\"/><path d=\"M 68.17 61.26 L 60.61 59.2 L 64.25 57.76 L 65.28 53.98 Z\" fill=\"rgb(0, 0, 0)\" stroke=\"rgb(0, 0, 0)\" stroke-miterlimit=\"10\" pointer-events=\"all\"/></g><g><path d=\"M 142 36 L 126.73 49.74\" fill=\"none\" stroke=\"rgb(0, 0, 0)\" stroke-miterlimit=\"10\" pointer-events=\"stroke\"/><path d=\"M 122.83 53.25 L 125.69 45.97 L 126.73 49.74 L 130.38 51.17 Z\" fill=\"rgb(0, 0, 0)\" stroke=\"rgb(0, 0, 0)\" stroke-miterlimit=\"10\" pointer-events=\"all\"/></g><g><path d=\"M 175 65.86 L 161.37 65.86\" fill=\"none\" stroke=\"rgb(0, 0, 0)\" stroke-miterlimit=\"10\" pointer-events=\"stroke\"/><path d=\"M 156.12 65.86 L 163.12 62.36 L 161.37 65.86 L 163.12 69.36 Z\" fill=\"rgb(0, 0, 0)\" stroke=\"rgb(0, 0, 0)\" stroke-miterlimit=\"10\" pointer-events=\"all\"/></g><g><path d=\"M 112.8 137.79 L 101.36 125.64\" fill=\"none\" stroke=\"rgb(0, 0, 0)\" stroke-miterlimit=\"10\" pointer-events=\"stroke\"/><path d=\"M 97.77 121.81 L 105.11 124.51 L 101.36 125.64 L 100.01 129.31 Z\" fill=\"rgb(0, 0, 0)\" stroke=\"rgb(0, 0, 0)\" stroke-miterlimit=\"10\" pointer-events=\"all\"/></g></g></svg>''')"
   ]
  }
 ],
 "metadata": {
  "kernelspec": {
   "display_name": "Python 3 (ipykernel)",
   "language": "python",
   "name": "python3"
  },
  "language_info": {
   "codemirror_mode": {
    "name": "ipython",
    "version": 3
   },
   "file_extension": ".py",
   "mimetype": "text/x-python",
   "name": "python",
   "nbconvert_exporter": "python",
   "pygments_lexer": "ipython3",
   "version": "3.7.16"
  }
 },
 "nbformat": 4,
 "nbformat_minor": 5
}
