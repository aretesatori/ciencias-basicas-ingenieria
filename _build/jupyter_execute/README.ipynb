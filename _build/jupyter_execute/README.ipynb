{
 "cells": [
  {
   "cell_type": "markdown",
   "id": "679f603a-ed24-413d-9bbe-a235413c3d8f",
   "metadata": {},
   "source": [
    "# My Notebook\n",
    "\n",
    "Apuntes con contenidos de Ciencias Básicas, plan de Bachillerato en Ciencias de la Ingeniería. UACh 2024.\n",
    "\n",
    "# Asignaturas:\n",
    "\n",
    "<span style=\"font-size: 12pt\"></span>\n",
    "## [BAIN065-24 | _Álgebra para Ingeniería_](#)\n",
    "\n",
    "> ### Unidades\n",
    "> 1. [Números Reales y Lenguaje Algebraico](#)\n",
    "> 2. [Ecuaciones Algebraicas](#)\n",
    "> 3. Polinomios con Coeficientes Reales\n",
    "> 4. Lógica y Conjuntos\n",
    "> 5. Orden en los Números Reales\n",
    "> 6. Funciones Reales\n",
    "> 7. Límites y Continuidad\n",
    "\n",
    "<span style=\"font-size: 12pt\"></span>\n",
    "## [BAIN067-24 | _Geometría para Ingeniería_](#)\n",
    "\n",
    "> ### Unidades\n",
    "> 1. [Geometría Plana](#)\n",
    "> 2. Geometría Analítica\n",
    "> 3. Geometría Vectorial\n",
    "> 4. Funciones Trigonométricas, Coordenadas Polares y Números Complejos\n",
    "\n",
    "<span style=\"font-size: 12pt\"></span>\n",
    "## [BAIN069-14 | _Química para Ingeniería_](#)\n",
    "\n",
    "\\~~\n",
    "> * Consultas y sugerencias a mi correo electrónico:  \n",
    "> [arete.poffart@alumnos.uach.cl](mailto:arete.poffart@alumnos.uach.cl) $\\vee$ [aretesatori@gmail.com](mailto:aretesatori@gmail.com)."
   ]
  }
 ],
 "metadata": {
  "kernelspec": {
   "display_name": "Python 3 (ipykernel)",
   "language": "python",
   "name": "python3"
  },
  "language_info": {
   "codemirror_mode": {
    "name": "ipython",
    "version": 3
   },
   "file_extension": ".py",
   "mimetype": "text/x-python",
   "name": "python",
   "nbconvert_exporter": "python",
   "pygments_lexer": "ipython3",
   "version": "3.7.16"
  }
 },
 "nbformat": 4,
 "nbformat_minor": 5
}