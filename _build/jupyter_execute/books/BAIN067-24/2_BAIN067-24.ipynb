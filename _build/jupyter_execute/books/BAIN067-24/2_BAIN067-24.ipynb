{
 "cells": [
  {
   "cell_type": "markdown",
   "id": "53fa7834-fc5e-4b7f-8604-8f0edd9d81f3",
   "metadata": {},
   "source": [
    "# Geometría Analítica\n",
    "\n",
    "## Plano Cartesiano\n",
    "\n",
    "## Distancia entre 2 Puntos\n",
    "\n",
    "$d(P, Q) = \\sqrt{(x_{2} - x_{1})^2 + (y_{2} - y_{1})^2}$"
   ]
  },
  {
   "cell_type": "code",
   "execution_count": null,
   "id": "8f02590b-6b9c-4b6c-b1ca-8c7713d6fb0b",
   "metadata": {},
   "outputs": [],
   "source": []
  }
 ],
 "metadata": {
  "kernelspec": {
   "display_name": "Python 3 (ipykernel)",
   "language": "python",
   "name": "python3"
  },
  "language_info": {
   "codemirror_mode": {
    "name": "ipython",
    "version": 3
   },
   "file_extension": ".py",
   "mimetype": "text/x-python",
   "name": "python",
   "nbconvert_exporter": "python",
   "pygments_lexer": "ipython3",
   "version": "3.7.16"
  }
 },
 "nbformat": 4,
 "nbformat_minor": 5
}